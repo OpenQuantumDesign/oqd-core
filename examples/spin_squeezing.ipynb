{
 "cells": [
  {
   "cell_type": "markdown",
   "id": "42851e34-b499-4746-9401-64b02ba5f57a",
   "metadata": {},
   "source": [
    "# Spin Squeezing\n",
    "\n",
    "See: J. Ma, X. Wang, C.P. Sun, and F. Nori Quantum spin squeezing. Phys. Rep. 509(2-3), 89-165 (2011). https://doi.org/10.1016/j.physrep.2011.08.003\n",
    "\n",
    "Spin squeezing, similar to bosonic squeezing relies on the reduction in noise in one observable to increase measurement accuracy. Similar to bosonic squeezing, the uncertainty relation between two commuting observables is maintained, but with one observable \"carrying\" the noise of the other.\n",
    "\n",
    "## One-axis twisting\n",
    "\n",
    "Similar to the bosonic twisting case, we apply a non-linear hamiltonian to the initial state to create a one-axis twisting. In this example, we consider an ensemble of $N$ spin-$1/2$ particles described by collective operators $J_{\\alpha} = \\frac{1}{2}\\sum\\limits_{l=1}^{N}\\sigma_{l\\alpha}$, $\\alpha = x,y,z$.\n",
    "\n",
    "For a state starting in the negative-z axis $\\lvert \\downarrow \\rangle$, we apply a one-axis twisting hamiltonian $$ H_{OAT} = \\chi J_x^2 = \\frac{\\chi}{4} \\sum\\limits_{k,l = 1}^{N}\\sigma_{kx}\\sigma_{lx} $$\n",
    "where $\\chi$ is the coupling constant.\n",
    "\n",
    "For the state at time $t$, the one-axis twisting angle is defined $\\theta = 2\\chi t$.\n",
    "\n",
    "# Local Observables\n",
    "\n",
    "We look at one local observable $\\langle \\sigma_{1z}\\rangle$ to see some of the squeezing dynamics.\n",
    "\n",
    "From the paper, we see that the expected value of this observable for a one-axis twisted state is \n",
    "$$ \\langle \\sigma_{1z} \\rangle = -\\cos^{N-1}(\\theta / 2)$$"
   ]
  },
  {
   "cell_type": "code",
   "execution_count": 1,
   "id": "2fee38b0-c819-4379-8b01-fc16dd350d07",
   "metadata": {},
   "outputs": [],
   "source": [
    "import numpy as np\n",
    "import matplotlib.pyplot as plt\n",
    "import operator\n",
    "import math\n",
    "import functools\n",
    "import itertools\n",
    "\n",
    "from qutip import *\n",
    "from oqd_core.interface.analog.operator import *\n",
    "from oqd_core.interface.analog.operation import *\n",
    "from oqd_core.backend.metric import *\n",
    "from oqd_core.backend.task import Task, TaskArgsAnalog\n",
    "from oqd_analog_emulator.qutip_backend import QutipBackend"
   ]
  },
  {
   "cell_type": "code",
   "execution_count": 2,
   "id": "ed1d4e08-c3a7-4c48-b194-9ea2dc650cc5",
   "metadata": {},
   "outputs": [],
   "source": [
    "import warnings\n",
    "warnings.filterwarnings(\"ignore\")"
   ]
  },
  {
   "cell_type": "code",
   "execution_count": 3,
   "id": "a819fafb-a089-4fe4-8be0-0ee7f808daf3",
   "metadata": {},
   "outputs": [],
   "source": [
    "def sum(args):\n",
    "    return functools.reduce(operator.add, args)\n",
    "\n",
    "def prod(args):\n",
    "    return functools.reduce(operator.mul, args)\n",
    "\n",
    "def tensor(args):\n",
    "    return functools.reduce(operator.matmul, args)"
   ]
  },
  {
   "cell_type": "code",
   "execution_count": 6,
   "id": "787a5133-97ad-4178-986d-51b79497a4b2",
   "metadata": {},
   "outputs": [],
   "source": [
    "N = 10\n",
    "J = N / 2\n",
    "chi = 0.01\n",
    "\n",
    "def pauli(N, a, op):\n",
    "    return tensor([op if i == a else PauliI() for i in range(N)])\n",
    "\n",
    "def H_oat(N, chi):\n",
    "    H = None\n",
    "    for k in range(N):\n",
    "        for l in range(N):\n",
    "            if H is None:\n",
    "                H = pauli(N, k, PauliX()) * pauli(N, l, PauliX())\n",
    "            else:\n",
    "                H = H + pauli(N, k, PauliX()) * pauli(N, l, PauliX())\n",
    "    return (chi / 4) * H\n",
    "\n",
    "def sigmapm(N, chi):\n",
    "    s = None\n",
    "    for k in range(N):\n",
    "        for l in range(N):\n",
    "            if s is None:\n",
    "                s = pauli(N, k, PauliPlus()) * pauli(N, l, PauliMinus())\n",
    "            else:\n",
    "                s = s + pauli(N, k, PauliPlus()) * pauli(N, l, PauliMinus())\n",
    "    return s\n",
    "\n",
    "H = H_oat(N, chi)\n",
    "\n",
    "circuit = AnalogCircuit()\n",
    "circuit.evolve(duration=10, gate=AnalogGate(hamiltonian= H))\n",
    "\n",
    "args = TaskArgsAnalog(\n",
    "    n_shots=1000,\n",
    "    fock_cutoff=1,\n",
    "    metrics={\n",
    "        \"Jz\": Expectation(operator=pauli(N, 1, PauliZ())),\n",
    "    },\n",
    "    dt=1e-3,\n",
    ")\n",
    "\n",
    "task = Task(program=circuit, args=args)\n",
    "\n",
    "backend = QutipBackend()\n",
    "results = backend.run(task=task)"
   ]
  },
  {
   "cell_type": "code",
   "execution_count": 18,
   "id": "7c3de064-c559-4c65-9427-1847aa6d545f",
   "metadata": {},
   "outputs": [
    {
     "data": {
      "text/plain": [
       "<matplotlib.legend.Legend at 0x77eb02af6390>"
      ]
     },
     "execution_count": 18,
     "metadata": {},
     "output_type": "execute_result"
    },
    {
     "data": {
      "image/png": "[encoded data removed]",
      "text/plain": [
       "<Figure size 640x480 with 1 Axes>"
      ]
     },
     "metadata": {},
     "output_type": "display_data"
    }
   ],
   "source": [
    "jz_res = np.array(results.metrics[\"Jz\"])\n",
    "\n",
    "theory_jz = np.cos(0.01 * np.array(results.times)) ** 9\n",
    "\n",
    "plt.plot(results.times, jz_res, label=f\"$\\\\langle \\\\sigma_z \\\\rangle$\")\n",
    "plt.plot(results.times, theory_jz, label=\"Calculated Result\", linestyle=\"--\")\n",
    "plt.title(\"Expectation value vs. time\")\n",
    "plt.legend()"
   ]
  },
  {
   "cell_type": "code",
   "execution_count": null,
   "id": "aa649a5b-3b29-4ec9-b67e-09a735f8e1a9",
   "metadata": {},
   "outputs": [],
   "source": []
  }
 ],
 "metadata": {
  "kernelspec": {
   "display_name": "py312",
   "language": "python",
   "name": "py312"
  },
  "language_info": {
   "codemirror_mode": {
    "name": "ipython",
    "version": 3
   },
   "file_extension": ".py",
   "mimetype": "text/x-python",
   "name": "python",
   "nbconvert_exporter": "python",
   "pygments_lexer": "ipython3",
   "version": "3.12.3"
  }
 },
 "nbformat": 4,
 "nbformat_minor": 5
}
