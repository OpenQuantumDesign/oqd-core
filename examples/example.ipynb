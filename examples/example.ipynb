{
 "cells": [
  {
   "cell_type": "code",
   "execution_count": null,
   "outputs": [],
   "source": [
    "%load_ext autoreload\n",
    "%autoreload 2"
   ],
   "metadata": {
    "collapsed": false
   }
  },
  {
   "cell_type": "code",
   "execution_count": null,
   "outputs": [],
   "source": [
    "import requests\n",
    "import numpy as np\n",
    "\n",
    "from rich import print as pprint\n",
    "import matplotlib.pyplot as plt\n",
    "import seaborn as sns\n",
    "import numpy as np\n",
    "\n",
    "from quantumion.analog.operator import PauliX, PauliY, PauliZ\n",
    "from quantumion.analog.circuit import AnalogCircuit\n",
    "from quantumion.analog.gate import AnalogGate\n",
    "from backends.analog.qutip import QutipBackend\n",
    "from backends.task import Task, TaskArgsAnalog\n",
    "\n",
    "from backends.provider import Provider"
   ],
   "metadata": {
    "collapsed": false
   }
  },
  {
   "cell_type": "code",
   "execution_count": null,
   "outputs": [],
   "source": [
    "ex = AnalogCircuit()\n",
    "gate = AnalogGate(\n",
    "    duration=1.0,\n",
    "    unitary=[np.pi * PauliX],\n",
    "    dissipation=[]\n",
    ")\n",
    "ex.add(gate=gate)\n",
    "pprint(ex)"
   ],
   "metadata": {
    "collapsed": false
   }
  },
  {
   "cell_type": "code",
   "execution_count": null,
   "outputs": [],
   "source": [
    "json_str = ex.model_dump()\n",
    "pprint(json_str)\n",
    "\n",
    "ex_parse = AnalogCircuit(**json_str)"
   ],
   "metadata": {
    "collapsed": false
   }
  },
  {
   "cell_type": "code",
   "execution_count": null,
   "outputs": [],
   "source": [
    "args = TaskArgsAnalog(\n",
    "    n_shots=100,\n",
    "    fock_trunc=4,\n",
    "    observables={'z': PauliZ, 'x': PauliX, 'y': PauliY},\n",
    "    dt=0.1\n",
    ")\n",
    "\n",
    "task = Task(program=ex, args=args)"
   ],
   "metadata": {
    "collapsed": false
   }
  },
  {
   "cell_type": "code",
   "execution_count": null,
   "outputs": [],
   "source": [
    "backend = QutipBackend()\n",
    "result = backend.run(task)\n",
    "pprint(result)"
   ],
   "metadata": {
    "collapsed": false
   }
  },
  {
   "cell_type": "code",
   "execution_count": null,
   "outputs": [],
   "source": [
    "fig, ax = plt.subplots()\n",
    "for name, expect in result.expect.items():\n",
    "    ax.plot(result.times, expect, label=name)\n",
    "ax.legend()\n",
    "plt.show()\n",
    "\n",
    "rho = np.outer(result.state, np.conj(result.state))\n",
    "fig, axs = plt.subplots(1, 2)\n",
    "sns.heatmap(rho.real, ax=axs[0])\n",
    "sns.heatmap(rho.imag, ax=axs[1])\n",
    "for ax in axs:\n",
    "    ax.set_aspect('equal')\n",
    "plt.show()"
   ],
   "metadata": {
    "collapsed": false
   }
  },
  {
   "cell_type": "code",
   "execution_count": null,
   "outputs": [],
   "source": [
    "provider = Provider()\n",
    "job = provider.submit(task)\n",
    "print(job)"
   ],
   "metadata": {
    "collapsed": false
   }
  },
  {
   "cell_type": "code",
   "execution_count": null,
   "outputs": [],
   "source": [
    "print(job)\n",
    "results = provider.get_result(job)\n",
    "pprint(results)"
   ],
   "metadata": {
    "collapsed": false,
    "pycharm": {
     "name": "#%%job = provider.check_status(job)\n"
    }
   }
  },
  {
   "cell_type": "code",
   "execution_count": null,
   "outputs": [],
   "source": [
    "from backends.task import Task, TaskArgsDigital\n",
    "from backends.digital.data import TaskResultDigital\n",
    "from backends.digital.tc import TensorCircuitBackend\n",
    "\n",
    "from quantumion.digital.circuit import DigitalCircuit\n",
    "from quantumion.digital.gate import Gate, H, CNOT\n",
    "from quantumion.digital.statement import Statement, Measure, Barrier\n",
    "from quantumion.digital.register import QuantumRegister, ClassicalRegister\n",
    "\n",
    "qreg = QuantumRegister(id='q', reg=2)\n",
    "creg = ClassicalRegister(id='c', reg=2)\n",
    "\n",
    "circ = DigitalCircuit(qreg=qreg, creg=creg)\n",
    "circ.add(H(qreg=qreg[0]))\n",
    "circ.add(CNOT(qreg=qreg[0:2]))\n",
    "pprint(circ)"
   ],
   "metadata": {
    "collapsed": false,
    "pycharm": {
     "name": "#%%from backends.task import Task, TaskArgsDigital\n"
    }
   }
  },
  {
   "cell_type": "code",
   "execution_count": null,
   "outputs": [],
   "source": [
    "args = TaskArgsDigital(n_shots=100)\n",
    "task = Task(program=circ, args=args)\n",
    "\n",
    "backend = TensorCircuitBackend()\n",
    "result = backend.run(task)\n",
    "pprint(result)"
   ],
   "metadata": {
    "collapsed": false
   }
  },
  {
   "cell_type": "code",
   "execution_count": null,
   "outputs": [],
   "source": [
    "fig, ax = plt.subplots()\n",
    "x = list(result.counts.keys())\n",
    "ax.bar(x=x, height=list(result.counts.values()))\n",
    "ax.set(xticks=x)\n",
    "fig.show()\n",
    "\n",
    "rho = np.outer(result.state, np.conj(result.state))\n",
    "fig, axs = plt.subplots(1, 2)\n",
    "sns.heatmap(rho.real, ax=axs[0])\n",
    "sns.heatmap(rho.imag, ax=axs[1])\n",
    "for ax in axs:\n",
    "    ax.set_aspect('equal')\n",
    "fig.show()"
   ],
   "metadata": {
    "collapsed": false
   }
  },
  {
   "cell_type": "code",
   "execution_count": null,
   "outputs": [],
   "source": [],
   "metadata": {
    "collapsed": false
   }
  }
 ],
 "metadata": {
  "kernelspec": {
   "display_name": "Python 3",
   "language": "python",
   "name": "python3"
  },
  "language_info": {
   "codemirror_mode": {
    "name": "ipython",
    "version": 2
   },
   "file_extension": ".py",
   "mimetype": "text/x-python",
   "name": "python",
   "nbconvert_exporter": "python",
   "pygments_lexer": "ipython2",
   "version": "2.7.6"
  }
 },
 "nbformat": 4,
 "nbformat_minor": 0
}
