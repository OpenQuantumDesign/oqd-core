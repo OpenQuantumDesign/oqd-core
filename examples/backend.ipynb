{
 "cells": [
  {
   "cell_type": "code",
   "execution_count": 73,
   "metadata": {
    "collapsed": true
   },
   "outputs": [
    {
     "name": "stdout",
     "output_type": "stream",
     "text": [
      "The autoreload extension is already loaded. To reload it, use:\n",
      "  %reload_ext autoreload\n"
     ]
    }
   ],
   "source": [
    "%load_ext autoreload\n",
    "%autoreload 2\n",
    "\n",
    "import requests\n",
    "import numpy as np\n",
    "\n",
    "from quantumion.hamiltonian.experiment import Experiment\n",
    "from quantumion.hamiltonian.operator import *\n",
    "from backends.base import Submission, Specification"
   ]
  },
  {
   "cell_type": "code",
   "execution_count": 74,
   "outputs": [],
   "source": [
    "server_url = \"http://localhost:8000\""
   ],
   "metadata": {
    "collapsed": false
   }
  },
  {
   "cell_type": "code",
   "execution_count": 75,
   "outputs": [],
   "source": [
    "def submit(submission: Submission):\n",
    "    url = f\"{server_url}/qsim_simulator/\"\n",
    "    response = requests.post(url, json=submission.model_dump())\n",
    "    return response.json()\n",
    "\n",
    "def get_result(job):\n",
    "    url = f\"{server_url}/get_result/\"\n",
    "    response = requests.post(url, json=job)\n",
    "    return response.json()\n",
    "\n",
    "def check_status(job):\n",
    "    url = f\"{server_url}/check_status/\"\n",
    "    response = requests.post(url, json=job)\n",
    "    return response.json()"
   ],
   "metadata": {
    "collapsed": false
   }
  },
  {
   "cell_type": "code",
   "execution_count": 90,
   "outputs": [
    {
     "name": "stdout",
     "output_type": "stream",
     "text": [
      "sequence=[Operator(terms=[Term(coefficient=0.7853981633974483, qreg=[1], qmode=[])])] n_qreg=1 n_qmode=0\n"
     ]
    }
   ],
   "source": [
    "operator = np.pi/4 * PauliX\n",
    "experiment = Experiment()\n",
    "experiment.add(operator)\n",
    "\n",
    "print(experiment)"
   ],
   "metadata": {
    "collapsed": false
   }
  },
  {
   "cell_type": "code",
   "execution_count": 91,
   "outputs": [],
   "source": [
    "spec = Specification(n_shots=100, fock_trunc=4)\n",
    "submission = Submission(program=experiment, specification=spec)"
   ],
   "metadata": {
    "collapsed": false
   }
  },
  {
   "cell_type": "code",
   "execution_count": 97,
   "outputs": [
    {
     "name": "stdout",
     "output_type": "stream",
     "text": [
      "{'id': '7e181380-d857-4360-83eb-dfaeae5abffc', 'status': 'queued'}\n"
     ]
    }
   ],
   "source": [
    "job = submit(submission)\n",
    "print(job)"
   ],
   "metadata": {
    "collapsed": false
   }
  },
  {
   "cell_type": "code",
   "execution_count": 98,
   "outputs": [
    {
     "name": "stdout",
     "output_type": "stream",
     "text": [
      "{'id': '7e181380-d857-4360-83eb-dfaeae5abffc', 'status': 'queued'}\n"
     ]
    }
   ],
   "source": [
    "job = check_status(job)\n",
    "print(job)"
   ],
   "metadata": {
    "collapsed": false
   }
  },
  {
   "cell_type": "code",
   "execution_count": 101,
   "outputs": [
    {
     "name": "stdout",
     "output_type": "stream",
     "text": [
      "{'counts': {'0': 54, '1': 46}}\n"
     ]
    }
   ],
   "source": [
    "result = get_result(job)\n",
    "print(result)"
   ],
   "metadata": {
    "collapsed": false
   }
  },
  {
   "cell_type": "code",
   "execution_count": 53,
   "outputs": [],
   "source": [],
   "metadata": {
    "collapsed": false
   }
  }
 ],
 "metadata": {
  "kernelspec": {
   "display_name": "Python 3",
   "language": "python",
   "name": "python3"
  },
  "language_info": {
   "codemirror_mode": {
    "name": "ipython",
    "version": 2
   },
   "file_extension": ".py",
   "mimetype": "text/x-python",
   "name": "python",
   "nbconvert_exporter": "python",
   "pygments_lexer": "ipython2",
   "version": "2.7.6"
  }
 },
 "nbformat": 4,
 "nbformat_minor": 0
}
