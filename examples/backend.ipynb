{
 "cells": [
  {
   "cell_type": "code",
   "execution_count": 148,
   "metadata": {
    "collapsed": true
   },
   "outputs": [
    {
     "name": "stdout",
     "output_type": "stream",
     "text": [
      "The autoreload extension is already loaded. To reload it, use:\n",
      "  %reload_ext autoreload\n"
     ]
    }
   ],
   "source": [
    "%load_ext autoreload\n",
    "%autoreload 2\n",
    "\n",
    "import requests\n",
    "import numpy as np\n",
    "\n",
    "from quantumion.analog.experiment import Experiment\n",
    "from quantumion.analog.gate import AnalogGate\n",
    "from quantumion.analog.operator import *\n",
    "from backends.task import Task, TaskArgs, TaskResult"
   ]
  },
  {
   "cell_type": "code",
   "execution_count": 149,
   "outputs": [],
   "source": [
    "server_url = \"http://localhost:8000\""
   ],
   "metadata": {
    "collapsed": false
   }
  },
  {
   "cell_type": "code",
   "execution_count": 150,
   "outputs": [],
   "source": [
    "def submit(task: Task):\n",
    "    url = f\"{server_url}/qsim_simulator/\"\n",
    "    response = requests.post(url, json=task.model_dump())\n",
    "    return response.json()\n",
    "\n",
    "def get_result(task: Task):\n",
    "    url = f\"{server_url}/get_result/\"\n",
    "    response = requests.post(url, json=task)\n",
    "    return response.json()\n",
    "\n",
    "def check_status(task: Task) -> TaskResult:\n",
    "    url = f\"{server_url}/check_status/\"\n",
    "    response = requests.post(url, json=task)\n",
    "    return response.json()"
   ],
   "metadata": {
    "collapsed": false
   }
  },
  {
   "cell_type": "code",
   "execution_count": 151,
   "outputs": [
    {
     "name": "stdout",
     "output_type": "stream",
     "text": [
      "definitions=[] registers=[] sequence=[AnalogGate(duration=1.0, unitary=[Operator(coefficient=0.7853981633974483, qreg=['x'], qmode=[])], dissipation=[])] n_qreg=1 n_qmode=0\n"
     ]
    }
   ],
   "source": [
    "operator = np.pi/4 * PauliX\n",
    "experiment = Experiment()\n",
    "experiment.add(\n",
    "    gate=AnalogGate(\n",
    "        duration=1.0,\n",
    "        unitary=[operator],\n",
    "        dissipation=[],\n",
    "    )\n",
    ")\n",
    "\n",
    "print(experiment)"
   ],
   "metadata": {
    "collapsed": false
   }
  },
  {
   "cell_type": "code",
   "execution_count": 152,
   "outputs": [
    {
     "name": "stdout",
     "output_type": "stream",
     "text": [
      "program=Experiment(definitions=[], registers=[], sequence=[AnalogGate(duration=1.0, unitary=[Operator(coefficient=0.7853981633974483, qreg=['x'], qmode=[])], dissipation=[])], n_qreg=1, n_qmode=0) args=TaskArgs(n_shots=100, fock_trunc=4, observables={}, dt=0.1)\n"
     ]
    }
   ],
   "source": [
    "args = TaskArgs(n_shots=100, fock_trunc=4)\n",
    "task = Task(program=experiment, args=args)\n",
    "print(task)"
   ],
   "metadata": {
    "collapsed": false
   }
  },
  {
   "cell_type": "code",
   "execution_count": 153,
   "outputs": [
    {
     "name": "stdout",
     "output_type": "stream",
     "text": [
      "{'id': '3a6ae3c4-e22b-4762-9966-e17e3e70a703', 'status': 'queued'}\n"
     ]
    }
   ],
   "source": [
    "task = submit(task)\n",
    "print(task)"
   ],
   "metadata": {
    "collapsed": false
   }
  },
  {
   "cell_type": "code",
   "execution_count": 154,
   "outputs": [
    {
     "name": "stdout",
     "output_type": "stream",
     "text": [
      "{'id': '3a6ae3c4-e22b-4762-9966-e17e3e70a703', 'status': 'started'}\n"
     ]
    }
   ],
   "source": [
    "task = check_status(task)\n",
    "print(task)"
   ],
   "metadata": {
    "collapsed": false
   }
  },
  {
   "cell_type": "code",
   "execution_count": 156,
   "outputs": [
    {
     "name": "stdout",
     "output_type": "stream",
     "text": [
      "{'counts': {'0': 50, '1': 50}}\n"
     ]
    }
   ],
   "source": [
    "result = get_result(task)\n",
    "print(result)"
   ],
   "metadata": {
    "collapsed": false
   }
  },
  {
   "cell_type": "code",
   "execution_count": 53,
   "outputs": [],
   "source": [],
   "metadata": {
    "collapsed": false
   }
  }
 ],
 "metadata": {
  "kernelspec": {
   "display_name": "Python 3",
   "language": "python",
   "name": "python3"
  },
  "language_info": {
   "codemirror_mode": {
    "name": "ipython",
    "version": 2
   },
   "file_extension": ".py",
   "mimetype": "text/x-python",
   "name": "python",
   "nbconvert_exporter": "python",
   "pygments_lexer": "ipython2",
   "version": "2.7.6"
  }
 },
 "nbformat": 4,
 "nbformat_minor": 0
}
