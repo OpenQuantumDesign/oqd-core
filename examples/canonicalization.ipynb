{
 "cells": [
  {
   "cell_type": "code",
   "execution_count": 1,
   "metadata": {},
   "outputs": [],
   "source": [
    "from typing import Union,List\n",
    "\n",
    "from rich import print as pprint"
   ]
  },
  {
   "cell_type": "code",
   "execution_count": 2,
   "metadata": {},
   "outputs": [],
   "source": [
    "from quantumion.interface.analog import *\n",
    "from quantumion.interface.math import *\n",
    "\n",
    "from quantumion.compiler.analog import *\n",
    "from quantumion.compiler.math import *\n",
    "from quantumion.compiler.visitor import Visitor"
   ]
  },
  {
   "cell_type": "markdown",
   "metadata": {},
   "source": [
    "# Math"
   ]
  },
  {
   "cell_type": "code",
   "execution_count": 3,
   "metadata": {},
   "outputs": [
    {
     "data": {
      "text/html": [
       "<pre style=\"white-space:pre;overflow-x:auto;line-height:normal;font-family:Menlo,'DejaVu Sans Mono',consolas,'Courier New',monospace\"><span style=\"color: #800080; text-decoration-color: #800080; font-weight: bold\">MathSub</span><span style=\"font-weight: bold\">(</span>\n",
       "    <span style=\"color: #808000; text-decoration-color: #808000\">class_</span>=<span style=\"color: #008000; text-decoration-color: #008000\">'MathSub'</span>,\n",
       "    <span style=\"color: #808000; text-decoration-color: #808000\">expr1</span>=<span style=\"color: #800080; text-decoration-color: #800080; font-weight: bold\">MathAdd</span><span style=\"font-weight: bold\">(</span><span style=\"color: #808000; text-decoration-color: #808000\">class_</span>=<span style=\"color: #008000; text-decoration-color: #008000\">'MathAdd'</span>, <span style=\"color: #808000; text-decoration-color: #808000\">expr1</span>=<span style=\"color: #800080; text-decoration-color: #800080; font-weight: bold\">MathNum</span><span style=\"font-weight: bold\">(</span><span style=\"color: #808000; text-decoration-color: #808000\">class_</span>=<span style=\"color: #008000; text-decoration-color: #008000\">'MathNum'</span>, <span style=\"color: #808000; text-decoration-color: #808000\">value</span>=<span style=\"color: #008080; text-decoration-color: #008080; font-weight: bold\">1</span><span style=\"font-weight: bold\">)</span>, <span style=\"color: #808000; text-decoration-color: #808000\">expr2</span>=<span style=\"color: #800080; text-decoration-color: #800080; font-weight: bold\">MathImag</span><span style=\"font-weight: bold\">(</span><span style=\"color: #808000; text-decoration-color: #808000\">class_</span>=<span style=\"color: #008000; text-decoration-color: #008000\">'MathImag'</span><span style=\"font-weight: bold\">))</span>,\n",
       "    <span style=\"color: #808000; text-decoration-color: #808000\">expr2</span>=<span style=\"color: #800080; text-decoration-color: #800080; font-weight: bold\">MathDiv</span><span style=\"font-weight: bold\">(</span>\n",
       "        <span style=\"color: #808000; text-decoration-color: #808000\">class_</span>=<span style=\"color: #008000; text-decoration-color: #008000\">'MathDiv'</span>,\n",
       "        <span style=\"color: #808000; text-decoration-color: #808000\">expr1</span>=<span style=\"color: #800080; text-decoration-color: #800080; font-weight: bold\">MathMul</span><span style=\"font-weight: bold\">(</span>\n",
       "            <span style=\"color: #808000; text-decoration-color: #808000\">class_</span>=<span style=\"color: #008000; text-decoration-color: #008000\">'MathMul'</span>,\n",
       "            <span style=\"color: #808000; text-decoration-color: #808000\">expr1</span>=<span style=\"color: #800080; text-decoration-color: #800080; font-weight: bold\">MathVar</span><span style=\"font-weight: bold\">(</span><span style=\"color: #808000; text-decoration-color: #808000\">class_</span>=<span style=\"color: #008000; text-decoration-color: #008000\">'MathVar'</span>, <span style=\"color: #808000; text-decoration-color: #808000\">name</span>=<span style=\"color: #008000; text-decoration-color: #008000\">'a'</span><span style=\"font-weight: bold\">)</span>,\n",
       "            <span style=\"color: #808000; text-decoration-color: #808000\">expr2</span>=<span style=\"color: #800080; text-decoration-color: #800080; font-weight: bold\">MathFunc</span><span style=\"font-weight: bold\">(</span><span style=\"color: #808000; text-decoration-color: #808000\">class_</span>=<span style=\"color: #008000; text-decoration-color: #008000\">'MathFunc'</span>, <span style=\"color: #808000; text-decoration-color: #808000\">func</span>=<span style=\"color: #008000; text-decoration-color: #008000\">'sin'</span>, <span style=\"color: #808000; text-decoration-color: #808000\">expr</span>=<span style=\"color: #800080; text-decoration-color: #800080; font-weight: bold\">MathNum</span><span style=\"font-weight: bold\">(</span><span style=\"color: #808000; text-decoration-color: #808000\">class_</span>=<span style=\"color: #008000; text-decoration-color: #008000\">'MathNum'</span>, <span style=\"color: #808000; text-decoration-color: #808000\">value</span>=<span style=\"color: #008080; text-decoration-color: #008080; font-weight: bold\">1</span><span style=\"font-weight: bold\">))</span>\n",
       "        <span style=\"font-weight: bold\">)</span>,\n",
       "        <span style=\"color: #808000; text-decoration-color: #808000\">expr2</span>=<span style=\"color: #800080; text-decoration-color: #800080; font-weight: bold\">MathPow</span><span style=\"font-weight: bold\">(</span>\n",
       "            <span style=\"color: #808000; text-decoration-color: #808000\">class_</span>=<span style=\"color: #008000; text-decoration-color: #008000\">'MathPow'</span>,\n",
       "            <span style=\"color: #808000; text-decoration-color: #808000\">expr1</span>=<span style=\"color: #800080; text-decoration-color: #800080; font-weight: bold\">MathNum</span><span style=\"font-weight: bold\">(</span><span style=\"color: #808000; text-decoration-color: #808000\">class_</span>=<span style=\"color: #008000; text-decoration-color: #008000\">'MathNum'</span>, <span style=\"color: #808000; text-decoration-color: #808000\">value</span>=<span style=\"color: #008080; text-decoration-color: #008080; font-weight: bold\">2</span><span style=\"font-weight: bold\">)</span>,\n",
       "            <span style=\"color: #808000; text-decoration-color: #808000\">expr2</span>=<span style=\"color: #800080; text-decoration-color: #800080; font-weight: bold\">MathVar</span><span style=\"font-weight: bold\">(</span><span style=\"color: #808000; text-decoration-color: #808000\">class_</span>=<span style=\"color: #008000; text-decoration-color: #008000\">'MathVar'</span>, <span style=\"color: #808000; text-decoration-color: #808000\">name</span>=<span style=\"color: #008000; text-decoration-color: #008000\">'b'</span><span style=\"font-weight: bold\">)</span>\n",
       "        <span style=\"font-weight: bold\">)</span>\n",
       "    <span style=\"font-weight: bold\">)</span>\n",
       "<span style=\"font-weight: bold\">)</span>\n",
       "</pre>\n"
      ],
      "text/plain": [
       "\u001b[1;35mMathSub\u001b[0m\u001b[1m(\u001b[0m\n",
       "    \u001b[33mclass_\u001b[0m=\u001b[32m'MathSub'\u001b[0m,\n",
       "    \u001b[33mexpr1\u001b[0m=\u001b[1;35mMathAdd\u001b[0m\u001b[1m(\u001b[0m\u001b[33mclass_\u001b[0m=\u001b[32m'MathAdd'\u001b[0m, \u001b[33mexpr1\u001b[0m=\u001b[1;35mMathNum\u001b[0m\u001b[1m(\u001b[0m\u001b[33mclass_\u001b[0m=\u001b[32m'MathNum'\u001b[0m, \u001b[33mvalue\u001b[0m=\u001b[1;36m1\u001b[0m\u001b[1m)\u001b[0m, \u001b[33mexpr2\u001b[0m=\u001b[1;35mMathImag\u001b[0m\u001b[1m(\u001b[0m\u001b[33mclass_\u001b[0m=\u001b[32m'MathImag'\u001b[0m\u001b[1m)\u001b[0m\u001b[1m)\u001b[0m,\n",
       "    \u001b[33mexpr2\u001b[0m=\u001b[1;35mMathDiv\u001b[0m\u001b[1m(\u001b[0m\n",
       "        \u001b[33mclass_\u001b[0m=\u001b[32m'MathDiv'\u001b[0m,\n",
       "        \u001b[33mexpr1\u001b[0m=\u001b[1;35mMathMul\u001b[0m\u001b[1m(\u001b[0m\n",
       "            \u001b[33mclass_\u001b[0m=\u001b[32m'MathMul'\u001b[0m,\n",
       "            \u001b[33mexpr1\u001b[0m=\u001b[1;35mMathVar\u001b[0m\u001b[1m(\u001b[0m\u001b[33mclass_\u001b[0m=\u001b[32m'MathVar'\u001b[0m, \u001b[33mname\u001b[0m=\u001b[32m'a'\u001b[0m\u001b[1m)\u001b[0m,\n",
       "            \u001b[33mexpr2\u001b[0m=\u001b[1;35mMathFunc\u001b[0m\u001b[1m(\u001b[0m\u001b[33mclass_\u001b[0m=\u001b[32m'MathFunc'\u001b[0m, \u001b[33mfunc\u001b[0m=\u001b[32m'sin'\u001b[0m, \u001b[33mexpr\u001b[0m=\u001b[1;35mMathNum\u001b[0m\u001b[1m(\u001b[0m\u001b[33mclass_\u001b[0m=\u001b[32m'MathNum'\u001b[0m, \u001b[33mvalue\u001b[0m=\u001b[1;36m1\u001b[0m\u001b[1m)\u001b[0m\u001b[1m)\u001b[0m\n",
       "        \u001b[1m)\u001b[0m,\n",
       "        \u001b[33mexpr2\u001b[0m=\u001b[1;35mMathPow\u001b[0m\u001b[1m(\u001b[0m\n",
       "            \u001b[33mclass_\u001b[0m=\u001b[32m'MathPow'\u001b[0m,\n",
       "            \u001b[33mexpr1\u001b[0m=\u001b[1;35mMathNum\u001b[0m\u001b[1m(\u001b[0m\u001b[33mclass_\u001b[0m=\u001b[32m'MathNum'\u001b[0m, \u001b[33mvalue\u001b[0m=\u001b[1;36m2\u001b[0m\u001b[1m)\u001b[0m,\n",
       "            \u001b[33mexpr2\u001b[0m=\u001b[1;35mMathVar\u001b[0m\u001b[1m(\u001b[0m\u001b[33mclass_\u001b[0m=\u001b[32m'MathVar'\u001b[0m, \u001b[33mname\u001b[0m=\u001b[32m'b'\u001b[0m\u001b[1m)\u001b[0m\n",
       "        \u001b[1m)\u001b[0m\n",
       "    \u001b[1m)\u001b[0m\n",
       "\u001b[1m)\u001b[0m\n"
      ]
     },
     "metadata": {},
     "output_type": "display_data"
    },
    {
     "data": {
      "text/html": [
       "<pre style=\"white-space:pre;overflow-x:auto;line-height:normal;font-family:Menlo,'DejaVu Sans Mono',consolas,'Courier New',monospace\"><span style=\"color: #008080; text-decoration-color: #008080; font-weight: bold\">1</span> + <span style=\"color: #008080; text-decoration-color: #008080; font-weight: bold\">1j</span> - a * <span style=\"color: #800080; text-decoration-color: #800080; font-weight: bold\">sin</span><span style=\"font-weight: bold\">(</span><span style=\"color: #008080; text-decoration-color: #008080; font-weight: bold\">1</span><span style=\"font-weight: bold\">)</span> <span style=\"color: #800080; text-decoration-color: #800080\">/</span> <span style=\"color: #008080; text-decoration-color: #008080; font-weight: bold\">2</span> ** b\n",
       "</pre>\n"
      ],
      "text/plain": [
       "\u001b[1;36m1\u001b[0m + \u001b[1;36m1j\u001b[0m - a * \u001b[1;35msin\u001b[0m\u001b[1m(\u001b[0m\u001b[1;36m1\u001b[0m\u001b[1m)\u001b[0m \u001b[35m/\u001b[0m \u001b[1;36m2\u001b[0m ** b\n"
      ]
     },
     "metadata": {},
     "output_type": "display_data"
    }
   ],
   "source": [
    "expr = MathNum(value=1) + MathImag() - MathVar(name=\"a\") * MathStr(string=\"sin(1)\") / MathNum(value=2) ** MathVar(name=\"b\")\n",
    "\n",
    "pprint(expr)\n",
    "pprint(expr.accept(PrintMathExpr()))"
   ]
  },
  {
   "cell_type": "markdown",
   "metadata": {},
   "source": [
    "## Distribute"
   ]
  },
  {
   "cell_type": "code",
   "execution_count": 4,
   "metadata": {},
   "outputs": [
    {
     "data": {
      "text/html": [
       "<pre style=\"white-space:pre;overflow-x:auto;line-height:normal;font-family:Menlo,'DejaVu Sans Mono',consolas,'Courier New',monospace\"><span style=\"color: #800080; text-decoration-color: #800080; font-weight: bold\">MathMul</span><span style=\"font-weight: bold\">(</span>\n",
       "    <span style=\"color: #808000; text-decoration-color: #808000\">class_</span>=<span style=\"color: #008000; text-decoration-color: #008000\">'MathMul'</span>,\n",
       "    <span style=\"color: #808000; text-decoration-color: #808000\">expr1</span>=<span style=\"color: #800080; text-decoration-color: #800080; font-weight: bold\">MathAdd</span><span style=\"font-weight: bold\">(</span>\n",
       "        <span style=\"color: #808000; text-decoration-color: #808000\">class_</span>=<span style=\"color: #008000; text-decoration-color: #008000\">'MathAdd'</span>,\n",
       "        <span style=\"color: #808000; text-decoration-color: #808000\">expr1</span>=<span style=\"color: #800080; text-decoration-color: #800080; font-weight: bold\">MathNum</span><span style=\"font-weight: bold\">(</span><span style=\"color: #808000; text-decoration-color: #808000\">class_</span>=<span style=\"color: #008000; text-decoration-color: #008000\">'MathNum'</span>, <span style=\"color: #808000; text-decoration-color: #808000\">value</span>=<span style=\"color: #008080; text-decoration-color: #008080; font-weight: bold\">1</span><span style=\"font-weight: bold\">)</span>,\n",
       "        <span style=\"color: #808000; text-decoration-color: #808000\">expr2</span>=<span style=\"color: #800080; text-decoration-color: #800080; font-weight: bold\">MathNum</span><span style=\"font-weight: bold\">(</span><span style=\"color: #808000; text-decoration-color: #808000\">class_</span>=<span style=\"color: #008000; text-decoration-color: #008000\">'MathNum'</span>, <span style=\"color: #808000; text-decoration-color: #808000\">value</span>=<span style=\"color: #008080; text-decoration-color: #008080; font-weight: bold\">2</span><span style=\"font-weight: bold\">)</span>\n",
       "    <span style=\"font-weight: bold\">)</span>,\n",
       "    <span style=\"color: #808000; text-decoration-color: #808000\">expr2</span>=<span style=\"color: #800080; text-decoration-color: #800080; font-weight: bold\">MathNum</span><span style=\"font-weight: bold\">(</span><span style=\"color: #808000; text-decoration-color: #808000\">class_</span>=<span style=\"color: #008000; text-decoration-color: #008000\">'MathNum'</span>, <span style=\"color: #808000; text-decoration-color: #808000\">value</span>=<span style=\"color: #008080; text-decoration-color: #008080; font-weight: bold\">3</span><span style=\"font-weight: bold\">)</span>\n",
       "<span style=\"font-weight: bold\">)</span>\n",
       "</pre>\n"
      ],
      "text/plain": [
       "\u001b[1;35mMathMul\u001b[0m\u001b[1m(\u001b[0m\n",
       "    \u001b[33mclass_\u001b[0m=\u001b[32m'MathMul'\u001b[0m,\n",
       "    \u001b[33mexpr1\u001b[0m=\u001b[1;35mMathAdd\u001b[0m\u001b[1m(\u001b[0m\n",
       "        \u001b[33mclass_\u001b[0m=\u001b[32m'MathAdd'\u001b[0m,\n",
       "        \u001b[33mexpr1\u001b[0m=\u001b[1;35mMathNum\u001b[0m\u001b[1m(\u001b[0m\u001b[33mclass_\u001b[0m=\u001b[32m'MathNum'\u001b[0m, \u001b[33mvalue\u001b[0m=\u001b[1;36m1\u001b[0m\u001b[1m)\u001b[0m,\n",
       "        \u001b[33mexpr2\u001b[0m=\u001b[1;35mMathNum\u001b[0m\u001b[1m(\u001b[0m\u001b[33mclass_\u001b[0m=\u001b[32m'MathNum'\u001b[0m, \u001b[33mvalue\u001b[0m=\u001b[1;36m2\u001b[0m\u001b[1m)\u001b[0m\n",
       "    \u001b[1m)\u001b[0m,\n",
       "    \u001b[33mexpr2\u001b[0m=\u001b[1;35mMathNum\u001b[0m\u001b[1m(\u001b[0m\u001b[33mclass_\u001b[0m=\u001b[32m'MathNum'\u001b[0m, \u001b[33mvalue\u001b[0m=\u001b[1;36m3\u001b[0m\u001b[1m)\u001b[0m\n",
       "\u001b[1m)\u001b[0m\n"
      ]
     },
     "metadata": {},
     "output_type": "display_data"
    },
    {
     "data": {
      "text/html": [
       "<pre style=\"white-space:pre;overflow-x:auto;line-height:normal;font-family:Menlo,'DejaVu Sans Mono',consolas,'Courier New',monospace\"><span style=\"font-weight: bold\">(</span><span style=\"color: #008080; text-decoration-color: #008080; font-weight: bold\">1</span> + <span style=\"color: #008080; text-decoration-color: #008080; font-weight: bold\">2</span><span style=\"font-weight: bold\">)</span> * <span style=\"color: #008080; text-decoration-color: #008080; font-weight: bold\">3</span>\n",
       "</pre>\n"
      ],
      "text/plain": [
       "\u001b[1m(\u001b[0m\u001b[1;36m1\u001b[0m + \u001b[1;36m2\u001b[0m\u001b[1m)\u001b[0m * \u001b[1;36m3\u001b[0m\n"
      ]
     },
     "metadata": {},
     "output_type": "display_data"
    }
   ],
   "source": [
    "expr = MathStr(string=\"(1+2)*3\")\n",
    "\n",
    "pprint(expr)\n",
    "pprint(expr.accept(PrintMathExpr()))"
   ]
  },
  {
   "cell_type": "code",
   "execution_count": 5,
   "metadata": {},
   "outputs": [
    {
     "data": {
      "text/html": [
       "<pre style=\"white-space:pre;overflow-x:auto;line-height:normal;font-family:Menlo,'DejaVu Sans Mono',consolas,'Courier New',monospace\"><span style=\"color: #800080; text-decoration-color: #800080; font-weight: bold\">MathAdd</span><span style=\"font-weight: bold\">(</span>\n",
       "    <span style=\"color: #808000; text-decoration-color: #808000\">class_</span>=<span style=\"color: #008000; text-decoration-color: #008000\">'MathAdd'</span>,\n",
       "    <span style=\"color: #808000; text-decoration-color: #808000\">expr1</span>=<span style=\"color: #800080; text-decoration-color: #800080; font-weight: bold\">MathMul</span><span style=\"font-weight: bold\">(</span>\n",
       "        <span style=\"color: #808000; text-decoration-color: #808000\">class_</span>=<span style=\"color: #008000; text-decoration-color: #008000\">'MathMul'</span>,\n",
       "        <span style=\"color: #808000; text-decoration-color: #808000\">expr1</span>=<span style=\"color: #800080; text-decoration-color: #800080; font-weight: bold\">MathNum</span><span style=\"font-weight: bold\">(</span><span style=\"color: #808000; text-decoration-color: #808000\">class_</span>=<span style=\"color: #008000; text-decoration-color: #008000\">'MathNum'</span>, <span style=\"color: #808000; text-decoration-color: #808000\">value</span>=<span style=\"color: #008080; text-decoration-color: #008080; font-weight: bold\">1</span><span style=\"font-weight: bold\">)</span>,\n",
       "        <span style=\"color: #808000; text-decoration-color: #808000\">expr2</span>=<span style=\"color: #800080; text-decoration-color: #800080; font-weight: bold\">MathNum</span><span style=\"font-weight: bold\">(</span><span style=\"color: #808000; text-decoration-color: #808000\">class_</span>=<span style=\"color: #008000; text-decoration-color: #008000\">'MathNum'</span>, <span style=\"color: #808000; text-decoration-color: #808000\">value</span>=<span style=\"color: #008080; text-decoration-color: #008080; font-weight: bold\">3</span><span style=\"font-weight: bold\">)</span>\n",
       "    <span style=\"font-weight: bold\">)</span>,\n",
       "    <span style=\"color: #808000; text-decoration-color: #808000\">expr2</span>=<span style=\"color: #800080; text-decoration-color: #800080; font-weight: bold\">MathMul</span><span style=\"font-weight: bold\">(</span>\n",
       "        <span style=\"color: #808000; text-decoration-color: #808000\">class_</span>=<span style=\"color: #008000; text-decoration-color: #008000\">'MathMul'</span>,\n",
       "        <span style=\"color: #808000; text-decoration-color: #808000\">expr1</span>=<span style=\"color: #800080; text-decoration-color: #800080; font-weight: bold\">MathNum</span><span style=\"font-weight: bold\">(</span><span style=\"color: #808000; text-decoration-color: #808000\">class_</span>=<span style=\"color: #008000; text-decoration-color: #008000\">'MathNum'</span>, <span style=\"color: #808000; text-decoration-color: #808000\">value</span>=<span style=\"color: #008080; text-decoration-color: #008080; font-weight: bold\">2</span><span style=\"font-weight: bold\">)</span>,\n",
       "        <span style=\"color: #808000; text-decoration-color: #808000\">expr2</span>=<span style=\"color: #800080; text-decoration-color: #800080; font-weight: bold\">MathNum</span><span style=\"font-weight: bold\">(</span><span style=\"color: #808000; text-decoration-color: #808000\">class_</span>=<span style=\"color: #008000; text-decoration-color: #008000\">'MathNum'</span>, <span style=\"color: #808000; text-decoration-color: #808000\">value</span>=<span style=\"color: #008080; text-decoration-color: #008080; font-weight: bold\">3</span><span style=\"font-weight: bold\">)</span>\n",
       "    <span style=\"font-weight: bold\">)</span>\n",
       "<span style=\"font-weight: bold\">)</span>\n",
       "</pre>\n"
      ],
      "text/plain": [
       "\u001b[1;35mMathAdd\u001b[0m\u001b[1m(\u001b[0m\n",
       "    \u001b[33mclass_\u001b[0m=\u001b[32m'MathAdd'\u001b[0m,\n",
       "    \u001b[33mexpr1\u001b[0m=\u001b[1;35mMathMul\u001b[0m\u001b[1m(\u001b[0m\n",
       "        \u001b[33mclass_\u001b[0m=\u001b[32m'MathMul'\u001b[0m,\n",
       "        \u001b[33mexpr1\u001b[0m=\u001b[1;35mMathNum\u001b[0m\u001b[1m(\u001b[0m\u001b[33mclass_\u001b[0m=\u001b[32m'MathNum'\u001b[0m, \u001b[33mvalue\u001b[0m=\u001b[1;36m1\u001b[0m\u001b[1m)\u001b[0m,\n",
       "        \u001b[33mexpr2\u001b[0m=\u001b[1;35mMathNum\u001b[0m\u001b[1m(\u001b[0m\u001b[33mclass_\u001b[0m=\u001b[32m'MathNum'\u001b[0m, \u001b[33mvalue\u001b[0m=\u001b[1;36m3\u001b[0m\u001b[1m)\u001b[0m\n",
       "    \u001b[1m)\u001b[0m,\n",
       "    \u001b[33mexpr2\u001b[0m=\u001b[1;35mMathMul\u001b[0m\u001b[1m(\u001b[0m\n",
       "        \u001b[33mclass_\u001b[0m=\u001b[32m'MathMul'\u001b[0m,\n",
       "        \u001b[33mexpr1\u001b[0m=\u001b[1;35mMathNum\u001b[0m\u001b[1m(\u001b[0m\u001b[33mclass_\u001b[0m=\u001b[32m'MathNum'\u001b[0m, \u001b[33mvalue\u001b[0m=\u001b[1;36m2\u001b[0m\u001b[1m)\u001b[0m,\n",
       "        \u001b[33mexpr2\u001b[0m=\u001b[1;35mMathNum\u001b[0m\u001b[1m(\u001b[0m\u001b[33mclass_\u001b[0m=\u001b[32m'MathNum'\u001b[0m, \u001b[33mvalue\u001b[0m=\u001b[1;36m3\u001b[0m\u001b[1m)\u001b[0m\n",
       "    \u001b[1m)\u001b[0m\n",
       "\u001b[1m)\u001b[0m\n"
      ]
     },
     "metadata": {},
     "output_type": "display_data"
    },
    {
     "data": {
      "text/html": [
       "<pre style=\"white-space:pre;overflow-x:auto;line-height:normal;font-family:Menlo,'DejaVu Sans Mono',consolas,'Courier New',monospace\"><span style=\"color: #008080; text-decoration-color: #008080; font-weight: bold\">1</span> * <span style=\"color: #008080; text-decoration-color: #008080; font-weight: bold\">3</span> + <span style=\"color: #008080; text-decoration-color: #008080; font-weight: bold\">2</span> * <span style=\"color: #008080; text-decoration-color: #008080; font-weight: bold\">3</span>\n",
       "</pre>\n"
      ],
      "text/plain": [
       "\u001b[1;36m1\u001b[0m * \u001b[1;36m3\u001b[0m + \u001b[1;36m2\u001b[0m * \u001b[1;36m3\u001b[0m\n"
      ]
     },
     "metadata": {},
     "output_type": "display_data"
    }
   ],
   "source": [
    "expr = expr.accept(DistributeMathExpr())\n",
    "\n",
    "pprint(expr)\n",
    "pprint(expr.accept(PrintMathExpr()))"
   ]
  },
  {
   "cell_type": "markdown",
   "metadata": {},
   "source": [
    "## Proper Order"
   ]
  },
  {
   "cell_type": "code",
   "execution_count": 6,
   "metadata": {},
   "outputs": [
    {
     "data": {
      "text/html": [
       "<pre style=\"white-space:pre;overflow-x:auto;line-height:normal;font-family:Menlo,'DejaVu Sans Mono',consolas,'Courier New',monospace\"><span style=\"color: #800080; text-decoration-color: #800080; font-weight: bold\">MathMul</span><span style=\"font-weight: bold\">(</span>\n",
       "    <span style=\"color: #808000; text-decoration-color: #808000\">class_</span>=<span style=\"color: #008000; text-decoration-color: #008000\">'MathMul'</span>,\n",
       "    <span style=\"color: #808000; text-decoration-color: #808000\">expr1</span>=<span style=\"color: #800080; text-decoration-color: #800080; font-weight: bold\">MathVar</span><span style=\"font-weight: bold\">(</span><span style=\"color: #808000; text-decoration-color: #808000\">class_</span>=<span style=\"color: #008000; text-decoration-color: #008000\">'MathVar'</span>, <span style=\"color: #808000; text-decoration-color: #808000\">name</span>=<span style=\"color: #008000; text-decoration-color: #008000\">'a'</span><span style=\"font-weight: bold\">)</span>,\n",
       "    <span style=\"color: #808000; text-decoration-color: #808000\">expr2</span>=<span style=\"color: #800080; text-decoration-color: #800080; font-weight: bold\">MathMul</span><span style=\"font-weight: bold\">(</span>\n",
       "        <span style=\"color: #808000; text-decoration-color: #808000\">class_</span>=<span style=\"color: #008000; text-decoration-color: #008000\">'MathMul'</span>,\n",
       "        <span style=\"color: #808000; text-decoration-color: #808000\">expr1</span>=<span style=\"color: #800080; text-decoration-color: #800080; font-weight: bold\">MathVar</span><span style=\"font-weight: bold\">(</span><span style=\"color: #808000; text-decoration-color: #808000\">class_</span>=<span style=\"color: #008000; text-decoration-color: #008000\">'MathVar'</span>, <span style=\"color: #808000; text-decoration-color: #808000\">name</span>=<span style=\"color: #008000; text-decoration-color: #008000\">'b'</span><span style=\"font-weight: bold\">)</span>,\n",
       "        <span style=\"color: #808000; text-decoration-color: #808000\">expr2</span>=<span style=\"color: #800080; text-decoration-color: #800080; font-weight: bold\">MathVar</span><span style=\"font-weight: bold\">(</span><span style=\"color: #808000; text-decoration-color: #808000\">class_</span>=<span style=\"color: #008000; text-decoration-color: #008000\">'MathVar'</span>, <span style=\"color: #808000; text-decoration-color: #808000\">name</span>=<span style=\"color: #008000; text-decoration-color: #008000\">'c'</span><span style=\"font-weight: bold\">)</span>\n",
       "    <span style=\"font-weight: bold\">)</span>\n",
       "<span style=\"font-weight: bold\">)</span>\n",
       "</pre>\n"
      ],
      "text/plain": [
       "\u001b[1;35mMathMul\u001b[0m\u001b[1m(\u001b[0m\n",
       "    \u001b[33mclass_\u001b[0m=\u001b[32m'MathMul'\u001b[0m,\n",
       "    \u001b[33mexpr1\u001b[0m=\u001b[1;35mMathVar\u001b[0m\u001b[1m(\u001b[0m\u001b[33mclass_\u001b[0m=\u001b[32m'MathVar'\u001b[0m, \u001b[33mname\u001b[0m=\u001b[32m'a'\u001b[0m\u001b[1m)\u001b[0m,\n",
       "    \u001b[33mexpr2\u001b[0m=\u001b[1;35mMathMul\u001b[0m\u001b[1m(\u001b[0m\n",
       "        \u001b[33mclass_\u001b[0m=\u001b[32m'MathMul'\u001b[0m,\n",
       "        \u001b[33mexpr1\u001b[0m=\u001b[1;35mMathVar\u001b[0m\u001b[1m(\u001b[0m\u001b[33mclass_\u001b[0m=\u001b[32m'MathVar'\u001b[0m, \u001b[33mname\u001b[0m=\u001b[32m'b'\u001b[0m\u001b[1m)\u001b[0m,\n",
       "        \u001b[33mexpr2\u001b[0m=\u001b[1;35mMathVar\u001b[0m\u001b[1m(\u001b[0m\u001b[33mclass_\u001b[0m=\u001b[32m'MathVar'\u001b[0m, \u001b[33mname\u001b[0m=\u001b[32m'c'\u001b[0m\u001b[1m)\u001b[0m\n",
       "    \u001b[1m)\u001b[0m\n",
       "\u001b[1m)\u001b[0m\n"
      ]
     },
     "metadata": {},
     "output_type": "display_data"
    },
    {
     "data": {
      "text/html": [
       "<pre style=\"white-space:pre;overflow-x:auto;line-height:normal;font-family:Menlo,'DejaVu Sans Mono',consolas,'Courier New',monospace\">a * <span style=\"font-weight: bold\">(</span>b * c<span style=\"font-weight: bold\">)</span>\n",
       "</pre>\n"
      ],
      "text/plain": [
       "a * \u001b[1m(\u001b[0mb * c\u001b[1m)\u001b[0m\n"
      ]
     },
     "metadata": {},
     "output_type": "display_data"
    }
   ],
   "source": [
    "expr = MathStr(string=\"a * (b * c)\")\n",
    "\n",
    "pprint(expr)\n",
    "pprint(expr.accept(VerbosePrintMathExpr()))"
   ]
  },
  {
   "cell_type": "code",
   "execution_count": 7,
   "metadata": {},
   "outputs": [
    {
     "data": {
      "text/html": [
       "<pre style=\"white-space:pre;overflow-x:auto;line-height:normal;font-family:Menlo,'DejaVu Sans Mono',consolas,'Courier New',monospace\"><span style=\"color: #800080; text-decoration-color: #800080; font-weight: bold\">MathMul</span><span style=\"font-weight: bold\">(</span>\n",
       "    <span style=\"color: #808000; text-decoration-color: #808000\">class_</span>=<span style=\"color: #008000; text-decoration-color: #008000\">'MathMul'</span>,\n",
       "    <span style=\"color: #808000; text-decoration-color: #808000\">expr1</span>=<span style=\"color: #800080; text-decoration-color: #800080; font-weight: bold\">MathMul</span><span style=\"font-weight: bold\">(</span>\n",
       "        <span style=\"color: #808000; text-decoration-color: #808000\">class_</span>=<span style=\"color: #008000; text-decoration-color: #008000\">'MathMul'</span>,\n",
       "        <span style=\"color: #808000; text-decoration-color: #808000\">expr1</span>=<span style=\"color: #800080; text-decoration-color: #800080; font-weight: bold\">MathVar</span><span style=\"font-weight: bold\">(</span><span style=\"color: #808000; text-decoration-color: #808000\">class_</span>=<span style=\"color: #008000; text-decoration-color: #008000\">'MathVar'</span>, <span style=\"color: #808000; text-decoration-color: #808000\">name</span>=<span style=\"color: #008000; text-decoration-color: #008000\">'a'</span><span style=\"font-weight: bold\">)</span>,\n",
       "        <span style=\"color: #808000; text-decoration-color: #808000\">expr2</span>=<span style=\"color: #800080; text-decoration-color: #800080; font-weight: bold\">MathVar</span><span style=\"font-weight: bold\">(</span><span style=\"color: #808000; text-decoration-color: #808000\">class_</span>=<span style=\"color: #008000; text-decoration-color: #008000\">'MathVar'</span>, <span style=\"color: #808000; text-decoration-color: #808000\">name</span>=<span style=\"color: #008000; text-decoration-color: #008000\">'b'</span><span style=\"font-weight: bold\">)</span>\n",
       "    <span style=\"font-weight: bold\">)</span>,\n",
       "    <span style=\"color: #808000; text-decoration-color: #808000\">expr2</span>=<span style=\"color: #800080; text-decoration-color: #800080; font-weight: bold\">MathVar</span><span style=\"font-weight: bold\">(</span><span style=\"color: #808000; text-decoration-color: #808000\">class_</span>=<span style=\"color: #008000; text-decoration-color: #008000\">'MathVar'</span>, <span style=\"color: #808000; text-decoration-color: #808000\">name</span>=<span style=\"color: #008000; text-decoration-color: #008000\">'c'</span><span style=\"font-weight: bold\">)</span>\n",
       "<span style=\"font-weight: bold\">)</span>\n",
       "</pre>\n"
      ],
      "text/plain": [
       "\u001b[1;35mMathMul\u001b[0m\u001b[1m(\u001b[0m\n",
       "    \u001b[33mclass_\u001b[0m=\u001b[32m'MathMul'\u001b[0m,\n",
       "    \u001b[33mexpr1\u001b[0m=\u001b[1;35mMathMul\u001b[0m\u001b[1m(\u001b[0m\n",
       "        \u001b[33mclass_\u001b[0m=\u001b[32m'MathMul'\u001b[0m,\n",
       "        \u001b[33mexpr1\u001b[0m=\u001b[1;35mMathVar\u001b[0m\u001b[1m(\u001b[0m\u001b[33mclass_\u001b[0m=\u001b[32m'MathVar'\u001b[0m, \u001b[33mname\u001b[0m=\u001b[32m'a'\u001b[0m\u001b[1m)\u001b[0m,\n",
       "        \u001b[33mexpr2\u001b[0m=\u001b[1;35mMathVar\u001b[0m\u001b[1m(\u001b[0m\u001b[33mclass_\u001b[0m=\u001b[32m'MathVar'\u001b[0m, \u001b[33mname\u001b[0m=\u001b[32m'b'\u001b[0m\u001b[1m)\u001b[0m\n",
       "    \u001b[1m)\u001b[0m,\n",
       "    \u001b[33mexpr2\u001b[0m=\u001b[1;35mMathVar\u001b[0m\u001b[1m(\u001b[0m\u001b[33mclass_\u001b[0m=\u001b[32m'MathVar'\u001b[0m, \u001b[33mname\u001b[0m=\u001b[32m'c'\u001b[0m\u001b[1m)\u001b[0m\n",
       "\u001b[1m)\u001b[0m\n"
      ]
     },
     "metadata": {},
     "output_type": "display_data"
    },
    {
     "data": {
      "text/html": [
       "<pre style=\"white-space:pre;overflow-x:auto;line-height:normal;font-family:Menlo,'DejaVu Sans Mono',consolas,'Courier New',monospace\"><span style=\"font-weight: bold\">(</span>a * b<span style=\"font-weight: bold\">)</span> * c\n",
       "</pre>\n"
      ],
      "text/plain": [
       "\u001b[1m(\u001b[0ma * b\u001b[1m)\u001b[0m * c\n"
      ]
     },
     "metadata": {},
     "output_type": "display_data"
    }
   ],
   "source": [
    "expr = expr.accept(ProperOrderMathExpr())\n",
    "\n",
    "pprint(expr)\n",
    "pprint(expr.accept(VerbosePrintMathExpr()))"
   ]
  },
  {
   "cell_type": "markdown",
   "metadata": {},
   "source": [
    "## Partition"
   ]
  },
  {
   "cell_type": "code",
   "execution_count": 8,
   "metadata": {},
   "outputs": [
    {
     "data": {
      "text/html": [
       "<pre style=\"white-space:pre;overflow-x:auto;line-height:normal;font-family:Menlo,'DejaVu Sans Mono',consolas,'Courier New',monospace\"><span style=\"color: #800080; text-decoration-color: #800080; font-weight: bold\">MathMul</span><span style=\"font-weight: bold\">(</span>\n",
       "    <span style=\"color: #808000; text-decoration-color: #808000\">class_</span>=<span style=\"color: #008000; text-decoration-color: #008000\">'MathMul'</span>,\n",
       "    <span style=\"color: #808000; text-decoration-color: #808000\">expr1</span>=<span style=\"color: #800080; text-decoration-color: #800080; font-weight: bold\">MathMul</span><span style=\"font-weight: bold\">(</span>\n",
       "        <span style=\"color: #808000; text-decoration-color: #808000\">class_</span>=<span style=\"color: #008000; text-decoration-color: #008000\">'MathMul'</span>,\n",
       "        <span style=\"color: #808000; text-decoration-color: #808000\">expr1</span>=<span style=\"color: #800080; text-decoration-color: #800080; font-weight: bold\">MathMul</span><span style=\"font-weight: bold\">(</span>\n",
       "            <span style=\"color: #808000; text-decoration-color: #808000\">class_</span>=<span style=\"color: #008000; text-decoration-color: #008000\">'MathMul'</span>,\n",
       "            <span style=\"color: #808000; text-decoration-color: #808000\">expr1</span>=<span style=\"color: #800080; text-decoration-color: #800080; font-weight: bold\">MathFunc</span><span style=\"font-weight: bold\">(</span><span style=\"color: #808000; text-decoration-color: #808000\">class_</span>=<span style=\"color: #008000; text-decoration-color: #008000\">'MathFunc'</span>, <span style=\"color: #808000; text-decoration-color: #808000\">func</span>=<span style=\"color: #008000; text-decoration-color: #008000\">'sin'</span>, <span style=\"color: #808000; text-decoration-color: #808000\">expr</span>=<span style=\"color: #800080; text-decoration-color: #800080; font-weight: bold\">MathNum</span><span style=\"font-weight: bold\">(</span><span style=\"color: #808000; text-decoration-color: #808000\">class_</span>=<span style=\"color: #008000; text-decoration-color: #008000\">'MathNum'</span>, <span style=\"color: #808000; text-decoration-color: #808000\">value</span>=<span style=\"color: #008080; text-decoration-color: #008080; font-weight: bold\">1</span><span style=\"font-weight: bold\">))</span>,\n",
       "            <span style=\"color: #808000; text-decoration-color: #808000\">expr2</span>=<span style=\"color: #800080; text-decoration-color: #800080; font-weight: bold\">MathImag</span><span style=\"font-weight: bold\">(</span><span style=\"color: #808000; text-decoration-color: #808000\">class_</span>=<span style=\"color: #008000; text-decoration-color: #008000\">'MathImag'</span><span style=\"font-weight: bold\">)</span>\n",
       "        <span style=\"font-weight: bold\">)</span>,\n",
       "        <span style=\"color: #808000; text-decoration-color: #808000\">expr2</span>=<span style=\"color: #800080; text-decoration-color: #800080; font-weight: bold\">MathNum</span><span style=\"font-weight: bold\">(</span><span style=\"color: #808000; text-decoration-color: #808000\">class_</span>=<span style=\"color: #008000; text-decoration-color: #008000\">'MathNum'</span>, <span style=\"color: #808000; text-decoration-color: #808000\">value</span>=<span style=\"color: #008080; text-decoration-color: #008080; font-weight: bold\">2</span><span style=\"font-weight: bold\">)</span>\n",
       "    <span style=\"font-weight: bold\">)</span>,\n",
       "    <span style=\"color: #808000; text-decoration-color: #808000\">expr2</span>=<span style=\"color: #800080; text-decoration-color: #800080; font-weight: bold\">MathVar</span><span style=\"font-weight: bold\">(</span><span style=\"color: #808000; text-decoration-color: #808000\">class_</span>=<span style=\"color: #008000; text-decoration-color: #008000\">'MathVar'</span>, <span style=\"color: #808000; text-decoration-color: #808000\">name</span>=<span style=\"color: #008000; text-decoration-color: #008000\">'a'</span><span style=\"font-weight: bold\">)</span>\n",
       "<span style=\"font-weight: bold\">)</span>\n",
       "</pre>\n"
      ],
      "text/plain": [
       "\u001b[1;35mMathMul\u001b[0m\u001b[1m(\u001b[0m\n",
       "    \u001b[33mclass_\u001b[0m=\u001b[32m'MathMul'\u001b[0m,\n",
       "    \u001b[33mexpr1\u001b[0m=\u001b[1;35mMathMul\u001b[0m\u001b[1m(\u001b[0m\n",
       "        \u001b[33mclass_\u001b[0m=\u001b[32m'MathMul'\u001b[0m,\n",
       "        \u001b[33mexpr1\u001b[0m=\u001b[1;35mMathMul\u001b[0m\u001b[1m(\u001b[0m\n",
       "            \u001b[33mclass_\u001b[0m=\u001b[32m'MathMul'\u001b[0m,\n",
       "            \u001b[33mexpr1\u001b[0m=\u001b[1;35mMathFunc\u001b[0m\u001b[1m(\u001b[0m\u001b[33mclass_\u001b[0m=\u001b[32m'MathFunc'\u001b[0m, \u001b[33mfunc\u001b[0m=\u001b[32m'sin'\u001b[0m, \u001b[33mexpr\u001b[0m=\u001b[1;35mMathNum\u001b[0m\u001b[1m(\u001b[0m\u001b[33mclass_\u001b[0m=\u001b[32m'MathNum'\u001b[0m, \u001b[33mvalue\u001b[0m=\u001b[1;36m1\u001b[0m\u001b[1m)\u001b[0m\u001b[1m)\u001b[0m,\n",
       "            \u001b[33mexpr2\u001b[0m=\u001b[1;35mMathImag\u001b[0m\u001b[1m(\u001b[0m\u001b[33mclass_\u001b[0m=\u001b[32m'MathImag'\u001b[0m\u001b[1m)\u001b[0m\n",
       "        \u001b[1m)\u001b[0m,\n",
       "        \u001b[33mexpr2\u001b[0m=\u001b[1;35mMathNum\u001b[0m\u001b[1m(\u001b[0m\u001b[33mclass_\u001b[0m=\u001b[32m'MathNum'\u001b[0m, \u001b[33mvalue\u001b[0m=\u001b[1;36m2\u001b[0m\u001b[1m)\u001b[0m\n",
       "    \u001b[1m)\u001b[0m,\n",
       "    \u001b[33mexpr2\u001b[0m=\u001b[1;35mMathVar\u001b[0m\u001b[1m(\u001b[0m\u001b[33mclass_\u001b[0m=\u001b[32m'MathVar'\u001b[0m, \u001b[33mname\u001b[0m=\u001b[32m'a'\u001b[0m\u001b[1m)\u001b[0m\n",
       "\u001b[1m)\u001b[0m\n"
      ]
     },
     "metadata": {},
     "output_type": "display_data"
    },
    {
     "data": {
      "text/html": [
       "<pre style=\"white-space:pre;overflow-x:auto;line-height:normal;font-family:Menlo,'DejaVu Sans Mono',consolas,'Courier New',monospace\"><span style=\"color: #800080; text-decoration-color: #800080; font-weight: bold\">sin</span><span style=\"font-weight: bold\">(</span><span style=\"color: #008080; text-decoration-color: #008080; font-weight: bold\">1</span><span style=\"font-weight: bold\">)</span> * <span style=\"color: #008080; text-decoration-color: #008080; font-weight: bold\">1j</span> * <span style=\"color: #008080; text-decoration-color: #008080; font-weight: bold\">2</span> * a\n",
       "</pre>\n"
      ],
      "text/plain": [
       "\u001b[1;35msin\u001b[0m\u001b[1m(\u001b[0m\u001b[1;36m1\u001b[0m\u001b[1m)\u001b[0m * \u001b[1;36m1j\u001b[0m * \u001b[1;36m2\u001b[0m * a\n"
      ]
     },
     "metadata": {},
     "output_type": "display_data"
    }
   ],
   "source": [
    "expr = MathFunc(func=\"sin\",expr=MathNum(value=1)) * MathImag() * MathNum(value=2) * MathVar(name=\"a\")\n",
    "\n",
    "pprint(expr)\n",
    "pprint(expr.accept(PrintMathExpr()))"
   ]
  },
  {
   "cell_type": "code",
   "execution_count": 9,
   "metadata": {},
   "outputs": [
    {
     "data": {
      "text/html": [
       "<pre style=\"white-space:pre;overflow-x:auto;line-height:normal;font-family:Menlo,'DejaVu Sans Mono',consolas,'Courier New',monospace\"><span style=\"color: #008080; text-decoration-color: #008080; font-weight: bold\">1j</span> * <span style=\"color: #800080; text-decoration-color: #800080; font-weight: bold\">sin</span><span style=\"font-weight: bold\">(</span><span style=\"color: #008080; text-decoration-color: #008080; font-weight: bold\">1</span><span style=\"font-weight: bold\">)</span> * <span style=\"color: #008080; text-decoration-color: #008080; font-weight: bold\">2</span> * a\n",
       "</pre>\n"
      ],
      "text/plain": [
       "\u001b[1;36m1j\u001b[0m * \u001b[1;35msin\u001b[0m\u001b[1m(\u001b[0m\u001b[1;36m1\u001b[0m\u001b[1m)\u001b[0m * \u001b[1;36m2\u001b[0m * a\n"
      ]
     },
     "metadata": {},
     "output_type": "display_data"
    },
    {
     "data": {
      "text/html": [
       "<pre style=\"white-space:pre;overflow-x:auto;line-height:normal;font-family:Menlo,'DejaVu Sans Mono',consolas,'Courier New',monospace\"><span style=\"color: #008080; text-decoration-color: #008080; font-weight: bold\">1j</span> * <span style=\"color: #008080; text-decoration-color: #008080; font-weight: bold\">2</span> * <span style=\"color: #800080; text-decoration-color: #800080; font-weight: bold\">sin</span><span style=\"font-weight: bold\">(</span><span style=\"color: #008080; text-decoration-color: #008080; font-weight: bold\">1</span><span style=\"font-weight: bold\">)</span> * a\n",
       "</pre>\n"
      ],
      "text/plain": [
       "\u001b[1;36m1j\u001b[0m * \u001b[1;36m2\u001b[0m * \u001b[1;35msin\u001b[0m\u001b[1m(\u001b[0m\u001b[1;36m1\u001b[0m\u001b[1m)\u001b[0m * a\n"
      ]
     },
     "metadata": {},
     "output_type": "display_data"
    },
    {
     "data": {
      "text/html": [
       "<pre style=\"white-space:pre;overflow-x:auto;line-height:normal;font-family:Menlo,'DejaVu Sans Mono',consolas,'Courier New',monospace\"><span style=\"color: #800080; text-decoration-color: #800080; font-weight: bold\">MathMul</span><span style=\"font-weight: bold\">(</span>\n",
       "    <span style=\"color: #808000; text-decoration-color: #808000\">class_</span>=<span style=\"color: #008000; text-decoration-color: #008000\">'MathMul'</span>,\n",
       "    <span style=\"color: #808000; text-decoration-color: #808000\">expr1</span>=<span style=\"color: #800080; text-decoration-color: #800080; font-weight: bold\">MathMul</span><span style=\"font-weight: bold\">(</span>\n",
       "        <span style=\"color: #808000; text-decoration-color: #808000\">class_</span>=<span style=\"color: #008000; text-decoration-color: #008000\">'MathMul'</span>,\n",
       "        <span style=\"color: #808000; text-decoration-color: #808000\">expr1</span>=<span style=\"color: #800080; text-decoration-color: #800080; font-weight: bold\">MathMul</span><span style=\"font-weight: bold\">(</span>\n",
       "            <span style=\"color: #808000; text-decoration-color: #808000\">class_</span>=<span style=\"color: #008000; text-decoration-color: #008000\">'MathMul'</span>,\n",
       "            <span style=\"color: #808000; text-decoration-color: #808000\">expr1</span>=<span style=\"color: #800080; text-decoration-color: #800080; font-weight: bold\">MathImag</span><span style=\"font-weight: bold\">(</span><span style=\"color: #808000; text-decoration-color: #808000\">class_</span>=<span style=\"color: #008000; text-decoration-color: #008000\">'MathImag'</span><span style=\"font-weight: bold\">)</span>,\n",
       "            <span style=\"color: #808000; text-decoration-color: #808000\">expr2</span>=<span style=\"color: #800080; text-decoration-color: #800080; font-weight: bold\">MathNum</span><span style=\"font-weight: bold\">(</span><span style=\"color: #808000; text-decoration-color: #808000\">class_</span>=<span style=\"color: #008000; text-decoration-color: #008000\">'MathNum'</span>, <span style=\"color: #808000; text-decoration-color: #808000\">value</span>=<span style=\"color: #008080; text-decoration-color: #008080; font-weight: bold\">2</span><span style=\"font-weight: bold\">)</span>\n",
       "        <span style=\"font-weight: bold\">)</span>,\n",
       "        <span style=\"color: #808000; text-decoration-color: #808000\">expr2</span>=<span style=\"color: #800080; text-decoration-color: #800080; font-weight: bold\">MathVar</span><span style=\"font-weight: bold\">(</span><span style=\"color: #808000; text-decoration-color: #808000\">class_</span>=<span style=\"color: #008000; text-decoration-color: #008000\">'MathVar'</span>, <span style=\"color: #808000; text-decoration-color: #808000\">name</span>=<span style=\"color: #008000; text-decoration-color: #008000\">'a'</span><span style=\"font-weight: bold\">)</span>\n",
       "    <span style=\"font-weight: bold\">)</span>,\n",
       "    <span style=\"color: #808000; text-decoration-color: #808000\">expr2</span>=<span style=\"color: #800080; text-decoration-color: #800080; font-weight: bold\">MathFunc</span><span style=\"font-weight: bold\">(</span><span style=\"color: #808000; text-decoration-color: #808000\">class_</span>=<span style=\"color: #008000; text-decoration-color: #008000\">'MathFunc'</span>, <span style=\"color: #808000; text-decoration-color: #808000\">func</span>=<span style=\"color: #008000; text-decoration-color: #008000\">'sin'</span>, <span style=\"color: #808000; text-decoration-color: #808000\">expr</span>=<span style=\"color: #800080; text-decoration-color: #800080; font-weight: bold\">MathNum</span><span style=\"font-weight: bold\">(</span><span style=\"color: #808000; text-decoration-color: #808000\">class_</span>=<span style=\"color: #008000; text-decoration-color: #008000\">'MathNum'</span>, <span style=\"color: #808000; text-decoration-color: #808000\">value</span>=<span style=\"color: #008080; text-decoration-color: #008080; font-weight: bold\">1</span><span style=\"font-weight: bold\">))</span>\n",
       "<span style=\"font-weight: bold\">)</span>\n",
       "</pre>\n"
      ],
      "text/plain": [
       "\u001b[1;35mMathMul\u001b[0m\u001b[1m(\u001b[0m\n",
       "    \u001b[33mclass_\u001b[0m=\u001b[32m'MathMul'\u001b[0m,\n",
       "    \u001b[33mexpr1\u001b[0m=\u001b[1;35mMathMul\u001b[0m\u001b[1m(\u001b[0m\n",
       "        \u001b[33mclass_\u001b[0m=\u001b[32m'MathMul'\u001b[0m,\n",
       "        \u001b[33mexpr1\u001b[0m=\u001b[1;35mMathMul\u001b[0m\u001b[1m(\u001b[0m\n",
       "            \u001b[33mclass_\u001b[0m=\u001b[32m'MathMul'\u001b[0m,\n",
       "            \u001b[33mexpr1\u001b[0m=\u001b[1;35mMathImag\u001b[0m\u001b[1m(\u001b[0m\u001b[33mclass_\u001b[0m=\u001b[32m'MathImag'\u001b[0m\u001b[1m)\u001b[0m,\n",
       "            \u001b[33mexpr2\u001b[0m=\u001b[1;35mMathNum\u001b[0m\u001b[1m(\u001b[0m\u001b[33mclass_\u001b[0m=\u001b[32m'MathNum'\u001b[0m, \u001b[33mvalue\u001b[0m=\u001b[1;36m2\u001b[0m\u001b[1m)\u001b[0m\n",
       "        \u001b[1m)\u001b[0m,\n",
       "        \u001b[33mexpr2\u001b[0m=\u001b[1;35mMathVar\u001b[0m\u001b[1m(\u001b[0m\u001b[33mclass_\u001b[0m=\u001b[32m'MathVar'\u001b[0m, \u001b[33mname\u001b[0m=\u001b[32m'a'\u001b[0m\u001b[1m)\u001b[0m\n",
       "    \u001b[1m)\u001b[0m,\n",
       "    \u001b[33mexpr2\u001b[0m=\u001b[1;35mMathFunc\u001b[0m\u001b[1m(\u001b[0m\u001b[33mclass_\u001b[0m=\u001b[32m'MathFunc'\u001b[0m, \u001b[33mfunc\u001b[0m=\u001b[32m'sin'\u001b[0m, \u001b[33mexpr\u001b[0m=\u001b[1;35mMathNum\u001b[0m\u001b[1m(\u001b[0m\u001b[33mclass_\u001b[0m=\u001b[32m'MathNum'\u001b[0m, \u001b[33mvalue\u001b[0m=\u001b[1;36m1\u001b[0m\u001b[1m)\u001b[0m\u001b[1m)\u001b[0m\n",
       "\u001b[1m)\u001b[0m\n"
      ]
     },
     "metadata": {},
     "output_type": "display_data"
    },
    {
     "data": {
      "text/html": [
       "<pre style=\"white-space:pre;overflow-x:auto;line-height:normal;font-family:Menlo,'DejaVu Sans Mono',consolas,'Courier New',monospace\"><span style=\"color: #008080; text-decoration-color: #008080; font-weight: bold\">1j</span> * <span style=\"color: #008080; text-decoration-color: #008080; font-weight: bold\">2</span> * a * <span style=\"color: #800080; text-decoration-color: #800080; font-weight: bold\">sin</span><span style=\"font-weight: bold\">(</span><span style=\"color: #008080; text-decoration-color: #008080; font-weight: bold\">1</span><span style=\"font-weight: bold\">)</span>\n",
       "</pre>\n"
      ],
      "text/plain": [
       "\u001b[1;36m1j\u001b[0m * \u001b[1;36m2\u001b[0m * a * \u001b[1;35msin\u001b[0m\u001b[1m(\u001b[0m\u001b[1;36m1\u001b[0m\u001b[1m)\u001b[0m\n"
      ]
     },
     "metadata": {},
     "output_type": "display_data"
    }
   ],
   "source": [
    "expr = expr.accept(PartitionMathExpr())\n",
    "\n",
    "\n",
    "pprint(expr.accept(PrintMathExpr()))\n",
    "\n",
    "expr = expr.accept(PartitionMathExpr())\n",
    "\n",
    "pprint(expr.accept(PrintMathExpr()))\n",
    "\n",
    "expr = expr.accept(PartitionMathExpr())\n",
    "\n",
    "pprint(expr)\n",
    "pprint(expr.accept(PrintMathExpr()))"
   ]
  },
  {
   "cell_type": "markdown",
   "metadata": {},
   "source": [
    "# Operator"
   ]
  },
  {
   "cell_type": "code",
   "execution_count": 10,
   "metadata": {},
   "outputs": [],
   "source": [
    "X,Y,Z,I,A,C,J = PauliX(),PauliY(),PauliZ(),PauliI(),Annihilation(),Creation(),Identity()"
   ]
  },
  {
   "cell_type": "code",
   "execution_count": 11,
   "metadata": {},
   "outputs": [
    {
     "data": {
      "text/html": [
       "<pre style=\"white-space:pre;overflow-x:auto;line-height:normal;font-family:Menlo,'DejaVu Sans Mono',consolas,'Courier New',monospace\"><span style=\"color: #800080; text-decoration-color: #800080; font-weight: bold\">OperatorKron</span><span style=\"font-weight: bold\">(</span>\n",
       "    <span style=\"color: #808000; text-decoration-color: #808000\">class_</span>=<span style=\"color: #008000; text-decoration-color: #008000\">'OperatorKron'</span>,\n",
       "    <span style=\"color: #808000; text-decoration-color: #808000\">op1</span>=<span style=\"color: #800080; text-decoration-color: #800080; font-weight: bold\">OperatorScalarMul</span><span style=\"font-weight: bold\">(</span>\n",
       "        <span style=\"color: #808000; text-decoration-color: #808000\">class_</span>=<span style=\"color: #008000; text-decoration-color: #008000\">'OperatorScalarMul'</span>,\n",
       "        <span style=\"color: #808000; text-decoration-color: #808000\">op</span>=<span style=\"color: #800080; text-decoration-color: #800080; font-weight: bold\">OperatorSub</span><span style=\"font-weight: bold\">(</span>\n",
       "            <span style=\"color: #808000; text-decoration-color: #808000\">class_</span>=<span style=\"color: #008000; text-decoration-color: #008000\">'OperatorSub'</span>,\n",
       "            <span style=\"color: #808000; text-decoration-color: #808000\">op1</span>=<span style=\"color: #800080; text-decoration-color: #800080; font-weight: bold\">OperatorAdd</span><span style=\"font-weight: bold\">(</span><span style=\"color: #808000; text-decoration-color: #808000\">class_</span>=<span style=\"color: #008000; text-decoration-color: #008000\">'OperatorAdd'</span>, <span style=\"color: #808000; text-decoration-color: #808000\">op1</span>=<span style=\"color: #800080; text-decoration-color: #800080; font-weight: bold\">PauliX</span><span style=\"font-weight: bold\">(</span><span style=\"color: #808000; text-decoration-color: #808000\">class_</span>=<span style=\"color: #008000; text-decoration-color: #008000\">'PauliX'</span><span style=\"font-weight: bold\">)</span>, <span style=\"color: #808000; text-decoration-color: #808000\">op2</span>=<span style=\"color: #800080; text-decoration-color: #800080; font-weight: bold\">PauliY</span><span style=\"font-weight: bold\">(</span><span style=\"color: #808000; text-decoration-color: #808000\">class_</span>=<span style=\"color: #008000; text-decoration-color: #008000\">'PauliY'</span><span style=\"font-weight: bold\">))</span>,\n",
       "            <span style=\"color: #808000; text-decoration-color: #808000\">op2</span>=<span style=\"color: #800080; text-decoration-color: #800080; font-weight: bold\">OperatorMul</span><span style=\"font-weight: bold\">(</span><span style=\"color: #808000; text-decoration-color: #808000\">class_</span>=<span style=\"color: #008000; text-decoration-color: #008000\">'OperatorMul'</span>, <span style=\"color: #808000; text-decoration-color: #808000\">op1</span>=<span style=\"color: #800080; text-decoration-color: #800080; font-weight: bold\">PauliZ</span><span style=\"font-weight: bold\">(</span><span style=\"color: #808000; text-decoration-color: #808000\">class_</span>=<span style=\"color: #008000; text-decoration-color: #008000\">'PauliZ'</span><span style=\"font-weight: bold\">)</span>, <span style=\"color: #808000; text-decoration-color: #808000\">op2</span>=<span style=\"color: #800080; text-decoration-color: #800080; font-weight: bold\">PauliI</span><span style=\"font-weight: bold\">(</span><span style=\"color: #808000; text-decoration-color: #808000\">class_</span>=<span style=\"color: #008000; text-decoration-color: #008000\">'PauliI'</span><span style=\"font-weight: bold\">))</span>\n",
       "        <span style=\"font-weight: bold\">)</span>,\n",
       "        <span style=\"color: #808000; text-decoration-color: #808000\">expr</span>=<span style=\"color: #800080; text-decoration-color: #800080; font-weight: bold\">MathNum</span><span style=\"font-weight: bold\">(</span><span style=\"color: #808000; text-decoration-color: #808000\">class_</span>=<span style=\"color: #008000; text-decoration-color: #008000\">'MathNum'</span>, <span style=\"color: #808000; text-decoration-color: #808000\">value</span>=<span style=\"color: #008080; text-decoration-color: #008080; font-weight: bold\">1</span><span style=\"font-weight: bold\">)</span>\n",
       "    <span style=\"font-weight: bold\">)</span>,\n",
       "    <span style=\"color: #808000; text-decoration-color: #808000\">op2</span>=<span style=\"color: #800080; text-decoration-color: #800080; font-weight: bold\">OperatorMul</span><span style=\"font-weight: bold\">(</span>\n",
       "        <span style=\"color: #808000; text-decoration-color: #808000\">class_</span>=<span style=\"color: #008000; text-decoration-color: #008000\">'OperatorMul'</span>,\n",
       "        <span style=\"color: #808000; text-decoration-color: #808000\">op1</span>=<span style=\"color: #800080; text-decoration-color: #800080; font-weight: bold\">Annihilation</span><span style=\"font-weight: bold\">(</span><span style=\"color: #808000; text-decoration-color: #808000\">class_</span>=<span style=\"color: #008000; text-decoration-color: #008000\">'Annihilation'</span><span style=\"font-weight: bold\">)</span>,\n",
       "        <span style=\"color: #808000; text-decoration-color: #808000\">op2</span>=<span style=\"color: #800080; text-decoration-color: #800080; font-weight: bold\">Creation</span><span style=\"font-weight: bold\">(</span><span style=\"color: #808000; text-decoration-color: #808000\">class_</span>=<span style=\"color: #008000; text-decoration-color: #008000\">'Creation'</span><span style=\"font-weight: bold\">)</span>\n",
       "    <span style=\"font-weight: bold\">)</span>\n",
       "<span style=\"font-weight: bold\">)</span>\n",
       "</pre>\n"
      ],
      "text/plain": [
       "\u001b[1;35mOperatorKron\u001b[0m\u001b[1m(\u001b[0m\n",
       "    \u001b[33mclass_\u001b[0m=\u001b[32m'OperatorKron'\u001b[0m,\n",
       "    \u001b[33mop1\u001b[0m=\u001b[1;35mOperatorScalarMul\u001b[0m\u001b[1m(\u001b[0m\n",
       "        \u001b[33mclass_\u001b[0m=\u001b[32m'OperatorScalarMul'\u001b[0m,\n",
       "        \u001b[33mop\u001b[0m=\u001b[1;35mOperatorSub\u001b[0m\u001b[1m(\u001b[0m\n",
       "            \u001b[33mclass_\u001b[0m=\u001b[32m'OperatorSub'\u001b[0m,\n",
       "            \u001b[33mop1\u001b[0m=\u001b[1;35mOperatorAdd\u001b[0m\u001b[1m(\u001b[0m\u001b[33mclass_\u001b[0m=\u001b[32m'OperatorAdd'\u001b[0m, \u001b[33mop1\u001b[0m=\u001b[1;35mPauliX\u001b[0m\u001b[1m(\u001b[0m\u001b[33mclass_\u001b[0m=\u001b[32m'PauliX'\u001b[0m\u001b[1m)\u001b[0m, \u001b[33mop2\u001b[0m=\u001b[1;35mPauliY\u001b[0m\u001b[1m(\u001b[0m\u001b[33mclass_\u001b[0m=\u001b[32m'PauliY'\u001b[0m\u001b[1m)\u001b[0m\u001b[1m)\u001b[0m,\n",
       "            \u001b[33mop2\u001b[0m=\u001b[1;35mOperatorMul\u001b[0m\u001b[1m(\u001b[0m\u001b[33mclass_\u001b[0m=\u001b[32m'OperatorMul'\u001b[0m, \u001b[33mop1\u001b[0m=\u001b[1;35mPauliZ\u001b[0m\u001b[1m(\u001b[0m\u001b[33mclass_\u001b[0m=\u001b[32m'PauliZ'\u001b[0m\u001b[1m)\u001b[0m, \u001b[33mop2\u001b[0m=\u001b[1;35mPauliI\u001b[0m\u001b[1m(\u001b[0m\u001b[33mclass_\u001b[0m=\u001b[32m'PauliI'\u001b[0m\u001b[1m)\u001b[0m\u001b[1m)\u001b[0m\n",
       "        \u001b[1m)\u001b[0m,\n",
       "        \u001b[33mexpr\u001b[0m=\u001b[1;35mMathNum\u001b[0m\u001b[1m(\u001b[0m\u001b[33mclass_\u001b[0m=\u001b[32m'MathNum'\u001b[0m, \u001b[33mvalue\u001b[0m=\u001b[1;36m1\u001b[0m\u001b[1m)\u001b[0m\n",
       "    \u001b[1m)\u001b[0m,\n",
       "    \u001b[33mop2\u001b[0m=\u001b[1;35mOperatorMul\u001b[0m\u001b[1m(\u001b[0m\n",
       "        \u001b[33mclass_\u001b[0m=\u001b[32m'OperatorMul'\u001b[0m,\n",
       "        \u001b[33mop1\u001b[0m=\u001b[1;35mAnnihilation\u001b[0m\u001b[1m(\u001b[0m\u001b[33mclass_\u001b[0m=\u001b[32m'Annihilation'\u001b[0m\u001b[1m)\u001b[0m,\n",
       "        \u001b[33mop2\u001b[0m=\u001b[1;35mCreation\u001b[0m\u001b[1m(\u001b[0m\u001b[33mclass_\u001b[0m=\u001b[32m'Creation'\u001b[0m\u001b[1m)\u001b[0m\n",
       "    \u001b[1m)\u001b[0m\n",
       "\u001b[1m)\u001b[0m\n"
      ]
     },
     "metadata": {},
     "output_type": "display_data"
    },
    {
     "data": {
      "text/html": [
       "<pre style=\"white-space:pre;overflow-x:auto;line-height:normal;font-family:Menlo,'DejaVu Sans Mono',consolas,'Courier New',monospace\"><span style=\"font-weight: bold\">(</span><span style=\"color: #008080; text-decoration-color: #008080; font-weight: bold\">1</span><span style=\"font-weight: bold\">)</span> * <span style=\"font-weight: bold\">(</span><span style=\"color: #800080; text-decoration-color: #800080; font-weight: bold\">PauliX</span><span style=\"font-weight: bold\">()</span> + <span style=\"color: #800080; text-decoration-color: #800080; font-weight: bold\">PauliY</span><span style=\"font-weight: bold\">()</span> - <span style=\"color: #800080; text-decoration-color: #800080; font-weight: bold\">PauliZ</span><span style=\"font-weight: bold\">()</span> * <span style=\"color: #800080; text-decoration-color: #800080; font-weight: bold\">PauliI</span><span style=\"font-weight: bold\">())</span> @ <span style=\"font-weight: bold\">(</span><span style=\"color: #800080; text-decoration-color: #800080; font-weight: bold\">Annihilation</span><span style=\"font-weight: bold\">()</span> * <span style=\"color: #800080; text-decoration-color: #800080; font-weight: bold\">Creation</span><span style=\"font-weight: bold\">())</span>\n",
       "</pre>\n"
      ],
      "text/plain": [
       "\u001b[1m(\u001b[0m\u001b[1;36m1\u001b[0m\u001b[1m)\u001b[0m * \u001b[1m(\u001b[0m\u001b[1;35mPauliX\u001b[0m\u001b[1m(\u001b[0m\u001b[1m)\u001b[0m + \u001b[1;35mPauliY\u001b[0m\u001b[1m(\u001b[0m\u001b[1m)\u001b[0m - \u001b[1;35mPauliZ\u001b[0m\u001b[1m(\u001b[0m\u001b[1m)\u001b[0m * \u001b[1;35mPauliI\u001b[0m\u001b[1m(\u001b[0m\u001b[1m)\u001b[0m\u001b[1m)\u001b[0m @ \u001b[1m(\u001b[0m\u001b[1;35mAnnihilation\u001b[0m\u001b[1m(\u001b[0m\u001b[1m)\u001b[0m * \u001b[1;35mCreation\u001b[0m\u001b[1m(\u001b[0m\u001b[1m)\u001b[0m\u001b[1m)\u001b[0m\n"
      ]
     },
     "metadata": {},
     "output_type": "display_data"
    }
   ],
   "source": [
    "op = MathNum(value=1) * (X+Y-Z*I) @ (A*C)\n",
    "\n",
    "pprint(op)\n",
    "pprint(op.accept(PrintOperator()))"
   ]
  },
  {
   "cell_type": "markdown",
   "metadata": {},
   "source": [
    "## Distribute"
   ]
  },
  {
   "cell_type": "code",
   "execution_count": 12,
   "metadata": {},
   "outputs": [
    {
     "data": {
      "text/html": [
       "<pre style=\"white-space:pre;overflow-x:auto;line-height:normal;font-family:Menlo,'DejaVu Sans Mono',consolas,'Courier New',monospace\"><span style=\"color: #800080; text-decoration-color: #800080; font-weight: bold\">OperatorKron</span><span style=\"font-weight: bold\">(</span>\n",
       "    <span style=\"color: #808000; text-decoration-color: #808000\">class_</span>=<span style=\"color: #008000; text-decoration-color: #008000\">'OperatorKron'</span>,\n",
       "    <span style=\"color: #808000; text-decoration-color: #808000\">op1</span>=<span style=\"color: #800080; text-decoration-color: #800080; font-weight: bold\">PauliX</span><span style=\"font-weight: bold\">(</span><span style=\"color: #808000; text-decoration-color: #808000\">class_</span>=<span style=\"color: #008000; text-decoration-color: #008000\">'PauliX'</span><span style=\"font-weight: bold\">)</span>,\n",
       "    <span style=\"color: #808000; text-decoration-color: #808000\">op2</span>=<span style=\"color: #800080; text-decoration-color: #800080; font-weight: bold\">OperatorAdd</span><span style=\"font-weight: bold\">(</span><span style=\"color: #808000; text-decoration-color: #808000\">class_</span>=<span style=\"color: #008000; text-decoration-color: #008000\">'OperatorAdd'</span>, <span style=\"color: #808000; text-decoration-color: #808000\">op1</span>=<span style=\"color: #800080; text-decoration-color: #800080; font-weight: bold\">PauliY</span><span style=\"font-weight: bold\">(</span><span style=\"color: #808000; text-decoration-color: #808000\">class_</span>=<span style=\"color: #008000; text-decoration-color: #008000\">'PauliY'</span><span style=\"font-weight: bold\">)</span>, <span style=\"color: #808000; text-decoration-color: #808000\">op2</span>=<span style=\"color: #800080; text-decoration-color: #800080; font-weight: bold\">PauliZ</span><span style=\"font-weight: bold\">(</span><span style=\"color: #808000; text-decoration-color: #808000\">class_</span>=<span style=\"color: #008000; text-decoration-color: #008000\">'PauliZ'</span><span style=\"font-weight: bold\">))</span>\n",
       "<span style=\"font-weight: bold\">)</span>\n",
       "</pre>\n"
      ],
      "text/plain": [
       "\u001b[1;35mOperatorKron\u001b[0m\u001b[1m(\u001b[0m\n",
       "    \u001b[33mclass_\u001b[0m=\u001b[32m'OperatorKron'\u001b[0m,\n",
       "    \u001b[33mop1\u001b[0m=\u001b[1;35mPauliX\u001b[0m\u001b[1m(\u001b[0m\u001b[33mclass_\u001b[0m=\u001b[32m'PauliX'\u001b[0m\u001b[1m)\u001b[0m,\n",
       "    \u001b[33mop2\u001b[0m=\u001b[1;35mOperatorAdd\u001b[0m\u001b[1m(\u001b[0m\u001b[33mclass_\u001b[0m=\u001b[32m'OperatorAdd'\u001b[0m, \u001b[33mop1\u001b[0m=\u001b[1;35mPauliY\u001b[0m\u001b[1m(\u001b[0m\u001b[33mclass_\u001b[0m=\u001b[32m'PauliY'\u001b[0m\u001b[1m)\u001b[0m, \u001b[33mop2\u001b[0m=\u001b[1;35mPauliZ\u001b[0m\u001b[1m(\u001b[0m\u001b[33mclass_\u001b[0m=\u001b[32m'PauliZ'\u001b[0m\u001b[1m)\u001b[0m\u001b[1m)\u001b[0m\n",
       "\u001b[1m)\u001b[0m\n"
      ]
     },
     "metadata": {},
     "output_type": "display_data"
    },
    {
     "data": {
      "text/html": [
       "<pre style=\"white-space:pre;overflow-x:auto;line-height:normal;font-family:Menlo,'DejaVu Sans Mono',consolas,'Courier New',monospace\"><span style=\"color: #800080; text-decoration-color: #800080; font-weight: bold\">PauliX</span><span style=\"font-weight: bold\">()</span> @ <span style=\"font-weight: bold\">(</span><span style=\"color: #800080; text-decoration-color: #800080; font-weight: bold\">PauliY</span><span style=\"font-weight: bold\">()</span> + <span style=\"color: #800080; text-decoration-color: #800080; font-weight: bold\">PauliZ</span><span style=\"font-weight: bold\">())</span>\n",
       "</pre>\n"
      ],
      "text/plain": [
       "\u001b[1;35mPauliX\u001b[0m\u001b[1m(\u001b[0m\u001b[1m)\u001b[0m @ \u001b[1m(\u001b[0m\u001b[1;35mPauliY\u001b[0m\u001b[1m(\u001b[0m\u001b[1m)\u001b[0m + \u001b[1;35mPauliZ\u001b[0m\u001b[1m(\u001b[0m\u001b[1m)\u001b[0m\u001b[1m)\u001b[0m\n"
      ]
     },
     "metadata": {},
     "output_type": "display_data"
    }
   ],
   "source": [
    "op = X @ (Y+Z)\n",
    "\n",
    "pprint(op)\n",
    "pprint(op.accept(PrintOperator()))"
   ]
  },
  {
   "cell_type": "code",
   "execution_count": 13,
   "metadata": {},
   "outputs": [
    {
     "data": {
      "text/html": [
       "<pre style=\"white-space:pre;overflow-x:auto;line-height:normal;font-family:Menlo,'DejaVu Sans Mono',consolas,'Courier New',monospace\"><span style=\"color: #800080; text-decoration-color: #800080; font-weight: bold\">OperatorAdd</span><span style=\"font-weight: bold\">(</span>\n",
       "    <span style=\"color: #808000; text-decoration-color: #808000\">class_</span>=<span style=\"color: #008000; text-decoration-color: #008000\">'OperatorAdd'</span>,\n",
       "    <span style=\"color: #808000; text-decoration-color: #808000\">op1</span>=<span style=\"color: #800080; text-decoration-color: #800080; font-weight: bold\">OperatorKron</span><span style=\"font-weight: bold\">(</span><span style=\"color: #808000; text-decoration-color: #808000\">class_</span>=<span style=\"color: #008000; text-decoration-color: #008000\">'OperatorKron'</span>, <span style=\"color: #808000; text-decoration-color: #808000\">op1</span>=<span style=\"color: #800080; text-decoration-color: #800080; font-weight: bold\">PauliX</span><span style=\"font-weight: bold\">(</span><span style=\"color: #808000; text-decoration-color: #808000\">class_</span>=<span style=\"color: #008000; text-decoration-color: #008000\">'PauliX'</span><span style=\"font-weight: bold\">)</span>, <span style=\"color: #808000; text-decoration-color: #808000\">op2</span>=<span style=\"color: #800080; text-decoration-color: #800080; font-weight: bold\">PauliY</span><span style=\"font-weight: bold\">(</span><span style=\"color: #808000; text-decoration-color: #808000\">class_</span>=<span style=\"color: #008000; text-decoration-color: #008000\">'PauliY'</span><span style=\"font-weight: bold\">))</span>,\n",
       "    <span style=\"color: #808000; text-decoration-color: #808000\">op2</span>=<span style=\"color: #800080; text-decoration-color: #800080; font-weight: bold\">OperatorKron</span><span style=\"font-weight: bold\">(</span><span style=\"color: #808000; text-decoration-color: #808000\">class_</span>=<span style=\"color: #008000; text-decoration-color: #008000\">'OperatorKron'</span>, <span style=\"color: #808000; text-decoration-color: #808000\">op1</span>=<span style=\"color: #800080; text-decoration-color: #800080; font-weight: bold\">PauliX</span><span style=\"font-weight: bold\">(</span><span style=\"color: #808000; text-decoration-color: #808000\">class_</span>=<span style=\"color: #008000; text-decoration-color: #008000\">'PauliX'</span><span style=\"font-weight: bold\">)</span>, <span style=\"color: #808000; text-decoration-color: #808000\">op2</span>=<span style=\"color: #800080; text-decoration-color: #800080; font-weight: bold\">PauliZ</span><span style=\"font-weight: bold\">(</span><span style=\"color: #808000; text-decoration-color: #808000\">class_</span>=<span style=\"color: #008000; text-decoration-color: #008000\">'PauliZ'</span><span style=\"font-weight: bold\">))</span>\n",
       "<span style=\"font-weight: bold\">)</span>\n",
       "</pre>\n"
      ],
      "text/plain": [
       "\u001b[1;35mOperatorAdd\u001b[0m\u001b[1m(\u001b[0m\n",
       "    \u001b[33mclass_\u001b[0m=\u001b[32m'OperatorAdd'\u001b[0m,\n",
       "    \u001b[33mop1\u001b[0m=\u001b[1;35mOperatorKron\u001b[0m\u001b[1m(\u001b[0m\u001b[33mclass_\u001b[0m=\u001b[32m'OperatorKron'\u001b[0m, \u001b[33mop1\u001b[0m=\u001b[1;35mPauliX\u001b[0m\u001b[1m(\u001b[0m\u001b[33mclass_\u001b[0m=\u001b[32m'PauliX'\u001b[0m\u001b[1m)\u001b[0m, \u001b[33mop2\u001b[0m=\u001b[1;35mPauliY\u001b[0m\u001b[1m(\u001b[0m\u001b[33mclass_\u001b[0m=\u001b[32m'PauliY'\u001b[0m\u001b[1m)\u001b[0m\u001b[1m)\u001b[0m,\n",
       "    \u001b[33mop2\u001b[0m=\u001b[1;35mOperatorKron\u001b[0m\u001b[1m(\u001b[0m\u001b[33mclass_\u001b[0m=\u001b[32m'OperatorKron'\u001b[0m, \u001b[33mop1\u001b[0m=\u001b[1;35mPauliX\u001b[0m\u001b[1m(\u001b[0m\u001b[33mclass_\u001b[0m=\u001b[32m'PauliX'\u001b[0m\u001b[1m)\u001b[0m, \u001b[33mop2\u001b[0m=\u001b[1;35mPauliZ\u001b[0m\u001b[1m(\u001b[0m\u001b[33mclass_\u001b[0m=\u001b[32m'PauliZ'\u001b[0m\u001b[1m)\u001b[0m\u001b[1m)\u001b[0m\n",
       "\u001b[1m)\u001b[0m\n"
      ]
     },
     "metadata": {},
     "output_type": "display_data"
    },
    {
     "data": {
      "text/html": [
       "<pre style=\"white-space:pre;overflow-x:auto;line-height:normal;font-family:Menlo,'DejaVu Sans Mono',consolas,'Courier New',monospace\"><span style=\"color: #800080; text-decoration-color: #800080; font-weight: bold\">PauliX</span><span style=\"font-weight: bold\">()</span> @ <span style=\"color: #800080; text-decoration-color: #800080; font-weight: bold\">PauliY</span><span style=\"font-weight: bold\">()</span> + <span style=\"color: #800080; text-decoration-color: #800080; font-weight: bold\">PauliX</span><span style=\"font-weight: bold\">()</span> @ <span style=\"color: #800080; text-decoration-color: #800080; font-weight: bold\">PauliZ</span><span style=\"font-weight: bold\">()</span>\n",
       "</pre>\n"
      ],
      "text/plain": [
       "\u001b[1;35mPauliX\u001b[0m\u001b[1m(\u001b[0m\u001b[1m)\u001b[0m @ \u001b[1;35mPauliY\u001b[0m\u001b[1m(\u001b[0m\u001b[1m)\u001b[0m + \u001b[1;35mPauliX\u001b[0m\u001b[1m(\u001b[0m\u001b[1m)\u001b[0m @ \u001b[1;35mPauliZ\u001b[0m\u001b[1m(\u001b[0m\u001b[1m)\u001b[0m\n"
      ]
     },
     "metadata": {},
     "output_type": "display_data"
    }
   ],
   "source": [
    "op = op.accept(OperatorDistribute())\n",
    "\n",
    "pprint(op)\n",
    "pprint(op.accept(PrintOperator()))"
   ]
  },
  {
   "cell_type": "markdown",
   "metadata": {},
   "source": [
    "## Proper Order"
   ]
  },
  {
   "cell_type": "code",
   "execution_count": 14,
   "metadata": {},
   "outputs": [
    {
     "data": {
      "text/html": [
       "<pre style=\"white-space:pre;overflow-x:auto;line-height:normal;font-family:Menlo,'DejaVu Sans Mono',consolas,'Courier New',monospace\"><span style=\"color: #800080; text-decoration-color: #800080; font-weight: bold\">OperatorKron</span><span style=\"font-weight: bold\">(</span>\n",
       "    <span style=\"color: #808000; text-decoration-color: #808000\">class_</span>=<span style=\"color: #008000; text-decoration-color: #008000\">'OperatorKron'</span>,\n",
       "    <span style=\"color: #808000; text-decoration-color: #808000\">op1</span>=<span style=\"color: #800080; text-decoration-color: #800080; font-weight: bold\">PauliX</span><span style=\"font-weight: bold\">(</span><span style=\"color: #808000; text-decoration-color: #808000\">class_</span>=<span style=\"color: #008000; text-decoration-color: #008000\">'PauliX'</span><span style=\"font-weight: bold\">)</span>,\n",
       "    <span style=\"color: #808000; text-decoration-color: #808000\">op2</span>=<span style=\"color: #800080; text-decoration-color: #800080; font-weight: bold\">OperatorKron</span><span style=\"font-weight: bold\">(</span><span style=\"color: #808000; text-decoration-color: #808000\">class_</span>=<span style=\"color: #008000; text-decoration-color: #008000\">'OperatorKron'</span>, <span style=\"color: #808000; text-decoration-color: #808000\">op1</span>=<span style=\"color: #800080; text-decoration-color: #800080; font-weight: bold\">PauliX</span><span style=\"font-weight: bold\">(</span><span style=\"color: #808000; text-decoration-color: #808000\">class_</span>=<span style=\"color: #008000; text-decoration-color: #008000\">'PauliX'</span><span style=\"font-weight: bold\">)</span>, <span style=\"color: #808000; text-decoration-color: #808000\">op2</span>=<span style=\"color: #800080; text-decoration-color: #800080; font-weight: bold\">Annihilation</span><span style=\"font-weight: bold\">(</span><span style=\"color: #808000; text-decoration-color: #808000\">class_</span>=<span style=\"color: #008000; text-decoration-color: #008000\">'Annihilation'</span><span style=\"font-weight: bold\">))</span>\n",
       "<span style=\"font-weight: bold\">)</span>\n",
       "</pre>\n"
      ],
      "text/plain": [
       "\u001b[1;35mOperatorKron\u001b[0m\u001b[1m(\u001b[0m\n",
       "    \u001b[33mclass_\u001b[0m=\u001b[32m'OperatorKron'\u001b[0m,\n",
       "    \u001b[33mop1\u001b[0m=\u001b[1;35mPauliX\u001b[0m\u001b[1m(\u001b[0m\u001b[33mclass_\u001b[0m=\u001b[32m'PauliX'\u001b[0m\u001b[1m)\u001b[0m,\n",
       "    \u001b[33mop2\u001b[0m=\u001b[1;35mOperatorKron\u001b[0m\u001b[1m(\u001b[0m\u001b[33mclass_\u001b[0m=\u001b[32m'OperatorKron'\u001b[0m, \u001b[33mop1\u001b[0m=\u001b[1;35mPauliX\u001b[0m\u001b[1m(\u001b[0m\u001b[33mclass_\u001b[0m=\u001b[32m'PauliX'\u001b[0m\u001b[1m)\u001b[0m, \u001b[33mop2\u001b[0m=\u001b[1;35mAnnihilation\u001b[0m\u001b[1m(\u001b[0m\u001b[33mclass_\u001b[0m=\u001b[32m'Annihilation'\u001b[0m\u001b[1m)\u001b[0m\u001b[1m)\u001b[0m\n",
       "\u001b[1m)\u001b[0m\n"
      ]
     },
     "metadata": {},
     "output_type": "display_data"
    },
    {
     "data": {
      "text/html": [
       "<pre style=\"white-space:pre;overflow-x:auto;line-height:normal;font-family:Menlo,'DejaVu Sans Mono',consolas,'Courier New',monospace\"><span style=\"color: #800080; text-decoration-color: #800080; font-weight: bold\">PauliX</span><span style=\"font-weight: bold\">()</span> @ <span style=\"font-weight: bold\">(</span><span style=\"color: #800080; text-decoration-color: #800080; font-weight: bold\">PauliX</span><span style=\"font-weight: bold\">()</span> @ <span style=\"color: #800080; text-decoration-color: #800080; font-weight: bold\">Annihilation</span><span style=\"font-weight: bold\">())</span>\n",
       "</pre>\n"
      ],
      "text/plain": [
       "\u001b[1;35mPauliX\u001b[0m\u001b[1m(\u001b[0m\u001b[1m)\u001b[0m @ \u001b[1m(\u001b[0m\u001b[1;35mPauliX\u001b[0m\u001b[1m(\u001b[0m\u001b[1m)\u001b[0m @ \u001b[1;35mAnnihilation\u001b[0m\u001b[1m(\u001b[0m\u001b[1m)\u001b[0m\u001b[1m)\u001b[0m\n"
      ]
     },
     "metadata": {},
     "output_type": "display_data"
    }
   ],
   "source": [
    "op = X @ (X @ A)\n",
    "\n",
    "pprint(op)\n",
    "pprint(op.accept(VerbosePrintOperator()))"
   ]
  },
  {
   "cell_type": "code",
   "execution_count": 15,
   "metadata": {},
   "outputs": [
    {
     "data": {
      "text/html": [
       "<pre style=\"white-space:pre;overflow-x:auto;line-height:normal;font-family:Menlo,'DejaVu Sans Mono',consolas,'Courier New',monospace\"><span style=\"color: #800080; text-decoration-color: #800080; font-weight: bold\">OperatorKron</span><span style=\"font-weight: bold\">(</span>\n",
       "    <span style=\"color: #808000; text-decoration-color: #808000\">class_</span>=<span style=\"color: #008000; text-decoration-color: #008000\">'OperatorKron'</span>,\n",
       "    <span style=\"color: #808000; text-decoration-color: #808000\">op1</span>=<span style=\"color: #800080; text-decoration-color: #800080; font-weight: bold\">OperatorKron</span><span style=\"font-weight: bold\">(</span><span style=\"color: #808000; text-decoration-color: #808000\">class_</span>=<span style=\"color: #008000; text-decoration-color: #008000\">'OperatorKron'</span>, <span style=\"color: #808000; text-decoration-color: #808000\">op1</span>=<span style=\"color: #800080; text-decoration-color: #800080; font-weight: bold\">PauliX</span><span style=\"font-weight: bold\">(</span><span style=\"color: #808000; text-decoration-color: #808000\">class_</span>=<span style=\"color: #008000; text-decoration-color: #008000\">'PauliX'</span><span style=\"font-weight: bold\">)</span>, <span style=\"color: #808000; text-decoration-color: #808000\">op2</span>=<span style=\"color: #800080; text-decoration-color: #800080; font-weight: bold\">PauliX</span><span style=\"font-weight: bold\">(</span><span style=\"color: #808000; text-decoration-color: #808000\">class_</span>=<span style=\"color: #008000; text-decoration-color: #008000\">'PauliX'</span><span style=\"font-weight: bold\">))</span>,\n",
       "    <span style=\"color: #808000; text-decoration-color: #808000\">op2</span>=<span style=\"color: #800080; text-decoration-color: #800080; font-weight: bold\">Annihilation</span><span style=\"font-weight: bold\">(</span><span style=\"color: #808000; text-decoration-color: #808000\">class_</span>=<span style=\"color: #008000; text-decoration-color: #008000\">'Annihilation'</span><span style=\"font-weight: bold\">)</span>\n",
       "<span style=\"font-weight: bold\">)</span>\n",
       "</pre>\n"
      ],
      "text/plain": [
       "\u001b[1;35mOperatorKron\u001b[0m\u001b[1m(\u001b[0m\n",
       "    \u001b[33mclass_\u001b[0m=\u001b[32m'OperatorKron'\u001b[0m,\n",
       "    \u001b[33mop1\u001b[0m=\u001b[1;35mOperatorKron\u001b[0m\u001b[1m(\u001b[0m\u001b[33mclass_\u001b[0m=\u001b[32m'OperatorKron'\u001b[0m, \u001b[33mop1\u001b[0m=\u001b[1;35mPauliX\u001b[0m\u001b[1m(\u001b[0m\u001b[33mclass_\u001b[0m=\u001b[32m'PauliX'\u001b[0m\u001b[1m)\u001b[0m, \u001b[33mop2\u001b[0m=\u001b[1;35mPauliX\u001b[0m\u001b[1m(\u001b[0m\u001b[33mclass_\u001b[0m=\u001b[32m'PauliX'\u001b[0m\u001b[1m)\u001b[0m\u001b[1m)\u001b[0m,\n",
       "    \u001b[33mop2\u001b[0m=\u001b[1;35mAnnihilation\u001b[0m\u001b[1m(\u001b[0m\u001b[33mclass_\u001b[0m=\u001b[32m'Annihilation'\u001b[0m\u001b[1m)\u001b[0m\n",
       "\u001b[1m)\u001b[0m\n"
      ]
     },
     "metadata": {},
     "output_type": "display_data"
    },
    {
     "data": {
      "text/html": [
       "<pre style=\"white-space:pre;overflow-x:auto;line-height:normal;font-family:Menlo,'DejaVu Sans Mono',consolas,'Courier New',monospace\"><span style=\"font-weight: bold\">(</span><span style=\"color: #800080; text-decoration-color: #800080; font-weight: bold\">PauliX</span><span style=\"font-weight: bold\">()</span> @ <span style=\"color: #800080; text-decoration-color: #800080; font-weight: bold\">PauliX</span><span style=\"font-weight: bold\">())</span> @ <span style=\"color: #800080; text-decoration-color: #800080; font-weight: bold\">Annihilation</span><span style=\"font-weight: bold\">()</span>\n",
       "</pre>\n"
      ],
      "text/plain": [
       "\u001b[1m(\u001b[0m\u001b[1;35mPauliX\u001b[0m\u001b[1m(\u001b[0m\u001b[1m)\u001b[0m @ \u001b[1;35mPauliX\u001b[0m\u001b[1m(\u001b[0m\u001b[1m)\u001b[0m\u001b[1m)\u001b[0m @ \u001b[1;35mAnnihilation\u001b[0m\u001b[1m(\u001b[0m\u001b[1m)\u001b[0m\n"
      ]
     },
     "metadata": {},
     "output_type": "display_data"
    }
   ],
   "source": [
    "op = op.accept(ProperOrder())\n",
    "\n",
    "pprint(op)\n",
    "pprint(op.accept(VerbosePrintOperator()))"
   ]
  },
  {
   "cell_type": "markdown",
   "metadata": {},
   "source": [
    "## Gather MathExpr"
   ]
  },
  {
   "cell_type": "code",
   "execution_count": 16,
   "metadata": {},
   "outputs": [
    {
     "data": {
      "text/html": [
       "<pre style=\"white-space:pre;overflow-x:auto;line-height:normal;font-family:Menlo,'DejaVu Sans Mono',consolas,'Courier New',monospace\"><span style=\"color: #800080; text-decoration-color: #800080; font-weight: bold\">OperatorKron</span><span style=\"font-weight: bold\">(</span>\n",
       "    <span style=\"color: #808000; text-decoration-color: #808000\">class_</span>=<span style=\"color: #008000; text-decoration-color: #008000\">'OperatorKron'</span>,\n",
       "    <span style=\"color: #808000; text-decoration-color: #808000\">op1</span>=<span style=\"color: #800080; text-decoration-color: #800080; font-weight: bold\">OperatorScalarMul</span><span style=\"font-weight: bold\">(</span>\n",
       "        <span style=\"color: #808000; text-decoration-color: #808000\">class_</span>=<span style=\"color: #008000; text-decoration-color: #008000\">'OperatorScalarMul'</span>,\n",
       "        <span style=\"color: #808000; text-decoration-color: #808000\">op</span>=<span style=\"color: #800080; text-decoration-color: #800080; font-weight: bold\">PauliX</span><span style=\"font-weight: bold\">(</span><span style=\"color: #808000; text-decoration-color: #808000\">class_</span>=<span style=\"color: #008000; text-decoration-color: #008000\">'PauliX'</span><span style=\"font-weight: bold\">)</span>,\n",
       "        <span style=\"color: #808000; text-decoration-color: #808000\">expr</span>=<span style=\"color: #800080; text-decoration-color: #800080; font-weight: bold\">MathNum</span><span style=\"font-weight: bold\">(</span><span style=\"color: #808000; text-decoration-color: #808000\">class_</span>=<span style=\"color: #008000; text-decoration-color: #008000\">'MathNum'</span>, <span style=\"color: #808000; text-decoration-color: #808000\">value</span>=<span style=\"color: #008080; text-decoration-color: #008080; font-weight: bold\">1</span><span style=\"font-weight: bold\">)</span>\n",
       "    <span style=\"font-weight: bold\">)</span>,\n",
       "    <span style=\"color: #808000; text-decoration-color: #808000\">op2</span>=<span style=\"color: #800080; text-decoration-color: #800080; font-weight: bold\">OperatorScalarMul</span><span style=\"font-weight: bold\">(</span>\n",
       "        <span style=\"color: #808000; text-decoration-color: #808000\">class_</span>=<span style=\"color: #008000; text-decoration-color: #008000\">'OperatorScalarMul'</span>,\n",
       "        <span style=\"color: #808000; text-decoration-color: #808000\">op</span>=<span style=\"color: #800080; text-decoration-color: #800080; font-weight: bold\">PauliX</span><span style=\"font-weight: bold\">(</span><span style=\"color: #808000; text-decoration-color: #808000\">class_</span>=<span style=\"color: #008000; text-decoration-color: #008000\">'PauliX'</span><span style=\"font-weight: bold\">)</span>,\n",
       "        <span style=\"color: #808000; text-decoration-color: #808000\">expr</span>=<span style=\"color: #800080; text-decoration-color: #800080; font-weight: bold\">MathNum</span><span style=\"font-weight: bold\">(</span><span style=\"color: #808000; text-decoration-color: #808000\">class_</span>=<span style=\"color: #008000; text-decoration-color: #008000\">'MathNum'</span>, <span style=\"color: #808000; text-decoration-color: #808000\">value</span>=<span style=\"color: #008080; text-decoration-color: #008080; font-weight: bold\">2</span><span style=\"font-weight: bold\">)</span>\n",
       "    <span style=\"font-weight: bold\">)</span>\n",
       "<span style=\"font-weight: bold\">)</span>\n",
       "</pre>\n"
      ],
      "text/plain": [
       "\u001b[1;35mOperatorKron\u001b[0m\u001b[1m(\u001b[0m\n",
       "    \u001b[33mclass_\u001b[0m=\u001b[32m'OperatorKron'\u001b[0m,\n",
       "    \u001b[33mop1\u001b[0m=\u001b[1;35mOperatorScalarMul\u001b[0m\u001b[1m(\u001b[0m\n",
       "        \u001b[33mclass_\u001b[0m=\u001b[32m'OperatorScalarMul'\u001b[0m,\n",
       "        \u001b[33mop\u001b[0m=\u001b[1;35mPauliX\u001b[0m\u001b[1m(\u001b[0m\u001b[33mclass_\u001b[0m=\u001b[32m'PauliX'\u001b[0m\u001b[1m)\u001b[0m,\n",
       "        \u001b[33mexpr\u001b[0m=\u001b[1;35mMathNum\u001b[0m\u001b[1m(\u001b[0m\u001b[33mclass_\u001b[0m=\u001b[32m'MathNum'\u001b[0m, \u001b[33mvalue\u001b[0m=\u001b[1;36m1\u001b[0m\u001b[1m)\u001b[0m\n",
       "    \u001b[1m)\u001b[0m,\n",
       "    \u001b[33mop2\u001b[0m=\u001b[1;35mOperatorScalarMul\u001b[0m\u001b[1m(\u001b[0m\n",
       "        \u001b[33mclass_\u001b[0m=\u001b[32m'OperatorScalarMul'\u001b[0m,\n",
       "        \u001b[33mop\u001b[0m=\u001b[1;35mPauliX\u001b[0m\u001b[1m(\u001b[0m\u001b[33mclass_\u001b[0m=\u001b[32m'PauliX'\u001b[0m\u001b[1m)\u001b[0m,\n",
       "        \u001b[33mexpr\u001b[0m=\u001b[1;35mMathNum\u001b[0m\u001b[1m(\u001b[0m\u001b[33mclass_\u001b[0m=\u001b[32m'MathNum'\u001b[0m, \u001b[33mvalue\u001b[0m=\u001b[1;36m2\u001b[0m\u001b[1m)\u001b[0m\n",
       "    \u001b[1m)\u001b[0m\n",
       "\u001b[1m)\u001b[0m\n"
      ]
     },
     "metadata": {},
     "output_type": "display_data"
    },
    {
     "data": {
      "text/html": [
       "<pre style=\"white-space:pre;overflow-x:auto;line-height:normal;font-family:Menlo,'DejaVu Sans Mono',consolas,'Courier New',monospace\"><span style=\"font-weight: bold\">(</span><span style=\"color: #008080; text-decoration-color: #008080; font-weight: bold\">1</span><span style=\"font-weight: bold\">)</span> * <span style=\"color: #800080; text-decoration-color: #800080; font-weight: bold\">PauliX</span><span style=\"font-weight: bold\">()</span> @ <span style=\"font-weight: bold\">(</span><span style=\"color: #008080; text-decoration-color: #008080; font-weight: bold\">2</span><span style=\"font-weight: bold\">)</span> * <span style=\"color: #800080; text-decoration-color: #800080; font-weight: bold\">PauliX</span><span style=\"font-weight: bold\">()</span>\n",
       "</pre>\n"
      ],
      "text/plain": [
       "\u001b[1m(\u001b[0m\u001b[1;36m1\u001b[0m\u001b[1m)\u001b[0m * \u001b[1;35mPauliX\u001b[0m\u001b[1m(\u001b[0m\u001b[1m)\u001b[0m @ \u001b[1m(\u001b[0m\u001b[1;36m2\u001b[0m\u001b[1m)\u001b[0m * \u001b[1;35mPauliX\u001b[0m\u001b[1m(\u001b[0m\u001b[1m)\u001b[0m\n"
      ]
     },
     "metadata": {},
     "output_type": "display_data"
    }
   ],
   "source": [
    "op = (1*X) @ (2*X) \n",
    "\n",
    "pprint(op)\n",
    "pprint(op.accept(PrintOperator()))"
   ]
  },
  {
   "cell_type": "code",
   "execution_count": 17,
   "metadata": {},
   "outputs": [
    {
     "data": {
      "text/html": [
       "<pre style=\"white-space:pre;overflow-x:auto;line-height:normal;font-family:Menlo,'DejaVu Sans Mono',consolas,'Courier New',monospace\"><span style=\"color: #800080; text-decoration-color: #800080; font-weight: bold\">OperatorScalarMul</span><span style=\"font-weight: bold\">(</span>\n",
       "    <span style=\"color: #808000; text-decoration-color: #808000\">class_</span>=<span style=\"color: #008000; text-decoration-color: #008000\">'OperatorScalarMul'</span>,\n",
       "    <span style=\"color: #808000; text-decoration-color: #808000\">op</span>=<span style=\"color: #800080; text-decoration-color: #800080; font-weight: bold\">OperatorKron</span><span style=\"font-weight: bold\">(</span><span style=\"color: #808000; text-decoration-color: #808000\">class_</span>=<span style=\"color: #008000; text-decoration-color: #008000\">'OperatorKron'</span>, <span style=\"color: #808000; text-decoration-color: #808000\">op1</span>=<span style=\"color: #800080; text-decoration-color: #800080; font-weight: bold\">PauliX</span><span style=\"font-weight: bold\">(</span><span style=\"color: #808000; text-decoration-color: #808000\">class_</span>=<span style=\"color: #008000; text-decoration-color: #008000\">'PauliX'</span><span style=\"font-weight: bold\">)</span>, <span style=\"color: #808000; text-decoration-color: #808000\">op2</span>=<span style=\"color: #800080; text-decoration-color: #800080; font-weight: bold\">PauliX</span><span style=\"font-weight: bold\">(</span><span style=\"color: #808000; text-decoration-color: #808000\">class_</span>=<span style=\"color: #008000; text-decoration-color: #008000\">'PauliX'</span><span style=\"font-weight: bold\">))</span>,\n",
       "    <span style=\"color: #808000; text-decoration-color: #808000\">expr</span>=<span style=\"color: #800080; text-decoration-color: #800080; font-weight: bold\">MathMul</span><span style=\"font-weight: bold\">(</span>\n",
       "        <span style=\"color: #808000; text-decoration-color: #808000\">class_</span>=<span style=\"color: #008000; text-decoration-color: #008000\">'MathMul'</span>,\n",
       "        <span style=\"color: #808000; text-decoration-color: #808000\">expr1</span>=<span style=\"color: #800080; text-decoration-color: #800080; font-weight: bold\">MathNum</span><span style=\"font-weight: bold\">(</span><span style=\"color: #808000; text-decoration-color: #808000\">class_</span>=<span style=\"color: #008000; text-decoration-color: #008000\">'MathNum'</span>, <span style=\"color: #808000; text-decoration-color: #808000\">value</span>=<span style=\"color: #008080; text-decoration-color: #008080; font-weight: bold\">1</span><span style=\"font-weight: bold\">)</span>,\n",
       "        <span style=\"color: #808000; text-decoration-color: #808000\">expr2</span>=<span style=\"color: #800080; text-decoration-color: #800080; font-weight: bold\">MathNum</span><span style=\"font-weight: bold\">(</span><span style=\"color: #808000; text-decoration-color: #808000\">class_</span>=<span style=\"color: #008000; text-decoration-color: #008000\">'MathNum'</span>, <span style=\"color: #808000; text-decoration-color: #808000\">value</span>=<span style=\"color: #008080; text-decoration-color: #008080; font-weight: bold\">2</span><span style=\"font-weight: bold\">)</span>\n",
       "    <span style=\"font-weight: bold\">)</span>\n",
       "<span style=\"font-weight: bold\">)</span>\n",
       "</pre>\n"
      ],
      "text/plain": [
       "\u001b[1;35mOperatorScalarMul\u001b[0m\u001b[1m(\u001b[0m\n",
       "    \u001b[33mclass_\u001b[0m=\u001b[32m'OperatorScalarMul'\u001b[0m,\n",
       "    \u001b[33mop\u001b[0m=\u001b[1;35mOperatorKron\u001b[0m\u001b[1m(\u001b[0m\u001b[33mclass_\u001b[0m=\u001b[32m'OperatorKron'\u001b[0m, \u001b[33mop1\u001b[0m=\u001b[1;35mPauliX\u001b[0m\u001b[1m(\u001b[0m\u001b[33mclass_\u001b[0m=\u001b[32m'PauliX'\u001b[0m\u001b[1m)\u001b[0m, \u001b[33mop2\u001b[0m=\u001b[1;35mPauliX\u001b[0m\u001b[1m(\u001b[0m\u001b[33mclass_\u001b[0m=\u001b[32m'PauliX'\u001b[0m\u001b[1m)\u001b[0m\u001b[1m)\u001b[0m,\n",
       "    \u001b[33mexpr\u001b[0m=\u001b[1;35mMathMul\u001b[0m\u001b[1m(\u001b[0m\n",
       "        \u001b[33mclass_\u001b[0m=\u001b[32m'MathMul'\u001b[0m,\n",
       "        \u001b[33mexpr1\u001b[0m=\u001b[1;35mMathNum\u001b[0m\u001b[1m(\u001b[0m\u001b[33mclass_\u001b[0m=\u001b[32m'MathNum'\u001b[0m, \u001b[33mvalue\u001b[0m=\u001b[1;36m1\u001b[0m\u001b[1m)\u001b[0m,\n",
       "        \u001b[33mexpr2\u001b[0m=\u001b[1;35mMathNum\u001b[0m\u001b[1m(\u001b[0m\u001b[33mclass_\u001b[0m=\u001b[32m'MathNum'\u001b[0m, \u001b[33mvalue\u001b[0m=\u001b[1;36m2\u001b[0m\u001b[1m)\u001b[0m\n",
       "    \u001b[1m)\u001b[0m\n",
       "\u001b[1m)\u001b[0m\n"
      ]
     },
     "metadata": {},
     "output_type": "display_data"
    },
    {
     "data": {
      "text/html": [
       "<pre style=\"white-space:pre;overflow-x:auto;line-height:normal;font-family:Menlo,'DejaVu Sans Mono',consolas,'Courier New',monospace\"><span style=\"font-weight: bold\">(</span><span style=\"color: #008080; text-decoration-color: #008080; font-weight: bold\">1</span> * <span style=\"color: #008080; text-decoration-color: #008080; font-weight: bold\">2</span><span style=\"font-weight: bold\">)</span> * <span style=\"font-weight: bold\">(</span><span style=\"color: #800080; text-decoration-color: #800080; font-weight: bold\">PauliX</span><span style=\"font-weight: bold\">()</span> @ <span style=\"color: #800080; text-decoration-color: #800080; font-weight: bold\">PauliX</span><span style=\"font-weight: bold\">())</span>\n",
       "</pre>\n"
      ],
      "text/plain": [
       "\u001b[1m(\u001b[0m\u001b[1;36m1\u001b[0m * \u001b[1;36m2\u001b[0m\u001b[1m)\u001b[0m * \u001b[1m(\u001b[0m\u001b[1;35mPauliX\u001b[0m\u001b[1m(\u001b[0m\u001b[1m)\u001b[0m @ \u001b[1;35mPauliX\u001b[0m\u001b[1m(\u001b[0m\u001b[1m)\u001b[0m\u001b[1m)\u001b[0m\n"
      ]
     },
     "metadata": {},
     "output_type": "display_data"
    }
   ],
   "source": [
    "op = op.accept(GatherMathExpr())\n",
    "\n",
    "pprint(op)\n",
    "pprint(op.accept(PrintOperator()))"
   ]
  },
  {
   "cell_type": "markdown",
   "metadata": {},
   "source": [
    "## Gather Pauli"
   ]
  },
  {
   "cell_type": "code",
   "execution_count": 18,
   "metadata": {},
   "outputs": [
    {
     "data": {
      "text/html": [
       "<pre style=\"white-space:pre;overflow-x:auto;line-height:normal;font-family:Menlo,'DejaVu Sans Mono',consolas,'Courier New',monospace\"><span style=\"color: #800080; text-decoration-color: #800080; font-weight: bold\">OperatorKron</span><span style=\"font-weight: bold\">(</span>\n",
       "    <span style=\"color: #808000; text-decoration-color: #808000\">class_</span>=<span style=\"color: #008000; text-decoration-color: #008000\">'OperatorKron'</span>,\n",
       "    <span style=\"color: #808000; text-decoration-color: #808000\">op1</span>=<span style=\"color: #800080; text-decoration-color: #800080; font-weight: bold\">OperatorKron</span><span style=\"font-weight: bold\">(</span>\n",
       "        <span style=\"color: #808000; text-decoration-color: #808000\">class_</span>=<span style=\"color: #008000; text-decoration-color: #008000\">'OperatorKron'</span>,\n",
       "        <span style=\"color: #808000; text-decoration-color: #808000\">op1</span>=<span style=\"color: #800080; text-decoration-color: #800080; font-weight: bold\">OperatorKron</span><span style=\"font-weight: bold\">(</span>\n",
       "            <span style=\"color: #808000; text-decoration-color: #808000\">class_</span>=<span style=\"color: #008000; text-decoration-color: #008000\">'OperatorKron'</span>,\n",
       "            <span style=\"color: #808000; text-decoration-color: #808000\">op1</span>=<span style=\"color: #800080; text-decoration-color: #800080; font-weight: bold\">Annihilation</span><span style=\"font-weight: bold\">(</span><span style=\"color: #808000; text-decoration-color: #808000\">class_</span>=<span style=\"color: #008000; text-decoration-color: #008000\">'Annihilation'</span><span style=\"font-weight: bold\">)</span>,\n",
       "            <span style=\"color: #808000; text-decoration-color: #808000\">op2</span>=<span style=\"color: #800080; text-decoration-color: #800080; font-weight: bold\">PauliX</span><span style=\"font-weight: bold\">(</span><span style=\"color: #808000; text-decoration-color: #808000\">class_</span>=<span style=\"color: #008000; text-decoration-color: #008000\">'PauliX'</span><span style=\"font-weight: bold\">)</span>\n",
       "        <span style=\"font-weight: bold\">)</span>,\n",
       "        <span style=\"color: #808000; text-decoration-color: #808000\">op2</span>=<span style=\"color: #800080; text-decoration-color: #800080; font-weight: bold\">Creation</span><span style=\"font-weight: bold\">(</span><span style=\"color: #808000; text-decoration-color: #808000\">class_</span>=<span style=\"color: #008000; text-decoration-color: #008000\">'Creation'</span><span style=\"font-weight: bold\">)</span>\n",
       "    <span style=\"font-weight: bold\">)</span>,\n",
       "    <span style=\"color: #808000; text-decoration-color: #808000\">op2</span>=<span style=\"color: #800080; text-decoration-color: #800080; font-weight: bold\">PauliY</span><span style=\"font-weight: bold\">(</span><span style=\"color: #808000; text-decoration-color: #808000\">class_</span>=<span style=\"color: #008000; text-decoration-color: #008000\">'PauliY'</span><span style=\"font-weight: bold\">)</span>\n",
       "<span style=\"font-weight: bold\">)</span>\n",
       "</pre>\n"
      ],
      "text/plain": [
       "\u001b[1;35mOperatorKron\u001b[0m\u001b[1m(\u001b[0m\n",
       "    \u001b[33mclass_\u001b[0m=\u001b[32m'OperatorKron'\u001b[0m,\n",
       "    \u001b[33mop1\u001b[0m=\u001b[1;35mOperatorKron\u001b[0m\u001b[1m(\u001b[0m\n",
       "        \u001b[33mclass_\u001b[0m=\u001b[32m'OperatorKron'\u001b[0m,\n",
       "        \u001b[33mop1\u001b[0m=\u001b[1;35mOperatorKron\u001b[0m\u001b[1m(\u001b[0m\n",
       "            \u001b[33mclass_\u001b[0m=\u001b[32m'OperatorKron'\u001b[0m,\n",
       "            \u001b[33mop1\u001b[0m=\u001b[1;35mAnnihilation\u001b[0m\u001b[1m(\u001b[0m\u001b[33mclass_\u001b[0m=\u001b[32m'Annihilation'\u001b[0m\u001b[1m)\u001b[0m,\n",
       "            \u001b[33mop2\u001b[0m=\u001b[1;35mPauliX\u001b[0m\u001b[1m(\u001b[0m\u001b[33mclass_\u001b[0m=\u001b[32m'PauliX'\u001b[0m\u001b[1m)\u001b[0m\n",
       "        \u001b[1m)\u001b[0m,\n",
       "        \u001b[33mop2\u001b[0m=\u001b[1;35mCreation\u001b[0m\u001b[1m(\u001b[0m\u001b[33mclass_\u001b[0m=\u001b[32m'Creation'\u001b[0m\u001b[1m)\u001b[0m\n",
       "    \u001b[1m)\u001b[0m,\n",
       "    \u001b[33mop2\u001b[0m=\u001b[1;35mPauliY\u001b[0m\u001b[1m(\u001b[0m\u001b[33mclass_\u001b[0m=\u001b[32m'PauliY'\u001b[0m\u001b[1m)\u001b[0m\n",
       "\u001b[1m)\u001b[0m\n"
      ]
     },
     "metadata": {},
     "output_type": "display_data"
    },
    {
     "data": {
      "text/html": [
       "<pre style=\"white-space:pre;overflow-x:auto;line-height:normal;font-family:Menlo,'DejaVu Sans Mono',consolas,'Courier New',monospace\"><span style=\"color: #800080; text-decoration-color: #800080; font-weight: bold\">Annihilation</span><span style=\"font-weight: bold\">()</span> @ <span style=\"color: #800080; text-decoration-color: #800080; font-weight: bold\">PauliX</span><span style=\"font-weight: bold\">()</span> @ <span style=\"color: #800080; text-decoration-color: #800080; font-weight: bold\">Creation</span><span style=\"font-weight: bold\">()</span> @ <span style=\"color: #800080; text-decoration-color: #800080; font-weight: bold\">PauliY</span><span style=\"font-weight: bold\">()</span>\n",
       "</pre>\n"
      ],
      "text/plain": [
       "\u001b[1;35mAnnihilation\u001b[0m\u001b[1m(\u001b[0m\u001b[1m)\u001b[0m @ \u001b[1;35mPauliX\u001b[0m\u001b[1m(\u001b[0m\u001b[1m)\u001b[0m @ \u001b[1;35mCreation\u001b[0m\u001b[1m(\u001b[0m\u001b[1m)\u001b[0m @ \u001b[1;35mPauliY\u001b[0m\u001b[1m(\u001b[0m\u001b[1m)\u001b[0m\n"
      ]
     },
     "metadata": {},
     "output_type": "display_data"
    }
   ],
   "source": [
    "op = A @ X @ C @ Y\n",
    "\n",
    "pprint(op)\n",
    "pprint(op.accept(PrintOperator()))"
   ]
  },
  {
   "cell_type": "code",
   "execution_count": 19,
   "metadata": {},
   "outputs": [
    {
     "data": {
      "text/html": [
       "<pre style=\"white-space:pre;overflow-x:auto;line-height:normal;font-family:Menlo,'DejaVu Sans Mono',consolas,'Courier New',monospace\"><span style=\"color: #800080; text-decoration-color: #800080; font-weight: bold\">OperatorKron</span><span style=\"font-weight: bold\">(</span>\n",
       "    <span style=\"color: #808000; text-decoration-color: #808000\">class_</span>=<span style=\"color: #008000; text-decoration-color: #008000\">'OperatorKron'</span>,\n",
       "    <span style=\"color: #808000; text-decoration-color: #808000\">op1</span>=<span style=\"color: #800080; text-decoration-color: #800080; font-weight: bold\">OperatorKron</span><span style=\"font-weight: bold\">(</span>\n",
       "        <span style=\"color: #808000; text-decoration-color: #808000\">class_</span>=<span style=\"color: #008000; text-decoration-color: #008000\">'OperatorKron'</span>,\n",
       "        <span style=\"color: #808000; text-decoration-color: #808000\">op1</span>=<span style=\"color: #800080; text-decoration-color: #800080; font-weight: bold\">OperatorKron</span><span style=\"font-weight: bold\">(</span>\n",
       "            <span style=\"color: #808000; text-decoration-color: #808000\">class_</span>=<span style=\"color: #008000; text-decoration-color: #008000\">'OperatorKron'</span>,\n",
       "            <span style=\"color: #808000; text-decoration-color: #808000\">op1</span>=<span style=\"color: #800080; text-decoration-color: #800080; font-weight: bold\">PauliX</span><span style=\"font-weight: bold\">(</span><span style=\"color: #808000; text-decoration-color: #808000\">class_</span>=<span style=\"color: #008000; text-decoration-color: #008000\">'PauliX'</span><span style=\"font-weight: bold\">)</span>,\n",
       "            <span style=\"color: #808000; text-decoration-color: #808000\">op2</span>=<span style=\"color: #800080; text-decoration-color: #800080; font-weight: bold\">Annihilation</span><span style=\"font-weight: bold\">(</span><span style=\"color: #808000; text-decoration-color: #808000\">class_</span>=<span style=\"color: #008000; text-decoration-color: #008000\">'Annihilation'</span><span style=\"font-weight: bold\">)</span>\n",
       "        <span style=\"font-weight: bold\">)</span>,\n",
       "        <span style=\"color: #808000; text-decoration-color: #808000\">op2</span>=<span style=\"color: #800080; text-decoration-color: #800080; font-weight: bold\">PauliY</span><span style=\"font-weight: bold\">(</span><span style=\"color: #808000; text-decoration-color: #808000\">class_</span>=<span style=\"color: #008000; text-decoration-color: #008000\">'PauliY'</span><span style=\"font-weight: bold\">)</span>\n",
       "    <span style=\"font-weight: bold\">)</span>,\n",
       "    <span style=\"color: #808000; text-decoration-color: #808000\">op2</span>=<span style=\"color: #800080; text-decoration-color: #800080; font-weight: bold\">Creation</span><span style=\"font-weight: bold\">(</span><span style=\"color: #808000; text-decoration-color: #808000\">class_</span>=<span style=\"color: #008000; text-decoration-color: #008000\">'Creation'</span><span style=\"font-weight: bold\">)</span>\n",
       "<span style=\"font-weight: bold\">)</span>\n",
       "</pre>\n"
      ],
      "text/plain": [
       "\u001b[1;35mOperatorKron\u001b[0m\u001b[1m(\u001b[0m\n",
       "    \u001b[33mclass_\u001b[0m=\u001b[32m'OperatorKron'\u001b[0m,\n",
       "    \u001b[33mop1\u001b[0m=\u001b[1;35mOperatorKron\u001b[0m\u001b[1m(\u001b[0m\n",
       "        \u001b[33mclass_\u001b[0m=\u001b[32m'OperatorKron'\u001b[0m,\n",
       "        \u001b[33mop1\u001b[0m=\u001b[1;35mOperatorKron\u001b[0m\u001b[1m(\u001b[0m\n",
       "            \u001b[33mclass_\u001b[0m=\u001b[32m'OperatorKron'\u001b[0m,\n",
       "            \u001b[33mop1\u001b[0m=\u001b[1;35mPauliX\u001b[0m\u001b[1m(\u001b[0m\u001b[33mclass_\u001b[0m=\u001b[32m'PauliX'\u001b[0m\u001b[1m)\u001b[0m,\n",
       "            \u001b[33mop2\u001b[0m=\u001b[1;35mAnnihilation\u001b[0m\u001b[1m(\u001b[0m\u001b[33mclass_\u001b[0m=\u001b[32m'Annihilation'\u001b[0m\u001b[1m)\u001b[0m\n",
       "        \u001b[1m)\u001b[0m,\n",
       "        \u001b[33mop2\u001b[0m=\u001b[1;35mPauliY\u001b[0m\u001b[1m(\u001b[0m\u001b[33mclass_\u001b[0m=\u001b[32m'PauliY'\u001b[0m\u001b[1m)\u001b[0m\n",
       "    \u001b[1m)\u001b[0m,\n",
       "    \u001b[33mop2\u001b[0m=\u001b[1;35mCreation\u001b[0m\u001b[1m(\u001b[0m\u001b[33mclass_\u001b[0m=\u001b[32m'Creation'\u001b[0m\u001b[1m)\u001b[0m\n",
       "\u001b[1m)\u001b[0m\n"
      ]
     },
     "metadata": {},
     "output_type": "display_data"
    },
    {
     "data": {
      "text/html": [
       "<pre style=\"white-space:pre;overflow-x:auto;line-height:normal;font-family:Menlo,'DejaVu Sans Mono',consolas,'Courier New',monospace\"><span style=\"color: #800080; text-decoration-color: #800080; font-weight: bold\">PauliX</span><span style=\"font-weight: bold\">()</span> @ <span style=\"color: #800080; text-decoration-color: #800080; font-weight: bold\">Annihilation</span><span style=\"font-weight: bold\">()</span> @ <span style=\"color: #800080; text-decoration-color: #800080; font-weight: bold\">PauliY</span><span style=\"font-weight: bold\">()</span> @ <span style=\"color: #800080; text-decoration-color: #800080; font-weight: bold\">Creation</span><span style=\"font-weight: bold\">()</span>\n",
       "</pre>\n"
      ],
      "text/plain": [
       "\u001b[1;35mPauliX\u001b[0m\u001b[1m(\u001b[0m\u001b[1m)\u001b[0m @ \u001b[1;35mAnnihilation\u001b[0m\u001b[1m(\u001b[0m\u001b[1m)\u001b[0m @ \u001b[1;35mPauliY\u001b[0m\u001b[1m(\u001b[0m\u001b[1m)\u001b[0m @ \u001b[1;35mCreation\u001b[0m\u001b[1m(\u001b[0m\u001b[1m)\u001b[0m\n"
      ]
     },
     "metadata": {},
     "output_type": "display_data"
    }
   ],
   "source": [
    "op = op.accept(GatherPauli())\n",
    "op = op.accept(GatherPauli())\n",
    "\n",
    "pprint(op)\n",
    "pprint(op.accept(PrintOperator()))"
   ]
  },
  {
   "cell_type": "markdown",
   "metadata": {},
   "source": [
    "## Normal Order"
   ]
  },
  {
   "cell_type": "code",
   "execution_count": 20,
   "metadata": {},
   "outputs": [
    {
     "data": {
      "text/html": [
       "<pre style=\"white-space:pre;overflow-x:auto;line-height:normal;font-family:Menlo,'DejaVu Sans Mono',consolas,'Courier New',monospace\"><span style=\"color: #800080; text-decoration-color: #800080; font-weight: bold\">OperatorMul</span><span style=\"font-weight: bold\">(</span><span style=\"color: #808000; text-decoration-color: #808000\">class_</span>=<span style=\"color: #008000; text-decoration-color: #008000\">'OperatorMul'</span>, <span style=\"color: #808000; text-decoration-color: #808000\">op1</span>=<span style=\"color: #800080; text-decoration-color: #800080; font-weight: bold\">Annihilation</span><span style=\"font-weight: bold\">(</span><span style=\"color: #808000; text-decoration-color: #808000\">class_</span>=<span style=\"color: #008000; text-decoration-color: #008000\">'Annihilation'</span><span style=\"font-weight: bold\">)</span>, <span style=\"color: #808000; text-decoration-color: #808000\">op2</span>=<span style=\"color: #800080; text-decoration-color: #800080; font-weight: bold\">Creation</span><span style=\"font-weight: bold\">(</span><span style=\"color: #808000; text-decoration-color: #808000\">class_</span>=<span style=\"color: #008000; text-decoration-color: #008000\">'Creation'</span><span style=\"font-weight: bold\">))</span>\n",
       "</pre>\n"
      ],
      "text/plain": [
       "\u001b[1;35mOperatorMul\u001b[0m\u001b[1m(\u001b[0m\u001b[33mclass_\u001b[0m=\u001b[32m'OperatorMul'\u001b[0m, \u001b[33mop1\u001b[0m=\u001b[1;35mAnnihilation\u001b[0m\u001b[1m(\u001b[0m\u001b[33mclass_\u001b[0m=\u001b[32m'Annihilation'\u001b[0m\u001b[1m)\u001b[0m, \u001b[33mop2\u001b[0m=\u001b[1;35mCreation\u001b[0m\u001b[1m(\u001b[0m\u001b[33mclass_\u001b[0m=\u001b[32m'Creation'\u001b[0m\u001b[1m)\u001b[0m\u001b[1m)\u001b[0m\n"
      ]
     },
     "metadata": {},
     "output_type": "display_data"
    },
    {
     "data": {
      "text/html": [
       "<pre style=\"white-space:pre;overflow-x:auto;line-height:normal;font-family:Menlo,'DejaVu Sans Mono',consolas,'Courier New',monospace\"><span style=\"color: #800080; text-decoration-color: #800080; font-weight: bold\">Annihilation</span><span style=\"font-weight: bold\">()</span> * <span style=\"color: #800080; text-decoration-color: #800080; font-weight: bold\">Creation</span><span style=\"font-weight: bold\">()</span>\n",
       "</pre>\n"
      ],
      "text/plain": [
       "\u001b[1;35mAnnihilation\u001b[0m\u001b[1m(\u001b[0m\u001b[1m)\u001b[0m * \u001b[1;35mCreation\u001b[0m\u001b[1m(\u001b[0m\u001b[1m)\u001b[0m\n"
      ]
     },
     "metadata": {},
     "output_type": "display_data"
    }
   ],
   "source": [
    "op = A * C\n",
    "\n",
    "pprint(op)\n",
    "pprint(op.accept(PrintOperator()))"
   ]
  },
  {
   "cell_type": "code",
   "execution_count": 21,
   "metadata": {},
   "outputs": [
    {
     "data": {
      "text/html": [
       "<pre style=\"white-space:pre;overflow-x:auto;line-height:normal;font-family:Menlo,'DejaVu Sans Mono',consolas,'Courier New',monospace\"><span style=\"color: #800080; text-decoration-color: #800080; font-weight: bold\">OperatorSub</span><span style=\"font-weight: bold\">(</span>\n",
       "    <span style=\"color: #808000; text-decoration-color: #808000\">class_</span>=<span style=\"color: #008000; text-decoration-color: #008000\">'OperatorSub'</span>,\n",
       "    <span style=\"color: #808000; text-decoration-color: #808000\">op1</span>=<span style=\"color: #800080; text-decoration-color: #800080; font-weight: bold\">OperatorMul</span><span style=\"font-weight: bold\">(</span>\n",
       "        <span style=\"color: #808000; text-decoration-color: #808000\">class_</span>=<span style=\"color: #008000; text-decoration-color: #008000\">'OperatorMul'</span>,\n",
       "        <span style=\"color: #808000; text-decoration-color: #808000\">op1</span>=<span style=\"color: #800080; text-decoration-color: #800080; font-weight: bold\">Creation</span><span style=\"font-weight: bold\">(</span><span style=\"color: #808000; text-decoration-color: #808000\">class_</span>=<span style=\"color: #008000; text-decoration-color: #008000\">'Creation'</span><span style=\"font-weight: bold\">)</span>,\n",
       "        <span style=\"color: #808000; text-decoration-color: #808000\">op2</span>=<span style=\"color: #800080; text-decoration-color: #800080; font-weight: bold\">Annihilation</span><span style=\"font-weight: bold\">(</span><span style=\"color: #808000; text-decoration-color: #808000\">class_</span>=<span style=\"color: #008000; text-decoration-color: #008000\">'Annihilation'</span><span style=\"font-weight: bold\">)</span>\n",
       "    <span style=\"font-weight: bold\">)</span>,\n",
       "    <span style=\"color: #808000; text-decoration-color: #808000\">op2</span>=<span style=\"color: #800080; text-decoration-color: #800080; font-weight: bold\">Identity</span><span style=\"font-weight: bold\">(</span><span style=\"color: #808000; text-decoration-color: #808000\">class_</span>=<span style=\"color: #008000; text-decoration-color: #008000\">'Identity'</span><span style=\"font-weight: bold\">)</span>\n",
       "<span style=\"font-weight: bold\">)</span>\n",
       "</pre>\n"
      ],
      "text/plain": [
       "\u001b[1;35mOperatorSub\u001b[0m\u001b[1m(\u001b[0m\n",
       "    \u001b[33mclass_\u001b[0m=\u001b[32m'OperatorSub'\u001b[0m,\n",
       "    \u001b[33mop1\u001b[0m=\u001b[1;35mOperatorMul\u001b[0m\u001b[1m(\u001b[0m\n",
       "        \u001b[33mclass_\u001b[0m=\u001b[32m'OperatorMul'\u001b[0m,\n",
       "        \u001b[33mop1\u001b[0m=\u001b[1;35mCreation\u001b[0m\u001b[1m(\u001b[0m\u001b[33mclass_\u001b[0m=\u001b[32m'Creation'\u001b[0m\u001b[1m)\u001b[0m,\n",
       "        \u001b[33mop2\u001b[0m=\u001b[1;35mAnnihilation\u001b[0m\u001b[1m(\u001b[0m\u001b[33mclass_\u001b[0m=\u001b[32m'Annihilation'\u001b[0m\u001b[1m)\u001b[0m\n",
       "    \u001b[1m)\u001b[0m,\n",
       "    \u001b[33mop2\u001b[0m=\u001b[1;35mIdentity\u001b[0m\u001b[1m(\u001b[0m\u001b[33mclass_\u001b[0m=\u001b[32m'Identity'\u001b[0m\u001b[1m)\u001b[0m\n",
       "\u001b[1m)\u001b[0m\n"
      ]
     },
     "metadata": {},
     "output_type": "display_data"
    },
    {
     "data": {
      "text/html": [
       "<pre style=\"white-space:pre;overflow-x:auto;line-height:normal;font-family:Menlo,'DejaVu Sans Mono',consolas,'Courier New',monospace\"><span style=\"color: #800080; text-decoration-color: #800080; font-weight: bold\">Creation</span><span style=\"font-weight: bold\">()</span> * <span style=\"color: #800080; text-decoration-color: #800080; font-weight: bold\">Annihilation</span><span style=\"font-weight: bold\">()</span> - <span style=\"color: #800080; text-decoration-color: #800080; font-weight: bold\">Identity</span><span style=\"font-weight: bold\">()</span>\n",
       "</pre>\n"
      ],
      "text/plain": [
       "\u001b[1;35mCreation\u001b[0m\u001b[1m(\u001b[0m\u001b[1m)\u001b[0m * \u001b[1;35mAnnihilation\u001b[0m\u001b[1m(\u001b[0m\u001b[1m)\u001b[0m - \u001b[1;35mIdentity\u001b[0m\u001b[1m(\u001b[0m\u001b[1m)\u001b[0m\n"
      ]
     },
     "metadata": {},
     "output_type": "display_data"
    }
   ],
   "source": [
    "op = op.accept(NormalOrder())\n",
    "\n",
    "pprint(op)\n",
    "pprint(op.accept(PrintOperator()))"
   ]
  },
  {
   "cell_type": "markdown",
   "metadata": {},
   "source": [
    "## Term Index"
   ]
  },
  {
   "cell_type": "code",
   "execution_count": 22,
   "metadata": {},
   "outputs": [
    {
     "data": {
      "text/html": [
       "<pre style=\"white-space:pre;overflow-x:auto;line-height:normal;font-family:Menlo,'DejaVu Sans Mono',consolas,'Courier New',monospace\"><span style=\"color: #800080; text-decoration-color: #800080; font-weight: bold\">OperatorKron</span><span style=\"font-weight: bold\">(</span>\n",
       "    <span style=\"color: #808000; text-decoration-color: #808000\">class_</span>=<span style=\"color: #008000; text-decoration-color: #008000\">'OperatorKron'</span>,\n",
       "    <span style=\"color: #808000; text-decoration-color: #808000\">op1</span>=<span style=\"color: #800080; text-decoration-color: #800080; font-weight: bold\">OperatorKron</span><span style=\"font-weight: bold\">(</span>\n",
       "        <span style=\"color: #808000; text-decoration-color: #808000\">class_</span>=<span style=\"color: #008000; text-decoration-color: #008000\">'OperatorKron'</span>,\n",
       "        <span style=\"color: #808000; text-decoration-color: #808000\">op1</span>=<span style=\"color: #800080; text-decoration-color: #800080; font-weight: bold\">OperatorKron</span><span style=\"font-weight: bold\">(</span>\n",
       "            <span style=\"color: #808000; text-decoration-color: #808000\">class_</span>=<span style=\"color: #008000; text-decoration-color: #008000\">'OperatorKron'</span>,\n",
       "            <span style=\"color: #808000; text-decoration-color: #808000\">op1</span>=<span style=\"color: #800080; text-decoration-color: #800080; font-weight: bold\">OperatorKron</span><span style=\"font-weight: bold\">(</span>\n",
       "                <span style=\"color: #808000; text-decoration-color: #808000\">class_</span>=<span style=\"color: #008000; text-decoration-color: #008000\">'OperatorKron'</span>,\n",
       "                <span style=\"color: #808000; text-decoration-color: #808000\">op1</span>=<span style=\"color: #800080; text-decoration-color: #800080; font-weight: bold\">OperatorKron</span><span style=\"font-weight: bold\">(</span><span style=\"color: #808000; text-decoration-color: #808000\">class_</span>=<span style=\"color: #008000; text-decoration-color: #008000\">'OperatorKron'</span>, <span style=\"color: #808000; text-decoration-color: #808000\">op1</span>=<span style=\"color: #800080; text-decoration-color: #800080; font-weight: bold\">PauliX</span><span style=\"font-weight: bold\">(</span><span style=\"color: #808000; text-decoration-color: #808000\">class_</span>=<span style=\"color: #008000; text-decoration-color: #008000\">'PauliX'</span><span style=\"font-weight: bold\">)</span>, <span style=\"color: #808000; text-decoration-color: #808000\">op2</span>=<span style=\"color: #800080; text-decoration-color: #800080; font-weight: bold\">PauliY</span><span style=\"font-weight: bold\">(</span><span style=\"color: #808000; text-decoration-color: #808000\">class_</span>=<span style=\"color: #008000; text-decoration-color: #008000\">'PauliY'</span><span style=\"font-weight: bold\">))</span>,\n",
       "                <span style=\"color: #808000; text-decoration-color: #808000\">op2</span>=<span style=\"color: #800080; text-decoration-color: #800080; font-weight: bold\">PauliZ</span><span style=\"font-weight: bold\">(</span><span style=\"color: #808000; text-decoration-color: #808000\">class_</span>=<span style=\"color: #008000; text-decoration-color: #008000\">'PauliZ'</span><span style=\"font-weight: bold\">)</span>\n",
       "            <span style=\"font-weight: bold\">)</span>,\n",
       "            <span style=\"color: #808000; text-decoration-color: #808000\">op2</span>=<span style=\"color: #800080; text-decoration-color: #800080; font-weight: bold\">Annihilation</span><span style=\"font-weight: bold\">(</span><span style=\"color: #808000; text-decoration-color: #808000\">class_</span>=<span style=\"color: #008000; text-decoration-color: #008000\">'Annihilation'</span><span style=\"font-weight: bold\">)</span>\n",
       "        <span style=\"font-weight: bold\">)</span>,\n",
       "        <span style=\"color: #808000; text-decoration-color: #808000\">op2</span>=<span style=\"color: #800080; text-decoration-color: #800080; font-weight: bold\">Creation</span><span style=\"font-weight: bold\">(</span><span style=\"color: #808000; text-decoration-color: #808000\">class_</span>=<span style=\"color: #008000; text-decoration-color: #008000\">'Creation'</span><span style=\"font-weight: bold\">)</span>\n",
       "    <span style=\"font-weight: bold\">)</span>,\n",
       "    <span style=\"color: #808000; text-decoration-color: #808000\">op2</span>=<span style=\"color: #800080; text-decoration-color: #800080; font-weight: bold\">OperatorMul</span><span style=\"font-weight: bold\">(</span>\n",
       "        <span style=\"color: #808000; text-decoration-color: #808000\">class_</span>=<span style=\"color: #008000; text-decoration-color: #008000\">'OperatorMul'</span>,\n",
       "        <span style=\"color: #808000; text-decoration-color: #808000\">op1</span>=<span style=\"color: #800080; text-decoration-color: #800080; font-weight: bold\">Creation</span><span style=\"font-weight: bold\">(</span><span style=\"color: #808000; text-decoration-color: #808000\">class_</span>=<span style=\"color: #008000; text-decoration-color: #008000\">'Creation'</span><span style=\"font-weight: bold\">)</span>,\n",
       "        <span style=\"color: #808000; text-decoration-color: #808000\">op2</span>=<span style=\"color: #800080; text-decoration-color: #800080; font-weight: bold\">Annihilation</span><span style=\"font-weight: bold\">(</span><span style=\"color: #808000; text-decoration-color: #808000\">class_</span>=<span style=\"color: #008000; text-decoration-color: #008000\">'Annihilation'</span><span style=\"font-weight: bold\">)</span>\n",
       "    <span style=\"font-weight: bold\">)</span>\n",
       "<span style=\"font-weight: bold\">)</span>\n",
       "</pre>\n"
      ],
      "text/plain": [
       "\u001b[1;35mOperatorKron\u001b[0m\u001b[1m(\u001b[0m\n",
       "    \u001b[33mclass_\u001b[0m=\u001b[32m'OperatorKron'\u001b[0m,\n",
       "    \u001b[33mop1\u001b[0m=\u001b[1;35mOperatorKron\u001b[0m\u001b[1m(\u001b[0m\n",
       "        \u001b[33mclass_\u001b[0m=\u001b[32m'OperatorKron'\u001b[0m,\n",
       "        \u001b[33mop1\u001b[0m=\u001b[1;35mOperatorKron\u001b[0m\u001b[1m(\u001b[0m\n",
       "            \u001b[33mclass_\u001b[0m=\u001b[32m'OperatorKron'\u001b[0m,\n",
       "            \u001b[33mop1\u001b[0m=\u001b[1;35mOperatorKron\u001b[0m\u001b[1m(\u001b[0m\n",
       "                \u001b[33mclass_\u001b[0m=\u001b[32m'OperatorKron'\u001b[0m,\n",
       "                \u001b[33mop1\u001b[0m=\u001b[1;35mOperatorKron\u001b[0m\u001b[1m(\u001b[0m\u001b[33mclass_\u001b[0m=\u001b[32m'OperatorKron'\u001b[0m, \u001b[33mop1\u001b[0m=\u001b[1;35mPauliX\u001b[0m\u001b[1m(\u001b[0m\u001b[33mclass_\u001b[0m=\u001b[32m'PauliX'\u001b[0m\u001b[1m)\u001b[0m, \u001b[33mop2\u001b[0m=\u001b[1;35mPauliY\u001b[0m\u001b[1m(\u001b[0m\u001b[33mclass_\u001b[0m=\u001b[32m'PauliY'\u001b[0m\u001b[1m)\u001b[0m\u001b[1m)\u001b[0m,\n",
       "                \u001b[33mop2\u001b[0m=\u001b[1;35mPauliZ\u001b[0m\u001b[1m(\u001b[0m\u001b[33mclass_\u001b[0m=\u001b[32m'PauliZ'\u001b[0m\u001b[1m)\u001b[0m\n",
       "            \u001b[1m)\u001b[0m,\n",
       "            \u001b[33mop2\u001b[0m=\u001b[1;35mAnnihilation\u001b[0m\u001b[1m(\u001b[0m\u001b[33mclass_\u001b[0m=\u001b[32m'Annihilation'\u001b[0m\u001b[1m)\u001b[0m\n",
       "        \u001b[1m)\u001b[0m,\n",
       "        \u001b[33mop2\u001b[0m=\u001b[1;35mCreation\u001b[0m\u001b[1m(\u001b[0m\u001b[33mclass_\u001b[0m=\u001b[32m'Creation'\u001b[0m\u001b[1m)\u001b[0m\n",
       "    \u001b[1m)\u001b[0m,\n",
       "    \u001b[33mop2\u001b[0m=\u001b[1;35mOperatorMul\u001b[0m\u001b[1m(\u001b[0m\n",
       "        \u001b[33mclass_\u001b[0m=\u001b[32m'OperatorMul'\u001b[0m,\n",
       "        \u001b[33mop1\u001b[0m=\u001b[1;35mCreation\u001b[0m\u001b[1m(\u001b[0m\u001b[33mclass_\u001b[0m=\u001b[32m'Creation'\u001b[0m\u001b[1m)\u001b[0m,\n",
       "        \u001b[33mop2\u001b[0m=\u001b[1;35mAnnihilation\u001b[0m\u001b[1m(\u001b[0m\u001b[33mclass_\u001b[0m=\u001b[32m'Annihilation'\u001b[0m\u001b[1m)\u001b[0m\n",
       "    \u001b[1m)\u001b[0m\n",
       "\u001b[1m)\u001b[0m\n"
      ]
     },
     "metadata": {},
     "output_type": "display_data"
    },
    {
     "data": {
      "text/html": [
       "<pre style=\"white-space:pre;overflow-x:auto;line-height:normal;font-family:Menlo,'DejaVu Sans Mono',consolas,'Courier New',monospace\"><span style=\"color: #800080; text-decoration-color: #800080; font-weight: bold\">PauliX</span><span style=\"font-weight: bold\">()</span> @ <span style=\"color: #800080; text-decoration-color: #800080; font-weight: bold\">PauliY</span><span style=\"font-weight: bold\">()</span> @ <span style=\"color: #800080; text-decoration-color: #800080; font-weight: bold\">PauliZ</span><span style=\"font-weight: bold\">()</span> @ <span style=\"color: #800080; text-decoration-color: #800080; font-weight: bold\">Annihilation</span><span style=\"font-weight: bold\">()</span> @ <span style=\"color: #800080; text-decoration-color: #800080; font-weight: bold\">Creation</span><span style=\"font-weight: bold\">()</span> @ <span style=\"font-weight: bold\">(</span><span style=\"color: #800080; text-decoration-color: #800080; font-weight: bold\">Creation</span><span style=\"font-weight: bold\">()</span> * <span style=\"color: #800080; text-decoration-color: #800080; font-weight: bold\">Annihilation</span><span style=\"font-weight: bold\">())</span>\n",
       "</pre>\n"
      ],
      "text/plain": [
       "\u001b[1;35mPauliX\u001b[0m\u001b[1m(\u001b[0m\u001b[1m)\u001b[0m @ \u001b[1;35mPauliY\u001b[0m\u001b[1m(\u001b[0m\u001b[1m)\u001b[0m @ \u001b[1;35mPauliZ\u001b[0m\u001b[1m(\u001b[0m\u001b[1m)\u001b[0m @ \u001b[1;35mAnnihilation\u001b[0m\u001b[1m(\u001b[0m\u001b[1m)\u001b[0m @ \u001b[1;35mCreation\u001b[0m\u001b[1m(\u001b[0m\u001b[1m)\u001b[0m @ \u001b[1m(\u001b[0m\u001b[1;35mCreation\u001b[0m\u001b[1m(\u001b[0m\u001b[1m)\u001b[0m * \u001b[1;35mAnnihilation\u001b[0m\u001b[1m(\u001b[0m\u001b[1m)\u001b[0m\u001b[1m)\u001b[0m\n"
      ]
     },
     "metadata": {},
     "output_type": "display_data"
    }
   ],
   "source": [
    "op = X @ Y @ Z @ A @ C @ (C*A)\n",
    "\n",
    "pprint(op)\n",
    "pprint(op.accept(PrintOperator()))"
   ]
  },
  {
   "cell_type": "code",
   "execution_count": 23,
   "metadata": {},
   "outputs": [
    {
     "data": {
      "text/html": [
       "<pre style=\"white-space:pre;overflow-x:auto;line-height:normal;font-family:Menlo,'DejaVu Sans Mono',consolas,'Courier New',monospace\"><span style=\"font-weight: bold\">[</span><span style=\"color: #008080; text-decoration-color: #008080; font-weight: bold\">1</span>, <span style=\"color: #008080; text-decoration-color: #008080; font-weight: bold\">2</span>, <span style=\"color: #008080; text-decoration-color: #008080; font-weight: bold\">3</span>, <span style=\"color: #008080; text-decoration-color: #008080; font-weight: bold\">1</span>, <span style=\"color: #008080; text-decoration-color: #008080; font-weight: bold\">0</span>, <span style=\"color: #008080; text-decoration-color: #008080; font-weight: bold\">1</span>, <span style=\"color: #008080; text-decoration-color: #008080; font-weight: bold\">1</span>, <span style=\"color: #008080; text-decoration-color: #008080; font-weight: bold\">2</span>, <span style=\"color: #008080; text-decoration-color: #008080; font-weight: bold\">1</span><span style=\"font-weight: bold\">]</span>\n",
       "</pre>\n"
      ],
      "text/plain": [
       "\u001b[1m[\u001b[0m\u001b[1;36m1\u001b[0m, \u001b[1;36m2\u001b[0m, \u001b[1;36m3\u001b[0m, \u001b[1;36m1\u001b[0m, \u001b[1;36m0\u001b[0m, \u001b[1;36m1\u001b[0m, \u001b[1;36m1\u001b[0m, \u001b[1;36m2\u001b[0m, \u001b[1;36m1\u001b[0m\u001b[1m]\u001b[0m\n"
      ]
     },
     "metadata": {},
     "output_type": "display_data"
    }
   ],
   "source": [
    "pprint(op.accept(TermIndex()))"
   ]
  },
  {
   "cell_type": "markdown",
   "metadata": {},
   "source": [
    "## Sorted Order"
   ]
  },
  {
   "cell_type": "code",
   "execution_count": 24,
   "metadata": {},
   "outputs": [
    {
     "data": {
      "text/html": [
       "<pre style=\"white-space:pre;overflow-x:auto;line-height:normal;font-family:Menlo,'DejaVu Sans Mono',consolas,'Courier New',monospace\"><span style=\"color: #800080; text-decoration-color: #800080; font-weight: bold\">OperatorAdd</span><span style=\"font-weight: bold\">(</span>\n",
       "    <span style=\"color: #808000; text-decoration-color: #808000\">class_</span>=<span style=\"color: #008000; text-decoration-color: #008000\">'OperatorAdd'</span>,\n",
       "    <span style=\"color: #808000; text-decoration-color: #808000\">op1</span>=<span style=\"color: #800080; text-decoration-color: #800080; font-weight: bold\">OperatorAdd</span><span style=\"font-weight: bold\">(</span>\n",
       "        <span style=\"color: #808000; text-decoration-color: #808000\">class_</span>=<span style=\"color: #008000; text-decoration-color: #008000\">'OperatorAdd'</span>,\n",
       "        <span style=\"color: #808000; text-decoration-color: #808000\">op1</span>=<span style=\"color: #800080; text-decoration-color: #800080; font-weight: bold\">OperatorKron</span><span style=\"font-weight: bold\">(</span><span style=\"color: #808000; text-decoration-color: #808000\">class_</span>=<span style=\"color: #008000; text-decoration-color: #008000\">'OperatorKron'</span>, <span style=\"color: #808000; text-decoration-color: #808000\">op1</span>=<span style=\"color: #800080; text-decoration-color: #800080; font-weight: bold\">PauliX</span><span style=\"font-weight: bold\">(</span><span style=\"color: #808000; text-decoration-color: #808000\">class_</span>=<span style=\"color: #008000; text-decoration-color: #008000\">'PauliX'</span><span style=\"font-weight: bold\">)</span>, <span style=\"color: #808000; text-decoration-color: #808000\">op2</span>=<span style=\"color: #800080; text-decoration-color: #800080; font-weight: bold\">Creation</span><span style=\"font-weight: bold\">(</span><span style=\"color: #808000; text-decoration-color: #808000\">class_</span>=<span style=\"color: #008000; text-decoration-color: #008000\">'Creation'</span><span style=\"font-weight: bold\">))</span>,\n",
       "        <span style=\"color: #808000; text-decoration-color: #808000\">op2</span>=<span style=\"color: #800080; text-decoration-color: #800080; font-weight: bold\">OperatorKron</span><span style=\"font-weight: bold\">(</span><span style=\"color: #808000; text-decoration-color: #808000\">class_</span>=<span style=\"color: #008000; text-decoration-color: #008000\">'OperatorKron'</span>, <span style=\"color: #808000; text-decoration-color: #808000\">op1</span>=<span style=\"color: #800080; text-decoration-color: #800080; font-weight: bold\">PauliY</span><span style=\"font-weight: bold\">(</span><span style=\"color: #808000; text-decoration-color: #808000\">class_</span>=<span style=\"color: #008000; text-decoration-color: #008000\">'PauliY'</span><span style=\"font-weight: bold\">)</span>, <span style=\"color: #808000; text-decoration-color: #808000\">op2</span>=<span style=\"color: #800080; text-decoration-color: #800080; font-weight: bold\">Creation</span><span style=\"font-weight: bold\">(</span><span style=\"color: #808000; text-decoration-color: #808000\">class_</span>=<span style=\"color: #008000; text-decoration-color: #008000\">'Creation'</span><span style=\"font-weight: bold\">))</span>\n",
       "    <span style=\"font-weight: bold\">)</span>,\n",
       "    <span style=\"color: #808000; text-decoration-color: #808000\">op2</span>=<span style=\"color: #800080; text-decoration-color: #800080; font-weight: bold\">OperatorKron</span><span style=\"font-weight: bold\">(</span><span style=\"color: #808000; text-decoration-color: #808000\">class_</span>=<span style=\"color: #008000; text-decoration-color: #008000\">'OperatorKron'</span>, <span style=\"color: #808000; text-decoration-color: #808000\">op1</span>=<span style=\"color: #800080; text-decoration-color: #800080; font-weight: bold\">PauliX</span><span style=\"font-weight: bold\">(</span><span style=\"color: #808000; text-decoration-color: #808000\">class_</span>=<span style=\"color: #008000; text-decoration-color: #008000\">'PauliX'</span><span style=\"font-weight: bold\">)</span>, <span style=\"color: #808000; text-decoration-color: #808000\">op2</span>=<span style=\"color: #800080; text-decoration-color: #800080; font-weight: bold\">Annihilation</span><span style=\"font-weight: bold\">(</span><span style=\"color: #808000; text-decoration-color: #808000\">class_</span>=<span style=\"color: #008000; text-decoration-color: #008000\">'Annihilation'</span><span style=\"font-weight: bold\">))</span>\n",
       "<span style=\"font-weight: bold\">)</span>\n",
       "</pre>\n"
      ],
      "text/plain": [
       "\u001b[1;35mOperatorAdd\u001b[0m\u001b[1m(\u001b[0m\n",
       "    \u001b[33mclass_\u001b[0m=\u001b[32m'OperatorAdd'\u001b[0m,\n",
       "    \u001b[33mop1\u001b[0m=\u001b[1;35mOperatorAdd\u001b[0m\u001b[1m(\u001b[0m\n",
       "        \u001b[33mclass_\u001b[0m=\u001b[32m'OperatorAdd'\u001b[0m,\n",
       "        \u001b[33mop1\u001b[0m=\u001b[1;35mOperatorKron\u001b[0m\u001b[1m(\u001b[0m\u001b[33mclass_\u001b[0m=\u001b[32m'OperatorKron'\u001b[0m, \u001b[33mop1\u001b[0m=\u001b[1;35mPauliX\u001b[0m\u001b[1m(\u001b[0m\u001b[33mclass_\u001b[0m=\u001b[32m'PauliX'\u001b[0m\u001b[1m)\u001b[0m, \u001b[33mop2\u001b[0m=\u001b[1;35mCreation\u001b[0m\u001b[1m(\u001b[0m\u001b[33mclass_\u001b[0m=\u001b[32m'Creation'\u001b[0m\u001b[1m)\u001b[0m\u001b[1m)\u001b[0m,\n",
       "        \u001b[33mop2\u001b[0m=\u001b[1;35mOperatorKron\u001b[0m\u001b[1m(\u001b[0m\u001b[33mclass_\u001b[0m=\u001b[32m'OperatorKron'\u001b[0m, \u001b[33mop1\u001b[0m=\u001b[1;35mPauliY\u001b[0m\u001b[1m(\u001b[0m\u001b[33mclass_\u001b[0m=\u001b[32m'PauliY'\u001b[0m\u001b[1m)\u001b[0m, \u001b[33mop2\u001b[0m=\u001b[1;35mCreation\u001b[0m\u001b[1m(\u001b[0m\u001b[33mclass_\u001b[0m=\u001b[32m'Creation'\u001b[0m\u001b[1m)\u001b[0m\u001b[1m)\u001b[0m\n",
       "    \u001b[1m)\u001b[0m,\n",
       "    \u001b[33mop2\u001b[0m=\u001b[1;35mOperatorKron\u001b[0m\u001b[1m(\u001b[0m\u001b[33mclass_\u001b[0m=\u001b[32m'OperatorKron'\u001b[0m, \u001b[33mop1\u001b[0m=\u001b[1;35mPauliX\u001b[0m\u001b[1m(\u001b[0m\u001b[33mclass_\u001b[0m=\u001b[32m'PauliX'\u001b[0m\u001b[1m)\u001b[0m, \u001b[33mop2\u001b[0m=\u001b[1;35mAnnihilation\u001b[0m\u001b[1m(\u001b[0m\u001b[33mclass_\u001b[0m=\u001b[32m'Annihilation'\u001b[0m\u001b[1m)\u001b[0m\u001b[1m)\u001b[0m\n",
       "\u001b[1m)\u001b[0m\n"
      ]
     },
     "metadata": {},
     "output_type": "display_data"
    },
    {
     "data": {
      "text/html": [
       "<pre style=\"white-space:pre;overflow-x:auto;line-height:normal;font-family:Menlo,'DejaVu Sans Mono',consolas,'Courier New',monospace\"><span style=\"color: #800080; text-decoration-color: #800080; font-weight: bold\">PauliX</span><span style=\"font-weight: bold\">()</span> @ <span style=\"color: #800080; text-decoration-color: #800080; font-weight: bold\">Creation</span><span style=\"font-weight: bold\">()</span> + <span style=\"color: #800080; text-decoration-color: #800080; font-weight: bold\">PauliY</span><span style=\"font-weight: bold\">()</span> @ <span style=\"color: #800080; text-decoration-color: #800080; font-weight: bold\">Creation</span><span style=\"font-weight: bold\">()</span> + <span style=\"color: #800080; text-decoration-color: #800080; font-weight: bold\">PauliX</span><span style=\"font-weight: bold\">()</span> @ <span style=\"color: #800080; text-decoration-color: #800080; font-weight: bold\">Annihilation</span><span style=\"font-weight: bold\">()</span>\n",
       "</pre>\n"
      ],
      "text/plain": [
       "\u001b[1;35mPauliX\u001b[0m\u001b[1m(\u001b[0m\u001b[1m)\u001b[0m @ \u001b[1;35mCreation\u001b[0m\u001b[1m(\u001b[0m\u001b[1m)\u001b[0m + \u001b[1;35mPauliY\u001b[0m\u001b[1m(\u001b[0m\u001b[1m)\u001b[0m @ \u001b[1;35mCreation\u001b[0m\u001b[1m(\u001b[0m\u001b[1m)\u001b[0m + \u001b[1;35mPauliX\u001b[0m\u001b[1m(\u001b[0m\u001b[1m)\u001b[0m @ \u001b[1;35mAnnihilation\u001b[0m\u001b[1m(\u001b[0m\u001b[1m)\u001b[0m\n"
      ]
     },
     "metadata": {},
     "output_type": "display_data"
    }
   ],
   "source": [
    "op = X @ C + Y @ C + X @ A\n",
    "\n",
    "pprint(op)\n",
    "pprint(op.accept(PrintOperator()))"
   ]
  },
  {
   "cell_type": "code",
   "execution_count": 25,
   "metadata": {},
   "outputs": [
    {
     "data": {
      "text/html": [
       "<pre style=\"white-space:pre;overflow-x:auto;line-height:normal;font-family:Menlo,'DejaVu Sans Mono',consolas,'Courier New',monospace\"><span style=\"color: #800080; text-decoration-color: #800080; font-weight: bold\">OperatorAdd</span><span style=\"font-weight: bold\">(</span>\n",
       "    <span style=\"color: #808000; text-decoration-color: #808000\">class_</span>=<span style=\"color: #008000; text-decoration-color: #008000\">'OperatorAdd'</span>,\n",
       "    <span style=\"color: #808000; text-decoration-color: #808000\">op1</span>=<span style=\"color: #800080; text-decoration-color: #800080; font-weight: bold\">OperatorAdd</span><span style=\"font-weight: bold\">(</span>\n",
       "        <span style=\"color: #808000; text-decoration-color: #808000\">class_</span>=<span style=\"color: #008000; text-decoration-color: #008000\">'OperatorAdd'</span>,\n",
       "        <span style=\"color: #808000; text-decoration-color: #808000\">op1</span>=<span style=\"color: #800080; text-decoration-color: #800080; font-weight: bold\">OperatorKron</span><span style=\"font-weight: bold\">(</span>\n",
       "            <span style=\"color: #808000; text-decoration-color: #808000\">class_</span>=<span style=\"color: #008000; text-decoration-color: #008000\">'OperatorKron'</span>,\n",
       "            <span style=\"color: #808000; text-decoration-color: #808000\">op1</span>=<span style=\"color: #800080; text-decoration-color: #800080; font-weight: bold\">PauliX</span><span style=\"font-weight: bold\">(</span><span style=\"color: #808000; text-decoration-color: #808000\">class_</span>=<span style=\"color: #008000; text-decoration-color: #008000\">'PauliX'</span><span style=\"font-weight: bold\">)</span>,\n",
       "            <span style=\"color: #808000; text-decoration-color: #808000\">op2</span>=<span style=\"color: #800080; text-decoration-color: #800080; font-weight: bold\">Annihilation</span><span style=\"font-weight: bold\">(</span><span style=\"color: #808000; text-decoration-color: #808000\">class_</span>=<span style=\"color: #008000; text-decoration-color: #008000\">'Annihilation'</span><span style=\"font-weight: bold\">)</span>\n",
       "        <span style=\"font-weight: bold\">)</span>,\n",
       "        <span style=\"color: #808000; text-decoration-color: #808000\">op2</span>=<span style=\"color: #800080; text-decoration-color: #800080; font-weight: bold\">OperatorKron</span><span style=\"font-weight: bold\">(</span><span style=\"color: #808000; text-decoration-color: #808000\">class_</span>=<span style=\"color: #008000; text-decoration-color: #008000\">'OperatorKron'</span>, <span style=\"color: #808000; text-decoration-color: #808000\">op1</span>=<span style=\"color: #800080; text-decoration-color: #800080; font-weight: bold\">PauliX</span><span style=\"font-weight: bold\">(</span><span style=\"color: #808000; text-decoration-color: #808000\">class_</span>=<span style=\"color: #008000; text-decoration-color: #008000\">'PauliX'</span><span style=\"font-weight: bold\">)</span>, <span style=\"color: #808000; text-decoration-color: #808000\">op2</span>=<span style=\"color: #800080; text-decoration-color: #800080; font-weight: bold\">Creation</span><span style=\"font-weight: bold\">(</span><span style=\"color: #808000; text-decoration-color: #808000\">class_</span>=<span style=\"color: #008000; text-decoration-color: #008000\">'Creation'</span><span style=\"font-weight: bold\">))</span>\n",
       "    <span style=\"font-weight: bold\">)</span>,\n",
       "    <span style=\"color: #808000; text-decoration-color: #808000\">op2</span>=<span style=\"color: #800080; text-decoration-color: #800080; font-weight: bold\">OperatorKron</span><span style=\"font-weight: bold\">(</span><span style=\"color: #808000; text-decoration-color: #808000\">class_</span>=<span style=\"color: #008000; text-decoration-color: #008000\">'OperatorKron'</span>, <span style=\"color: #808000; text-decoration-color: #808000\">op1</span>=<span style=\"color: #800080; text-decoration-color: #800080; font-weight: bold\">PauliY</span><span style=\"font-weight: bold\">(</span><span style=\"color: #808000; text-decoration-color: #808000\">class_</span>=<span style=\"color: #008000; text-decoration-color: #008000\">'PauliY'</span><span style=\"font-weight: bold\">)</span>, <span style=\"color: #808000; text-decoration-color: #808000\">op2</span>=<span style=\"color: #800080; text-decoration-color: #800080; font-weight: bold\">Creation</span><span style=\"font-weight: bold\">(</span><span style=\"color: #808000; text-decoration-color: #808000\">class_</span>=<span style=\"color: #008000; text-decoration-color: #008000\">'Creation'</span><span style=\"font-weight: bold\">))</span>\n",
       "<span style=\"font-weight: bold\">)</span>\n",
       "</pre>\n"
      ],
      "text/plain": [
       "\u001b[1;35mOperatorAdd\u001b[0m\u001b[1m(\u001b[0m\n",
       "    \u001b[33mclass_\u001b[0m=\u001b[32m'OperatorAdd'\u001b[0m,\n",
       "    \u001b[33mop1\u001b[0m=\u001b[1;35mOperatorAdd\u001b[0m\u001b[1m(\u001b[0m\n",
       "        \u001b[33mclass_\u001b[0m=\u001b[32m'OperatorAdd'\u001b[0m,\n",
       "        \u001b[33mop1\u001b[0m=\u001b[1;35mOperatorKron\u001b[0m\u001b[1m(\u001b[0m\n",
       "            \u001b[33mclass_\u001b[0m=\u001b[32m'OperatorKron'\u001b[0m,\n",
       "            \u001b[33mop1\u001b[0m=\u001b[1;35mPauliX\u001b[0m\u001b[1m(\u001b[0m\u001b[33mclass_\u001b[0m=\u001b[32m'PauliX'\u001b[0m\u001b[1m)\u001b[0m,\n",
       "            \u001b[33mop2\u001b[0m=\u001b[1;35mAnnihilation\u001b[0m\u001b[1m(\u001b[0m\u001b[33mclass_\u001b[0m=\u001b[32m'Annihilation'\u001b[0m\u001b[1m)\u001b[0m\n",
       "        \u001b[1m)\u001b[0m,\n",
       "        \u001b[33mop2\u001b[0m=\u001b[1;35mOperatorKron\u001b[0m\u001b[1m(\u001b[0m\u001b[33mclass_\u001b[0m=\u001b[32m'OperatorKron'\u001b[0m, \u001b[33mop1\u001b[0m=\u001b[1;35mPauliX\u001b[0m\u001b[1m(\u001b[0m\u001b[33mclass_\u001b[0m=\u001b[32m'PauliX'\u001b[0m\u001b[1m)\u001b[0m, \u001b[33mop2\u001b[0m=\u001b[1;35mCreation\u001b[0m\u001b[1m(\u001b[0m\u001b[33mclass_\u001b[0m=\u001b[32m'Creation'\u001b[0m\u001b[1m)\u001b[0m\u001b[1m)\u001b[0m\n",
       "    \u001b[1m)\u001b[0m,\n",
       "    \u001b[33mop2\u001b[0m=\u001b[1;35mOperatorKron\u001b[0m\u001b[1m(\u001b[0m\u001b[33mclass_\u001b[0m=\u001b[32m'OperatorKron'\u001b[0m, \u001b[33mop1\u001b[0m=\u001b[1;35mPauliY\u001b[0m\u001b[1m(\u001b[0m\u001b[33mclass_\u001b[0m=\u001b[32m'PauliY'\u001b[0m\u001b[1m)\u001b[0m, \u001b[33mop2\u001b[0m=\u001b[1;35mCreation\u001b[0m\u001b[1m(\u001b[0m\u001b[33mclass_\u001b[0m=\u001b[32m'Creation'\u001b[0m\u001b[1m)\u001b[0m\u001b[1m)\u001b[0m\n",
       "\u001b[1m)\u001b[0m\n"
      ]
     },
     "metadata": {},
     "output_type": "display_data"
    },
    {
     "data": {
      "text/html": [
       "<pre style=\"white-space:pre;overflow-x:auto;line-height:normal;font-family:Menlo,'DejaVu Sans Mono',consolas,'Courier New',monospace\"><span style=\"color: #800080; text-decoration-color: #800080; font-weight: bold\">PauliX</span><span style=\"font-weight: bold\">()</span> @ <span style=\"color: #800080; text-decoration-color: #800080; font-weight: bold\">Annihilation</span><span style=\"font-weight: bold\">()</span> + <span style=\"color: #800080; text-decoration-color: #800080; font-weight: bold\">PauliX</span><span style=\"font-weight: bold\">()</span> @ <span style=\"color: #800080; text-decoration-color: #800080; font-weight: bold\">Creation</span><span style=\"font-weight: bold\">()</span> + <span style=\"color: #800080; text-decoration-color: #800080; font-weight: bold\">PauliY</span><span style=\"font-weight: bold\">()</span> @ <span style=\"color: #800080; text-decoration-color: #800080; font-weight: bold\">Creation</span><span style=\"font-weight: bold\">()</span>\n",
       "</pre>\n"
      ],
      "text/plain": [
       "\u001b[1;35mPauliX\u001b[0m\u001b[1m(\u001b[0m\u001b[1m)\u001b[0m @ \u001b[1;35mAnnihilation\u001b[0m\u001b[1m(\u001b[0m\u001b[1m)\u001b[0m + \u001b[1;35mPauliX\u001b[0m\u001b[1m(\u001b[0m\u001b[1m)\u001b[0m @ \u001b[1;35mCreation\u001b[0m\u001b[1m(\u001b[0m\u001b[1m)\u001b[0m + \u001b[1;35mPauliY\u001b[0m\u001b[1m(\u001b[0m\u001b[1m)\u001b[0m @ \u001b[1;35mCreation\u001b[0m\u001b[1m(\u001b[0m\u001b[1m)\u001b[0m\n"
      ]
     },
     "metadata": {},
     "output_type": "display_data"
    },
    {
     "data": {
      "text/html": [
       "<pre style=\"white-space:pre;overflow-x:auto;line-height:normal;font-family:Menlo,'DejaVu Sans Mono',consolas,'Courier New',monospace\"><span style=\"font-weight: bold\">[[</span><span style=\"color: #008080; text-decoration-color: #008080; font-weight: bold\">1</span>, <span style=\"color: #008080; text-decoration-color: #008080; font-weight: bold\">1</span>, <span style=\"color: #008080; text-decoration-color: #008080; font-weight: bold\">0</span><span style=\"font-weight: bold\">]</span>, <span style=\"font-weight: bold\">[</span><span style=\"color: #008080; text-decoration-color: #008080; font-weight: bold\">1</span>, <span style=\"color: #008080; text-decoration-color: #008080; font-weight: bold\">1</span>, <span style=\"color: #008080; text-decoration-color: #008080; font-weight: bold\">1</span><span style=\"font-weight: bold\">]</span>, <span style=\"font-weight: bold\">[</span><span style=\"color: #008080; text-decoration-color: #008080; font-weight: bold\">2</span>, <span style=\"color: #008080; text-decoration-color: #008080; font-weight: bold\">1</span>, <span style=\"color: #008080; text-decoration-color: #008080; font-weight: bold\">1</span><span style=\"font-weight: bold\">]]</span>\n",
       "</pre>\n"
      ],
      "text/plain": [
       "\u001b[1m[\u001b[0m\u001b[1m[\u001b[0m\u001b[1;36m1\u001b[0m, \u001b[1;36m1\u001b[0m, \u001b[1;36m0\u001b[0m\u001b[1m]\u001b[0m, \u001b[1m[\u001b[0m\u001b[1;36m1\u001b[0m, \u001b[1;36m1\u001b[0m, \u001b[1;36m1\u001b[0m\u001b[1m]\u001b[0m, \u001b[1m[\u001b[0m\u001b[1;36m2\u001b[0m, \u001b[1;36m1\u001b[0m, \u001b[1;36m1\u001b[0m\u001b[1m]\u001b[0m\u001b[1m]\u001b[0m\n"
      ]
     },
     "metadata": {},
     "output_type": "display_data"
    }
   ],
   "source": [
    "op = op.accept(SortedOrder())\n",
    "\n",
    "pprint(op)\n",
    "pprint(op.accept(PrintOperator()))\n",
    "pprint(op.accept(TermIndex()))"
   ]
  },
  {
   "cell_type": "markdown",
   "metadata": {},
   "source": [
    "## Pauli Algebra"
   ]
  },
  {
   "cell_type": "code",
   "execution_count": 26,
   "metadata": {},
   "outputs": [
    {
     "data": {
      "text/html": [
       "<pre style=\"white-space:pre;overflow-x:auto;line-height:normal;font-family:Menlo,'DejaVu Sans Mono',consolas,'Courier New',monospace\"><span style=\"color: #800080; text-decoration-color: #800080; font-weight: bold\">OperatorMul</span><span style=\"font-weight: bold\">(</span><span style=\"color: #808000; text-decoration-color: #808000\">class_</span>=<span style=\"color: #008000; text-decoration-color: #008000\">'OperatorMul'</span>, <span style=\"color: #808000; text-decoration-color: #808000\">op1</span>=<span style=\"color: #800080; text-decoration-color: #800080; font-weight: bold\">PauliX</span><span style=\"font-weight: bold\">(</span><span style=\"color: #808000; text-decoration-color: #808000\">class_</span>=<span style=\"color: #008000; text-decoration-color: #008000\">'PauliX'</span><span style=\"font-weight: bold\">)</span>, <span style=\"color: #808000; text-decoration-color: #808000\">op2</span>=<span style=\"color: #800080; text-decoration-color: #800080; font-weight: bold\">PauliY</span><span style=\"font-weight: bold\">(</span><span style=\"color: #808000; text-decoration-color: #808000\">class_</span>=<span style=\"color: #008000; text-decoration-color: #008000\">'PauliY'</span><span style=\"font-weight: bold\">))</span>\n",
       "</pre>\n"
      ],
      "text/plain": [
       "\u001b[1;35mOperatorMul\u001b[0m\u001b[1m(\u001b[0m\u001b[33mclass_\u001b[0m=\u001b[32m'OperatorMul'\u001b[0m, \u001b[33mop1\u001b[0m=\u001b[1;35mPauliX\u001b[0m\u001b[1m(\u001b[0m\u001b[33mclass_\u001b[0m=\u001b[32m'PauliX'\u001b[0m\u001b[1m)\u001b[0m, \u001b[33mop2\u001b[0m=\u001b[1;35mPauliY\u001b[0m\u001b[1m(\u001b[0m\u001b[33mclass_\u001b[0m=\u001b[32m'PauliY'\u001b[0m\u001b[1m)\u001b[0m\u001b[1m)\u001b[0m\n"
      ]
     },
     "metadata": {},
     "output_type": "display_data"
    },
    {
     "data": {
      "text/html": [
       "<pre style=\"white-space:pre;overflow-x:auto;line-height:normal;font-family:Menlo,'DejaVu Sans Mono',consolas,'Courier New',monospace\"><span style=\"color: #800080; text-decoration-color: #800080; font-weight: bold\">PauliX</span><span style=\"font-weight: bold\">()</span> * <span style=\"color: #800080; text-decoration-color: #800080; font-weight: bold\">PauliY</span><span style=\"font-weight: bold\">()</span>\n",
       "</pre>\n"
      ],
      "text/plain": [
       "\u001b[1;35mPauliX\u001b[0m\u001b[1m(\u001b[0m\u001b[1m)\u001b[0m * \u001b[1;35mPauliY\u001b[0m\u001b[1m(\u001b[0m\u001b[1m)\u001b[0m\n"
      ]
     },
     "metadata": {},
     "output_type": "display_data"
    }
   ],
   "source": [
    "op = X * Y\n",
    "\n",
    "pprint(op)\n",
    "pprint(op.accept(PrintOperator()))"
   ]
  },
  {
   "cell_type": "code",
   "execution_count": 27,
   "metadata": {},
   "outputs": [
    {
     "data": {
      "text/html": [
       "<pre style=\"white-space:pre;overflow-x:auto;line-height:normal;font-family:Menlo,'DejaVu Sans Mono',consolas,'Courier New',monospace\"><span style=\"color: #800080; text-decoration-color: #800080; font-weight: bold\">OperatorScalarMul</span><span style=\"font-weight: bold\">(</span><span style=\"color: #808000; text-decoration-color: #808000\">class_</span>=<span style=\"color: #008000; text-decoration-color: #008000\">'OperatorScalarMul'</span>, <span style=\"color: #808000; text-decoration-color: #808000\">op</span>=<span style=\"color: #800080; text-decoration-color: #800080; font-weight: bold\">PauliZ</span><span style=\"font-weight: bold\">(</span><span style=\"color: #808000; text-decoration-color: #808000\">class_</span>=<span style=\"color: #008000; text-decoration-color: #008000\">'PauliZ'</span><span style=\"font-weight: bold\">)</span>, <span style=\"color: #808000; text-decoration-color: #808000\">expr</span>=<span style=\"color: #800080; text-decoration-color: #800080; font-weight: bold\">MathImag</span><span style=\"font-weight: bold\">(</span><span style=\"color: #808000; text-decoration-color: #808000\">class_</span>=<span style=\"color: #008000; text-decoration-color: #008000\">'MathImag'</span><span style=\"font-weight: bold\">))</span>\n",
       "</pre>\n"
      ],
      "text/plain": [
       "\u001b[1;35mOperatorScalarMul\u001b[0m\u001b[1m(\u001b[0m\u001b[33mclass_\u001b[0m=\u001b[32m'OperatorScalarMul'\u001b[0m, \u001b[33mop\u001b[0m=\u001b[1;35mPauliZ\u001b[0m\u001b[1m(\u001b[0m\u001b[33mclass_\u001b[0m=\u001b[32m'PauliZ'\u001b[0m\u001b[1m)\u001b[0m, \u001b[33mexpr\u001b[0m=\u001b[1;35mMathImag\u001b[0m\u001b[1m(\u001b[0m\u001b[33mclass_\u001b[0m=\u001b[32m'MathImag'\u001b[0m\u001b[1m)\u001b[0m\u001b[1m)\u001b[0m\n"
      ]
     },
     "metadata": {},
     "output_type": "display_data"
    },
    {
     "data": {
      "text/html": [
       "<pre style=\"white-space:pre;overflow-x:auto;line-height:normal;font-family:Menlo,'DejaVu Sans Mono',consolas,'Courier New',monospace\"><span style=\"font-weight: bold\">(</span><span style=\"color: #008080; text-decoration-color: #008080; font-weight: bold\">1j</span><span style=\"font-weight: bold\">)</span> * <span style=\"color: #800080; text-decoration-color: #800080; font-weight: bold\">PauliZ</span><span style=\"font-weight: bold\">()</span>\n",
       "</pre>\n"
      ],
      "text/plain": [
       "\u001b[1m(\u001b[0m\u001b[1;36m1j\u001b[0m\u001b[1m)\u001b[0m * \u001b[1;35mPauliZ\u001b[0m\u001b[1m(\u001b[0m\u001b[1m)\u001b[0m\n"
      ]
     },
     "metadata": {},
     "output_type": "display_data"
    }
   ],
   "source": [
    "op = op.accept(PauliAlgebra())\n",
    "\n",
    "pprint(op)\n",
    "pprint(op.accept(PrintOperator()))"
   ]
  },
  {
   "cell_type": "markdown",
   "metadata": {},
   "source": [
    "## Prune Identity"
   ]
  },
  {
   "cell_type": "code",
   "execution_count": 28,
   "metadata": {},
   "outputs": [
    {
     "data": {
      "text/html": [
       "<pre style=\"white-space:pre;overflow-x:auto;line-height:normal;font-family:Menlo,'DejaVu Sans Mono',consolas,'Courier New',monospace\"><span style=\"color: #800080; text-decoration-color: #800080; font-weight: bold\">OperatorMul</span><span style=\"font-weight: bold\">(</span>\n",
       "    <span style=\"color: #808000; text-decoration-color: #808000\">class_</span>=<span style=\"color: #008000; text-decoration-color: #008000\">'OperatorMul'</span>,\n",
       "    <span style=\"color: #808000; text-decoration-color: #808000\">op1</span>=<span style=\"color: #800080; text-decoration-color: #800080; font-weight: bold\">OperatorMul</span><span style=\"font-weight: bold\">(</span>\n",
       "        <span style=\"color: #808000; text-decoration-color: #808000\">class_</span>=<span style=\"color: #008000; text-decoration-color: #008000\">'OperatorMul'</span>,\n",
       "        <span style=\"color: #808000; text-decoration-color: #808000\">op1</span>=<span style=\"color: #800080; text-decoration-color: #800080; font-weight: bold\">OperatorMul</span><span style=\"font-weight: bold\">(</span>\n",
       "            <span style=\"color: #808000; text-decoration-color: #808000\">class_</span>=<span style=\"color: #008000; text-decoration-color: #008000\">'OperatorMul'</span>,\n",
       "            <span style=\"color: #808000; text-decoration-color: #808000\">op1</span>=<span style=\"color: #800080; text-decoration-color: #800080; font-weight: bold\">OperatorMul</span><span style=\"font-weight: bold\">(</span>\n",
       "                <span style=\"color: #808000; text-decoration-color: #808000\">class_</span>=<span style=\"color: #008000; text-decoration-color: #008000\">'OperatorMul'</span>,\n",
       "                <span style=\"color: #808000; text-decoration-color: #808000\">op1</span>=<span style=\"color: #800080; text-decoration-color: #800080; font-weight: bold\">Annihilation</span><span style=\"font-weight: bold\">(</span><span style=\"color: #808000; text-decoration-color: #808000\">class_</span>=<span style=\"color: #008000; text-decoration-color: #008000\">'Annihilation'</span><span style=\"font-weight: bold\">)</span>,\n",
       "                <span style=\"color: #808000; text-decoration-color: #808000\">op2</span>=<span style=\"color: #800080; text-decoration-color: #800080; font-weight: bold\">Creation</span><span style=\"font-weight: bold\">(</span><span style=\"color: #808000; text-decoration-color: #808000\">class_</span>=<span style=\"color: #008000; text-decoration-color: #008000\">'Creation'</span><span style=\"font-weight: bold\">)</span>\n",
       "            <span style=\"font-weight: bold\">)</span>,\n",
       "            <span style=\"color: #808000; text-decoration-color: #808000\">op2</span>=<span style=\"color: #800080; text-decoration-color: #800080; font-weight: bold\">Creation</span><span style=\"font-weight: bold\">(</span><span style=\"color: #808000; text-decoration-color: #808000\">class_</span>=<span style=\"color: #008000; text-decoration-color: #008000\">'Creation'</span><span style=\"font-weight: bold\">)</span>\n",
       "        <span style=\"font-weight: bold\">)</span>,\n",
       "        <span style=\"color: #808000; text-decoration-color: #808000\">op2</span>=<span style=\"color: #800080; text-decoration-color: #800080; font-weight: bold\">Annihilation</span><span style=\"font-weight: bold\">(</span><span style=\"color: #808000; text-decoration-color: #808000\">class_</span>=<span style=\"color: #008000; text-decoration-color: #008000\">'Annihilation'</span><span style=\"font-weight: bold\">)</span>\n",
       "    <span style=\"font-weight: bold\">)</span>,\n",
       "    <span style=\"color: #808000; text-decoration-color: #808000\">op2</span>=<span style=\"color: #800080; text-decoration-color: #800080; font-weight: bold\">Creation</span><span style=\"font-weight: bold\">(</span><span style=\"color: #808000; text-decoration-color: #808000\">class_</span>=<span style=\"color: #008000; text-decoration-color: #008000\">'Creation'</span><span style=\"font-weight: bold\">)</span>\n",
       "<span style=\"font-weight: bold\">)</span>\n",
       "</pre>\n"
      ],
      "text/plain": [
       "\u001b[1;35mOperatorMul\u001b[0m\u001b[1m(\u001b[0m\n",
       "    \u001b[33mclass_\u001b[0m=\u001b[32m'OperatorMul'\u001b[0m,\n",
       "    \u001b[33mop1\u001b[0m=\u001b[1;35mOperatorMul\u001b[0m\u001b[1m(\u001b[0m\n",
       "        \u001b[33mclass_\u001b[0m=\u001b[32m'OperatorMul'\u001b[0m,\n",
       "        \u001b[33mop1\u001b[0m=\u001b[1;35mOperatorMul\u001b[0m\u001b[1m(\u001b[0m\n",
       "            \u001b[33mclass_\u001b[0m=\u001b[32m'OperatorMul'\u001b[0m,\n",
       "            \u001b[33mop1\u001b[0m=\u001b[1;35mOperatorMul\u001b[0m\u001b[1m(\u001b[0m\n",
       "                \u001b[33mclass_\u001b[0m=\u001b[32m'OperatorMul'\u001b[0m,\n",
       "                \u001b[33mop1\u001b[0m=\u001b[1;35mAnnihilation\u001b[0m\u001b[1m(\u001b[0m\u001b[33mclass_\u001b[0m=\u001b[32m'Annihilation'\u001b[0m\u001b[1m)\u001b[0m,\n",
       "                \u001b[33mop2\u001b[0m=\u001b[1;35mCreation\u001b[0m\u001b[1m(\u001b[0m\u001b[33mclass_\u001b[0m=\u001b[32m'Creation'\u001b[0m\u001b[1m)\u001b[0m\n",
       "            \u001b[1m)\u001b[0m,\n",
       "            \u001b[33mop2\u001b[0m=\u001b[1;35mCreation\u001b[0m\u001b[1m(\u001b[0m\u001b[33mclass_\u001b[0m=\u001b[32m'Creation'\u001b[0m\u001b[1m)\u001b[0m\n",
       "        \u001b[1m)\u001b[0m,\n",
       "        \u001b[33mop2\u001b[0m=\u001b[1;35mAnnihilation\u001b[0m\u001b[1m(\u001b[0m\u001b[33mclass_\u001b[0m=\u001b[32m'Annihilation'\u001b[0m\u001b[1m)\u001b[0m\n",
       "    \u001b[1m)\u001b[0m,\n",
       "    \u001b[33mop2\u001b[0m=\u001b[1;35mCreation\u001b[0m\u001b[1m(\u001b[0m\u001b[33mclass_\u001b[0m=\u001b[32m'Creation'\u001b[0m\u001b[1m)\u001b[0m\n",
       "\u001b[1m)\u001b[0m\n"
      ]
     },
     "metadata": {},
     "output_type": "display_data"
    },
    {
     "data": {
      "text/html": [
       "<pre style=\"white-space:pre;overflow-x:auto;line-height:normal;font-family:Menlo,'DejaVu Sans Mono',consolas,'Courier New',monospace\"><span style=\"color: #800080; text-decoration-color: #800080; font-weight: bold\">Annihilation</span><span style=\"font-weight: bold\">()</span> * <span style=\"color: #800080; text-decoration-color: #800080; font-weight: bold\">Creation</span><span style=\"font-weight: bold\">()</span> * <span style=\"color: #800080; text-decoration-color: #800080; font-weight: bold\">Creation</span><span style=\"font-weight: bold\">()</span> * <span style=\"color: #800080; text-decoration-color: #800080; font-weight: bold\">Annihilation</span><span style=\"font-weight: bold\">()</span> * <span style=\"color: #800080; text-decoration-color: #800080; font-weight: bold\">Creation</span><span style=\"font-weight: bold\">()</span>\n",
       "</pre>\n"
      ],
      "text/plain": [
       "\u001b[1;35mAnnihilation\u001b[0m\u001b[1m(\u001b[0m\u001b[1m)\u001b[0m * \u001b[1;35mCreation\u001b[0m\u001b[1m(\u001b[0m\u001b[1m)\u001b[0m * \u001b[1;35mCreation\u001b[0m\u001b[1m(\u001b[0m\u001b[1m)\u001b[0m * \u001b[1;35mAnnihilation\u001b[0m\u001b[1m(\u001b[0m\u001b[1m)\u001b[0m * \u001b[1;35mCreation\u001b[0m\u001b[1m(\u001b[0m\u001b[1m)\u001b[0m\n"
      ]
     },
     "metadata": {},
     "output_type": "display_data"
    }
   ],
   "source": [
    "op = A * C * C * A * C\n",
    "\n",
    "pprint(op)\n",
    "pprint(op.accept(PrintOperator()))"
   ]
  },
  {
   "cell_type": "code",
   "execution_count": 29,
   "metadata": {},
   "outputs": [
    {
     "data": {
      "text/html": [
       "<pre style=\"white-space:pre;overflow-x:auto;line-height:normal;font-family:Menlo,'DejaVu Sans Mono',consolas,'Courier New',monospace\"><span style=\"color: #800080; text-decoration-color: #800080; font-weight: bold\">Creation</span><span style=\"font-weight: bold\">()</span> * <span style=\"color: #800080; text-decoration-color: #800080; font-weight: bold\">Creation</span><span style=\"font-weight: bold\">()</span> * <span style=\"color: #800080; text-decoration-color: #800080; font-weight: bold\">Annihilation</span><span style=\"font-weight: bold\">()</span> * <span style=\"color: #800080; text-decoration-color: #800080; font-weight: bold\">Creation</span><span style=\"font-weight: bold\">()</span> * <span style=\"color: #800080; text-decoration-color: #800080; font-weight: bold\">Annihilation</span><span style=\"font-weight: bold\">()</span> - <span style=\"color: #800080; text-decoration-color: #800080; font-weight: bold\">Creation</span><span style=\"font-weight: bold\">()</span> * <span style=\"color: #800080; text-decoration-color: #800080; font-weight: bold\">Identity</span><span style=\"font-weight: bold\">()</span> * <span style=\"color: #800080; text-decoration-color: #800080; font-weight: bold\">Creation</span><span style=\"font-weight: bold\">()</span> * \n",
       "<span style=\"color: #800080; text-decoration-color: #800080; font-weight: bold\">Annihilation</span><span style=\"font-weight: bold\">()</span> + <span style=\"font-weight: bold\">(</span><span style=\"color: #008080; text-decoration-color: #008080; font-weight: bold\">-1</span><span style=\"font-weight: bold\">)</span> * <span style=\"font-weight: bold\">(</span><span style=\"color: #800080; text-decoration-color: #800080; font-weight: bold\">Creation</span><span style=\"font-weight: bold\">()</span> * <span style=\"color: #800080; text-decoration-color: #800080; font-weight: bold\">Identity</span><span style=\"font-weight: bold\">()</span> * <span style=\"color: #800080; text-decoration-color: #800080; font-weight: bold\">Creation</span><span style=\"font-weight: bold\">()</span> * <span style=\"color: #800080; text-decoration-color: #800080; font-weight: bold\">Annihilation</span><span style=\"font-weight: bold\">())</span> + <span style=\"font-weight: bold\">(</span><span style=\"color: #008080; text-decoration-color: #008080; font-weight: bold\">-1</span><span style=\"font-weight: bold\">)</span> * <span style=\"font-weight: bold\">(</span><span style=\"color: #800080; text-decoration-color: #800080; font-weight: bold\">Creation</span><span style=\"font-weight: bold\">()</span> * <span style=\"color: #800080; text-decoration-color: #800080; font-weight: bold\">Creation</span><span style=\"font-weight: bold\">()</span> *\n",
       "<span style=\"color: #800080; text-decoration-color: #800080; font-weight: bold\">Annihilation</span><span style=\"font-weight: bold\">()</span> * <span style=\"color: #800080; text-decoration-color: #800080; font-weight: bold\">Identity</span><span style=\"font-weight: bold\">()</span> - <span style=\"color: #800080; text-decoration-color: #800080; font-weight: bold\">Creation</span><span style=\"font-weight: bold\">()</span> * <span style=\"color: #800080; text-decoration-color: #800080; font-weight: bold\">Identity</span><span style=\"font-weight: bold\">()</span> * <span style=\"color: #800080; text-decoration-color: #800080; font-weight: bold\">Identity</span><span style=\"font-weight: bold\">())</span> - <span style=\"font-weight: bold\">(</span><span style=\"color: #008080; text-decoration-color: #008080; font-weight: bold\">-1</span><span style=\"font-weight: bold\">)</span> * <span style=\"font-weight: bold\">(</span><span style=\"color: #800080; text-decoration-color: #800080; font-weight: bold\">Creation</span><span style=\"font-weight: bold\">()</span> * <span style=\"color: #800080; text-decoration-color: #800080; font-weight: bold\">Identity</span><span style=\"font-weight: bold\">()</span> * <span style=\"color: #800080; text-decoration-color: #800080; font-weight: bold\">Identity</span><span style=\"font-weight: bold\">())</span>\n",
       "</pre>\n"
      ],
      "text/plain": [
       "\u001b[1;35mCreation\u001b[0m\u001b[1m(\u001b[0m\u001b[1m)\u001b[0m * \u001b[1;35mCreation\u001b[0m\u001b[1m(\u001b[0m\u001b[1m)\u001b[0m * \u001b[1;35mAnnihilation\u001b[0m\u001b[1m(\u001b[0m\u001b[1m)\u001b[0m * \u001b[1;35mCreation\u001b[0m\u001b[1m(\u001b[0m\u001b[1m)\u001b[0m * \u001b[1;35mAnnihilation\u001b[0m\u001b[1m(\u001b[0m\u001b[1m)\u001b[0m - \u001b[1;35mCreation\u001b[0m\u001b[1m(\u001b[0m\u001b[1m)\u001b[0m * \u001b[1;35mIdentity\u001b[0m\u001b[1m(\u001b[0m\u001b[1m)\u001b[0m * \u001b[1;35mCreation\u001b[0m\u001b[1m(\u001b[0m\u001b[1m)\u001b[0m * \n",
       "\u001b[1;35mAnnihilation\u001b[0m\u001b[1m(\u001b[0m\u001b[1m)\u001b[0m + \u001b[1m(\u001b[0m\u001b[1;36m-1\u001b[0m\u001b[1m)\u001b[0m * \u001b[1m(\u001b[0m\u001b[1;35mCreation\u001b[0m\u001b[1m(\u001b[0m\u001b[1m)\u001b[0m * \u001b[1;35mIdentity\u001b[0m\u001b[1m(\u001b[0m\u001b[1m)\u001b[0m * \u001b[1;35mCreation\u001b[0m\u001b[1m(\u001b[0m\u001b[1m)\u001b[0m * \u001b[1;35mAnnihilation\u001b[0m\u001b[1m(\u001b[0m\u001b[1m)\u001b[0m\u001b[1m)\u001b[0m + \u001b[1m(\u001b[0m\u001b[1;36m-1\u001b[0m\u001b[1m)\u001b[0m * \u001b[1m(\u001b[0m\u001b[1;35mCreation\u001b[0m\u001b[1m(\u001b[0m\u001b[1m)\u001b[0m * \u001b[1;35mCreation\u001b[0m\u001b[1m(\u001b[0m\u001b[1m)\u001b[0m *\n",
       "\u001b[1;35mAnnihilation\u001b[0m\u001b[1m(\u001b[0m\u001b[1m)\u001b[0m * \u001b[1;35mIdentity\u001b[0m\u001b[1m(\u001b[0m\u001b[1m)\u001b[0m - \u001b[1;35mCreation\u001b[0m\u001b[1m(\u001b[0m\u001b[1m)\u001b[0m * \u001b[1;35mIdentity\u001b[0m\u001b[1m(\u001b[0m\u001b[1m)\u001b[0m * \u001b[1;35mIdentity\u001b[0m\u001b[1m(\u001b[0m\u001b[1m)\u001b[0m\u001b[1m)\u001b[0m - \u001b[1m(\u001b[0m\u001b[1;36m-1\u001b[0m\u001b[1m)\u001b[0m * \u001b[1m(\u001b[0m\u001b[1;35mCreation\u001b[0m\u001b[1m(\u001b[0m\u001b[1m)\u001b[0m * \u001b[1;35mIdentity\u001b[0m\u001b[1m(\u001b[0m\u001b[1m)\u001b[0m * \u001b[1;35mIdentity\u001b[0m\u001b[1m(\u001b[0m\u001b[1m)\u001b[0m\u001b[1m)\u001b[0m\n"
      ]
     },
     "metadata": {},
     "output_type": "display_data"
    }
   ],
   "source": [
    "op = op.accept(NormalOrder())\n",
    "op = op.accept(OperatorDistribute())\n",
    "op = op.accept(NormalOrder())\n",
    "op = op.accept(OperatorDistribute())\n",
    "op = op.accept(NormalOrder())\n",
    "op = op.accept(OperatorDistribute())\n",
    "\n",
    "pprint(op.accept(PrintOperator()))"
   ]
  },
  {
   "cell_type": "code",
   "execution_count": 30,
   "metadata": {},
   "outputs": [
    {
     "data": {
      "text/html": [
       "<pre style=\"white-space:pre;overflow-x:auto;line-height:normal;font-family:Menlo,'DejaVu Sans Mono',consolas,'Courier New',monospace\"><span style=\"color: #800080; text-decoration-color: #800080; font-weight: bold\">Creation</span><span style=\"font-weight: bold\">()</span> * <span style=\"color: #800080; text-decoration-color: #800080; font-weight: bold\">Creation</span><span style=\"font-weight: bold\">()</span> * <span style=\"color: #800080; text-decoration-color: #800080; font-weight: bold\">Annihilation</span><span style=\"font-weight: bold\">()</span> * <span style=\"color: #800080; text-decoration-color: #800080; font-weight: bold\">Creation</span><span style=\"font-weight: bold\">()</span> * <span style=\"color: #800080; text-decoration-color: #800080; font-weight: bold\">Annihilation</span><span style=\"font-weight: bold\">()</span> - <span style=\"color: #800080; text-decoration-color: #800080; font-weight: bold\">Creation</span><span style=\"font-weight: bold\">()</span> * <span style=\"color: #800080; text-decoration-color: #800080; font-weight: bold\">Creation</span><span style=\"font-weight: bold\">()</span> * <span style=\"color: #800080; text-decoration-color: #800080; font-weight: bold\">Annihilation</span><span style=\"font-weight: bold\">()</span> +\n",
       "<span style=\"font-weight: bold\">(</span><span style=\"color: #008080; text-decoration-color: #008080; font-weight: bold\">-1</span><span style=\"font-weight: bold\">)</span> * <span style=\"font-weight: bold\">(</span><span style=\"color: #800080; text-decoration-color: #800080; font-weight: bold\">Creation</span><span style=\"font-weight: bold\">()</span> * <span style=\"color: #800080; text-decoration-color: #800080; font-weight: bold\">Creation</span><span style=\"font-weight: bold\">()</span> * <span style=\"color: #800080; text-decoration-color: #800080; font-weight: bold\">Annihilation</span><span style=\"font-weight: bold\">())</span> + <span style=\"font-weight: bold\">(</span><span style=\"color: #008080; text-decoration-color: #008080; font-weight: bold\">-1</span><span style=\"font-weight: bold\">)</span> * <span style=\"font-weight: bold\">(</span><span style=\"color: #800080; text-decoration-color: #800080; font-weight: bold\">Creation</span><span style=\"font-weight: bold\">()</span> * <span style=\"color: #800080; text-decoration-color: #800080; font-weight: bold\">Creation</span><span style=\"font-weight: bold\">()</span> * <span style=\"color: #800080; text-decoration-color: #800080; font-weight: bold\">Annihilation</span><span style=\"font-weight: bold\">()</span> - <span style=\"color: #800080; text-decoration-color: #800080; font-weight: bold\">Creation</span><span style=\"font-weight: bold\">())</span> \n",
       "- <span style=\"font-weight: bold\">(</span><span style=\"color: #008080; text-decoration-color: #008080; font-weight: bold\">-1</span><span style=\"font-weight: bold\">)</span> * <span style=\"color: #800080; text-decoration-color: #800080; font-weight: bold\">Creation</span><span style=\"font-weight: bold\">()</span>\n",
       "</pre>\n"
      ],
      "text/plain": [
       "\u001b[1;35mCreation\u001b[0m\u001b[1m(\u001b[0m\u001b[1m)\u001b[0m * \u001b[1;35mCreation\u001b[0m\u001b[1m(\u001b[0m\u001b[1m)\u001b[0m * \u001b[1;35mAnnihilation\u001b[0m\u001b[1m(\u001b[0m\u001b[1m)\u001b[0m * \u001b[1;35mCreation\u001b[0m\u001b[1m(\u001b[0m\u001b[1m)\u001b[0m * \u001b[1;35mAnnihilation\u001b[0m\u001b[1m(\u001b[0m\u001b[1m)\u001b[0m - \u001b[1;35mCreation\u001b[0m\u001b[1m(\u001b[0m\u001b[1m)\u001b[0m * \u001b[1;35mCreation\u001b[0m\u001b[1m(\u001b[0m\u001b[1m)\u001b[0m * \u001b[1;35mAnnihilation\u001b[0m\u001b[1m(\u001b[0m\u001b[1m)\u001b[0m +\n",
       "\u001b[1m(\u001b[0m\u001b[1;36m-1\u001b[0m\u001b[1m)\u001b[0m * \u001b[1m(\u001b[0m\u001b[1;35mCreation\u001b[0m\u001b[1m(\u001b[0m\u001b[1m)\u001b[0m * \u001b[1;35mCreation\u001b[0m\u001b[1m(\u001b[0m\u001b[1m)\u001b[0m * \u001b[1;35mAnnihilation\u001b[0m\u001b[1m(\u001b[0m\u001b[1m)\u001b[0m\u001b[1m)\u001b[0m + \u001b[1m(\u001b[0m\u001b[1;36m-1\u001b[0m\u001b[1m)\u001b[0m * \u001b[1m(\u001b[0m\u001b[1;35mCreation\u001b[0m\u001b[1m(\u001b[0m\u001b[1m)\u001b[0m * \u001b[1;35mCreation\u001b[0m\u001b[1m(\u001b[0m\u001b[1m)\u001b[0m * \u001b[1;35mAnnihilation\u001b[0m\u001b[1m(\u001b[0m\u001b[1m)\u001b[0m - \u001b[1;35mCreation\u001b[0m\u001b[1m(\u001b[0m\u001b[1m)\u001b[0m\u001b[1m)\u001b[0m \n",
       "- \u001b[1m(\u001b[0m\u001b[1;36m-1\u001b[0m\u001b[1m)\u001b[0m * \u001b[1;35mCreation\u001b[0m\u001b[1m(\u001b[0m\u001b[1m)\u001b[0m\n"
      ]
     },
     "metadata": {},
     "output_type": "display_data"
    }
   ],
   "source": [
    "op = op.accept(PruneIdentity())\n",
    "\n",
    "pprint(op.accept(PrintOperator()))"
   ]
  },
  {
   "cell_type": "markdown",
   "metadata": {},
   "source": [
    "# Example"
   ]
  },
  {
   "cell_type": "code",
   "execution_count": 31,
   "metadata": {},
   "outputs": [],
   "source": [
    "def repeat(model: Union[MathExpr, Operator], visitor: List[Visitor], verbose=True):\n",
    "    i = 0\n",
    "    while True:\n",
    "        _model = model.accept(visitor())\n",
    "        try:\n",
    "            model.accept(VerifyHilbertSpace())\n",
    "        except:\n",
    "            raise Exception(\"{}\".format(visitor.__name__))\n",
    "        if _model == model:\n",
    "            break\n",
    "        i += 1\n",
    "        model = _model\n",
    "\n",
    "        if verbose:\n",
    "            pprint(\n",
    "                \"\\n{:^20}:\".format(visitor.__name__ + str(i)),\n",
    "                \"\\n\" + model.accept(VerbosePrintOperator()),\n",
    "            )\n",
    "\n",
    "    print(\"Ran {} {} times\".format(visitor.__name__, i))\n",
    "    return model\n",
    "\n",
    "\n",
    "def multivisitor(\n",
    "    model: Union[MathExpr, Operator], visitors: List[Visitor], verbose=True\n",
    "):\n",
    "    for visitor in visitors:\n",
    "        model = repeat(model, visitor, verbose)\n",
    "    return model"
   ]
  },
  {
   "cell_type": "code",
   "execution_count": 32,
   "metadata": {},
   "outputs": [
    {
     "data": {
      "text/html": [
       "<pre style=\"white-space:pre;overflow-x:auto;line-height:normal;font-family:Menlo,'DejaVu Sans Mono',consolas,'Courier New',monospace\"><span style=\"color: #800080; text-decoration-color: #800080; font-weight: bold\">PauliX</span><span style=\"font-weight: bold\">()</span> @ <span style=\"color: #800080; text-decoration-color: #800080; font-weight: bold\">Creation</span><span style=\"font-weight: bold\">()</span> @ <span style=\"font-weight: bold\">(</span><span style=\"color: #800080; text-decoration-color: #800080; font-weight: bold\">PauliX</span><span style=\"font-weight: bold\">()</span> * <span style=\"color: #800080; text-decoration-color: #800080; font-weight: bold\">PauliY</span><span style=\"font-weight: bold\">())</span> @ <span style=\"font-weight: bold\">(</span><span style=\"color: #800080; text-decoration-color: #800080; font-weight: bold\">Annihilation</span><span style=\"font-weight: bold\">()</span> * <span style=\"color: #800080; text-decoration-color: #800080; font-weight: bold\">Creation</span><span style=\"font-weight: bold\">()</span> * <span style=\"color: #800080; text-decoration-color: #800080; font-weight: bold\">Creation</span><span style=\"font-weight: bold\">()</span> * <span style=\"color: #800080; text-decoration-color: #800080; font-weight: bold\">Annihilation</span><span style=\"font-weight: bold\">()</span> * \n",
       "<span style=\"color: #800080; text-decoration-color: #800080; font-weight: bold\">Creation</span><span style=\"font-weight: bold\">()</span> * <span style=\"color: #800080; text-decoration-color: #800080; font-weight: bold\">Creation</span><span style=\"font-weight: bold\">())</span> @ <span style=\"color: #800080; text-decoration-color: #800080; font-weight: bold\">PauliX</span><span style=\"font-weight: bold\">()</span> @ <span style=\"color: #800080; text-decoration-color: #800080; font-weight: bold\">PauliX</span><span style=\"font-weight: bold\">()</span> @ <span style=\"color: #800080; text-decoration-color: #800080; font-weight: bold\">Annihilation</span><span style=\"font-weight: bold\">()</span> @ <span style=\"color: #800080; text-decoration-color: #800080; font-weight: bold\">Creation</span><span style=\"font-weight: bold\">()</span>\n",
       "</pre>\n"
      ],
      "text/plain": [
       "\u001b[1;35mPauliX\u001b[0m\u001b[1m(\u001b[0m\u001b[1m)\u001b[0m @ \u001b[1;35mCreation\u001b[0m\u001b[1m(\u001b[0m\u001b[1m)\u001b[0m @ \u001b[1m(\u001b[0m\u001b[1;35mPauliX\u001b[0m\u001b[1m(\u001b[0m\u001b[1m)\u001b[0m * \u001b[1;35mPauliY\u001b[0m\u001b[1m(\u001b[0m\u001b[1m)\u001b[0m\u001b[1m)\u001b[0m @ \u001b[1m(\u001b[0m\u001b[1;35mAnnihilation\u001b[0m\u001b[1m(\u001b[0m\u001b[1m)\u001b[0m * \u001b[1;35mCreation\u001b[0m\u001b[1m(\u001b[0m\u001b[1m)\u001b[0m * \u001b[1;35mCreation\u001b[0m\u001b[1m(\u001b[0m\u001b[1m)\u001b[0m * \u001b[1;35mAnnihilation\u001b[0m\u001b[1m(\u001b[0m\u001b[1m)\u001b[0m * \n",
       "\u001b[1;35mCreation\u001b[0m\u001b[1m(\u001b[0m\u001b[1m)\u001b[0m * \u001b[1;35mCreation\u001b[0m\u001b[1m(\u001b[0m\u001b[1m)\u001b[0m\u001b[1m)\u001b[0m @ \u001b[1;35mPauliX\u001b[0m\u001b[1m(\u001b[0m\u001b[1m)\u001b[0m @ \u001b[1;35mPauliX\u001b[0m\u001b[1m(\u001b[0m\u001b[1m)\u001b[0m @ \u001b[1;35mAnnihilation\u001b[0m\u001b[1m(\u001b[0m\u001b[1m)\u001b[0m @ \u001b[1;35mCreation\u001b[0m\u001b[1m(\u001b[0m\u001b[1m)\u001b[0m\n"
      ]
     },
     "metadata": {},
     "output_type": "display_data"
    }
   ],
   "source": [
    "op = X @ C @ (X*Y) @ (A * C * C * A * C * C) @ (X @ X @ A @ C)\n",
    "\n",
    "pprint(op.accept(PrintOperator()))"
   ]
  },
  {
   "cell_type": "code",
   "execution_count": 35,
   "metadata": {},
   "outputs": [
    {
     "name": "stdout",
     "output_type": "stream",
     "text": [
      "========================================\n",
      "Ran OperatorDistribute 0 times\n",
      "Ran GatherMathExpr 0 times\n",
      "Ran ProperOrder 0 times\n",
      "Ran PauliAlgebra 0 times\n",
      "Ran GatherMathExpr 0 times\n",
      "Ran GatherPauli 0 times\n",
      "Ran NormalOrder 0 times\n",
      "Ran OperatorDistribute 0 times\n",
      "Ran GatherMathExpr 0 times\n",
      "Ran ProperOrder 0 times\n",
      "Ran PauliAlgebra 0 times\n",
      "Ran GatherMathExpr 0 times\n",
      "Ran GatherPauli 0 times\n",
      "Ran SortedOrder 0 times\n",
      "Ran PruneIdentity 0 times\n",
      "Ran DistributeMathExpr 0 times\n",
      "Ran ProperOrderMathExpr 0 times\n",
      "Ran PartitionMathExpr 0 times\n",
      "========================================\n"
     ]
    },
    {
     "data": {
      "text/html": [
       "<pre style=\"white-space:pre;overflow-x:auto;line-height:normal;font-family:Menlo,'DejaVu Sans Mono',consolas,'Courier New',monospace\"><span style=\"font-weight: bold\">(</span><span style=\"color: #008080; text-decoration-color: #008080; font-weight: bold\">1j</span> * <span style=\"color: #008080; text-decoration-color: #008080; font-weight: bold\">-1</span> * <span style=\"color: #008080; text-decoration-color: #008080; font-weight: bold\">-1</span> + <span style=\"color: #008080; text-decoration-color: #008080; font-weight: bold\">1j</span> * <span style=\"color: #008080; text-decoration-color: #008080; font-weight: bold\">-1</span> * <span style=\"color: #008080; text-decoration-color: #008080; font-weight: bold\">-1</span> + <span style=\"color: #008080; text-decoration-color: #008080; font-weight: bold\">1j</span> * <span style=\"color: #008080; text-decoration-color: #008080; font-weight: bold\">-1</span> * <span style=\"color: #008080; text-decoration-color: #008080; font-weight: bold\">-1</span> + <span style=\"color: #008080; text-decoration-color: #008080; font-weight: bold\">1j</span> * <span style=\"color: #008080; text-decoration-color: #008080; font-weight: bold\">-1</span> * <span style=\"color: #008080; text-decoration-color: #008080; font-weight: bold\">-1</span> + <span style=\"color: #008080; text-decoration-color: #008080; font-weight: bold\">1j</span> * <span style=\"color: #008080; text-decoration-color: #008080; font-weight: bold\">-1</span> * <span style=\"color: #008080; text-decoration-color: #008080; font-weight: bold\">-1</span> + <span style=\"color: #008080; text-decoration-color: #008080; font-weight: bold\">1j</span> * <span style=\"color: #008080; text-decoration-color: #008080; font-weight: bold\">-1</span> * <span style=\"color: #008080; text-decoration-color: #008080; font-weight: bold\">-1</span><span style=\"font-weight: bold\">)</span> * <span style=\"font-weight: bold\">(</span><span style=\"color: #800080; text-decoration-color: #800080; font-weight: bold\">PauliX</span><span style=\"font-weight: bold\">()</span> @ <span style=\"color: #800080; text-decoration-color: #800080; font-weight: bold\">PauliX</span><span style=\"font-weight: bold\">()</span> @ \n",
       "<span style=\"color: #800080; text-decoration-color: #800080; font-weight: bold\">PauliX</span><span style=\"font-weight: bold\">()</span> @ <span style=\"color: #800080; text-decoration-color: #800080; font-weight: bold\">PauliZ</span><span style=\"font-weight: bold\">()</span> @ <span style=\"color: #800080; text-decoration-color: #800080; font-weight: bold\">Creation</span><span style=\"font-weight: bold\">()</span> @ <span style=\"font-weight: bold\">(</span><span style=\"color: #800080; text-decoration-color: #800080; font-weight: bold\">Creation</span><span style=\"font-weight: bold\">()</span> * <span style=\"color: #800080; text-decoration-color: #800080; font-weight: bold\">Creation</span><span style=\"font-weight: bold\">())</span> @ <span style=\"color: #800080; text-decoration-color: #800080; font-weight: bold\">Annihilation</span><span style=\"font-weight: bold\">()</span> @ <span style=\"color: #800080; text-decoration-color: #800080; font-weight: bold\">Creation</span><span style=\"font-weight: bold\">())</span> + <span style=\"font-weight: bold\">(</span><span style=\"color: #008080; text-decoration-color: #008080; font-weight: bold\">1j</span> * <span style=\"color: #008080; text-decoration-color: #008080; font-weight: bold\">-1</span> + <span style=\"color: #008080; text-decoration-color: #008080; font-weight: bold\">1j</span> * <span style=\"color: #008080; text-decoration-color: #008080; font-weight: bold\">-1</span> + \n",
       "<span style=\"color: #008080; text-decoration-color: #008080; font-weight: bold\">1j</span> * <span style=\"color: #008080; text-decoration-color: #008080; font-weight: bold\">-1</span> + <span style=\"color: #008080; text-decoration-color: #008080; font-weight: bold\">1j</span> * <span style=\"color: #008080; text-decoration-color: #008080; font-weight: bold\">-1</span> + <span style=\"color: #008080; text-decoration-color: #008080; font-weight: bold\">1j</span> * <span style=\"color: #008080; text-decoration-color: #008080; font-weight: bold\">-1</span> + <span style=\"color: #008080; text-decoration-color: #008080; font-weight: bold\">1j</span> * <span style=\"color: #008080; text-decoration-color: #008080; font-weight: bold\">-1</span><span style=\"font-weight: bold\">)</span> * <span style=\"font-weight: bold\">(</span><span style=\"color: #800080; text-decoration-color: #800080; font-weight: bold\">PauliX</span><span style=\"font-weight: bold\">()</span> @ <span style=\"color: #800080; text-decoration-color: #800080; font-weight: bold\">PauliX</span><span style=\"font-weight: bold\">()</span> @ <span style=\"color: #800080; text-decoration-color: #800080; font-weight: bold\">PauliX</span><span style=\"font-weight: bold\">()</span> @ <span style=\"color: #800080; text-decoration-color: #800080; font-weight: bold\">PauliZ</span><span style=\"font-weight: bold\">()</span> @ <span style=\"color: #800080; text-decoration-color: #800080; font-weight: bold\">Creation</span><span style=\"font-weight: bold\">()</span> @ <span style=\"font-weight: bold\">(</span><span style=\"color: #800080; text-decoration-color: #800080; font-weight: bold\">Creation</span><span style=\"font-weight: bold\">()</span> * \n",
       "<span style=\"color: #800080; text-decoration-color: #800080; font-weight: bold\">Creation</span><span style=\"font-weight: bold\">()</span> * <span style=\"color: #800080; text-decoration-color: #800080; font-weight: bold\">Creation</span><span style=\"font-weight: bold\">()</span> * <span style=\"color: #800080; text-decoration-color: #800080; font-weight: bold\">Annihilation</span><span style=\"font-weight: bold\">())</span> @ <span style=\"color: #800080; text-decoration-color: #800080; font-weight: bold\">Annihilation</span><span style=\"font-weight: bold\">()</span> @ <span style=\"color: #800080; text-decoration-color: #800080; font-weight: bold\">Creation</span><span style=\"font-weight: bold\">())</span> + <span style=\"font-weight: bold\">(</span><span style=\"color: #008080; text-decoration-color: #008080; font-weight: bold\">1j</span><span style=\"font-weight: bold\">)</span> * <span style=\"font-weight: bold\">(</span><span style=\"color: #800080; text-decoration-color: #800080; font-weight: bold\">PauliX</span><span style=\"font-weight: bold\">()</span> @ <span style=\"color: #800080; text-decoration-color: #800080; font-weight: bold\">PauliX</span><span style=\"font-weight: bold\">()</span> @ <span style=\"color: #800080; text-decoration-color: #800080; font-weight: bold\">PauliX</span><span style=\"font-weight: bold\">()</span> @\n",
       "<span style=\"color: #800080; text-decoration-color: #800080; font-weight: bold\">PauliZ</span><span style=\"font-weight: bold\">()</span> @ <span style=\"color: #800080; text-decoration-color: #800080; font-weight: bold\">Creation</span><span style=\"font-weight: bold\">()</span> @ <span style=\"font-weight: bold\">(</span><span style=\"color: #800080; text-decoration-color: #800080; font-weight: bold\">Creation</span><span style=\"font-weight: bold\">()</span> * <span style=\"color: #800080; text-decoration-color: #800080; font-weight: bold\">Creation</span><span style=\"font-weight: bold\">()</span> * <span style=\"color: #800080; text-decoration-color: #800080; font-weight: bold\">Creation</span><span style=\"font-weight: bold\">()</span> * <span style=\"color: #800080; text-decoration-color: #800080; font-weight: bold\">Creation</span><span style=\"font-weight: bold\">()</span> * <span style=\"color: #800080; text-decoration-color: #800080; font-weight: bold\">Annihilation</span><span style=\"font-weight: bold\">()</span> * <span style=\"color: #800080; text-decoration-color: #800080; font-weight: bold\">Annihilation</span><span style=\"font-weight: bold\">())</span> @ \n",
       "<span style=\"color: #800080; text-decoration-color: #800080; font-weight: bold\">Annihilation</span><span style=\"font-weight: bold\">()</span> @ <span style=\"color: #800080; text-decoration-color: #800080; font-weight: bold\">Creation</span><span style=\"font-weight: bold\">())</span>\n",
       "</pre>\n"
      ],
      "text/plain": [
       "\u001b[1m(\u001b[0m\u001b[1;36m1j\u001b[0m * \u001b[1;36m-1\u001b[0m * \u001b[1;36m-1\u001b[0m + \u001b[1;36m1j\u001b[0m * \u001b[1;36m-1\u001b[0m * \u001b[1;36m-1\u001b[0m + \u001b[1;36m1j\u001b[0m * \u001b[1;36m-1\u001b[0m * \u001b[1;36m-1\u001b[0m + \u001b[1;36m1j\u001b[0m * \u001b[1;36m-1\u001b[0m * \u001b[1;36m-1\u001b[0m + \u001b[1;36m1j\u001b[0m * \u001b[1;36m-1\u001b[0m * \u001b[1;36m-1\u001b[0m + \u001b[1;36m1j\u001b[0m * \u001b[1;36m-1\u001b[0m * \u001b[1;36m-1\u001b[0m\u001b[1m)\u001b[0m * \u001b[1m(\u001b[0m\u001b[1;35mPauliX\u001b[0m\u001b[1m(\u001b[0m\u001b[1m)\u001b[0m @ \u001b[1;35mPauliX\u001b[0m\u001b[1m(\u001b[0m\u001b[1m)\u001b[0m @ \n",
       "\u001b[1;35mPauliX\u001b[0m\u001b[1m(\u001b[0m\u001b[1m)\u001b[0m @ \u001b[1;35mPauliZ\u001b[0m\u001b[1m(\u001b[0m\u001b[1m)\u001b[0m @ \u001b[1;35mCreation\u001b[0m\u001b[1m(\u001b[0m\u001b[1m)\u001b[0m @ \u001b[1m(\u001b[0m\u001b[1;35mCreation\u001b[0m\u001b[1m(\u001b[0m\u001b[1m)\u001b[0m * \u001b[1;35mCreation\u001b[0m\u001b[1m(\u001b[0m\u001b[1m)\u001b[0m\u001b[1m)\u001b[0m @ \u001b[1;35mAnnihilation\u001b[0m\u001b[1m(\u001b[0m\u001b[1m)\u001b[0m @ \u001b[1;35mCreation\u001b[0m\u001b[1m(\u001b[0m\u001b[1m)\u001b[0m\u001b[1m)\u001b[0m + \u001b[1m(\u001b[0m\u001b[1;36m1j\u001b[0m * \u001b[1;36m-1\u001b[0m + \u001b[1;36m1j\u001b[0m * \u001b[1;36m-1\u001b[0m + \n",
       "\u001b[1;36m1j\u001b[0m * \u001b[1;36m-1\u001b[0m + \u001b[1;36m1j\u001b[0m * \u001b[1;36m-1\u001b[0m + \u001b[1;36m1j\u001b[0m * \u001b[1;36m-1\u001b[0m + \u001b[1;36m1j\u001b[0m * \u001b[1;36m-1\u001b[0m\u001b[1m)\u001b[0m * \u001b[1m(\u001b[0m\u001b[1;35mPauliX\u001b[0m\u001b[1m(\u001b[0m\u001b[1m)\u001b[0m @ \u001b[1;35mPauliX\u001b[0m\u001b[1m(\u001b[0m\u001b[1m)\u001b[0m @ \u001b[1;35mPauliX\u001b[0m\u001b[1m(\u001b[0m\u001b[1m)\u001b[0m @ \u001b[1;35mPauliZ\u001b[0m\u001b[1m(\u001b[0m\u001b[1m)\u001b[0m @ \u001b[1;35mCreation\u001b[0m\u001b[1m(\u001b[0m\u001b[1m)\u001b[0m @ \u001b[1m(\u001b[0m\u001b[1;35mCreation\u001b[0m\u001b[1m(\u001b[0m\u001b[1m)\u001b[0m * \n",
       "\u001b[1;35mCreation\u001b[0m\u001b[1m(\u001b[0m\u001b[1m)\u001b[0m * \u001b[1;35mCreation\u001b[0m\u001b[1m(\u001b[0m\u001b[1m)\u001b[0m * \u001b[1;35mAnnihilation\u001b[0m\u001b[1m(\u001b[0m\u001b[1m)\u001b[0m\u001b[1m)\u001b[0m @ \u001b[1;35mAnnihilation\u001b[0m\u001b[1m(\u001b[0m\u001b[1m)\u001b[0m @ \u001b[1;35mCreation\u001b[0m\u001b[1m(\u001b[0m\u001b[1m)\u001b[0m\u001b[1m)\u001b[0m + \u001b[1m(\u001b[0m\u001b[1;36m1j\u001b[0m\u001b[1m)\u001b[0m * \u001b[1m(\u001b[0m\u001b[1;35mPauliX\u001b[0m\u001b[1m(\u001b[0m\u001b[1m)\u001b[0m @ \u001b[1;35mPauliX\u001b[0m\u001b[1m(\u001b[0m\u001b[1m)\u001b[0m @ \u001b[1;35mPauliX\u001b[0m\u001b[1m(\u001b[0m\u001b[1m)\u001b[0m @\n",
       "\u001b[1;35mPauliZ\u001b[0m\u001b[1m(\u001b[0m\u001b[1m)\u001b[0m @ \u001b[1;35mCreation\u001b[0m\u001b[1m(\u001b[0m\u001b[1m)\u001b[0m @ \u001b[1m(\u001b[0m\u001b[1;35mCreation\u001b[0m\u001b[1m(\u001b[0m\u001b[1m)\u001b[0m * \u001b[1;35mCreation\u001b[0m\u001b[1m(\u001b[0m\u001b[1m)\u001b[0m * \u001b[1;35mCreation\u001b[0m\u001b[1m(\u001b[0m\u001b[1m)\u001b[0m * \u001b[1;35mCreation\u001b[0m\u001b[1m(\u001b[0m\u001b[1m)\u001b[0m * \u001b[1;35mAnnihilation\u001b[0m\u001b[1m(\u001b[0m\u001b[1m)\u001b[0m * \u001b[1;35mAnnihilation\u001b[0m\u001b[1m(\u001b[0m\u001b[1m)\u001b[0m\u001b[1m)\u001b[0m @ \n",
       "\u001b[1;35mAnnihilation\u001b[0m\u001b[1m(\u001b[0m\u001b[1m)\u001b[0m @ \u001b[1;35mCreation\u001b[0m\u001b[1m(\u001b[0m\u001b[1m)\u001b[0m\u001b[1m)\u001b[0m\n"
      ]
     },
     "metadata": {},
     "output_type": "display_data"
    }
   ],
   "source": [
    "print(\"=\" * 40)\n",
    "while True:\n",
    "    _op = multivisitor(\n",
    "        op,\n",
    "        [\n",
    "            OperatorDistribute,\n",
    "            GatherMathExpr,\n",
    "            ProperOrder,\n",
    "            PauliAlgebra,\n",
    "            GatherMathExpr,\n",
    "            GatherPauli,\n",
    "            NormalOrder,\n",
    "            OperatorDistribute,\n",
    "            GatherMathExpr,\n",
    "            ProperOrder,\n",
    "            PauliAlgebra,\n",
    "            GatherMathExpr,\n",
    "            GatherPauli,\n",
    "            SortedOrder,\n",
    "            PruneIdentity,\n",
    "            DistributeMathExpr,\n",
    "            ProperOrderMathExpr,\n",
    "            PartitionMathExpr,\n",
    "        ],\n",
    "        verbose=False,\n",
    "    )\n",
    "    print(\"=\" * 40)\n",
    "    if op == _op:\n",
    "        break\n",
    "    op = _op\n",
    "\n",
    "pprint(op.accept(PrintOperator()))"
   ]
  },
  {
   "cell_type": "code",
   "execution_count": null,
   "metadata": {},
   "outputs": [],
   "source": []
  }
 ],
 "metadata": {
  "kernelspec": {
   "display_name": "frostenv",
   "language": "python",
   "name": "python3"
  },
  "language_info": {
   "codemirror_mode": {
    "name": "ipython",
    "version": 3
   },
   "file_extension": ".py",
   "mimetype": "text/x-python",
   "name": "python",
   "nbconvert_exporter": "python",
   "pygments_lexer": "ipython3",
   "version": "3.10.13"
  }
 },
 "nbformat": 4,
 "nbformat_minor": 2
}
