{
 "cells": [
  {
   "cell_type": "code",
   "execution_count": 8,
   "metadata": {},
   "outputs": [],
   "source": [
    "using QuantumOptics\n",
    "\n",
    "include(\"quantumoptics.jl\")\n",
    "include(\"ir.jl\")"
   ]
  },
  {
   "cell_type": "code",
   "execution_count": 9,
   "metadata": {},
   "outputs": [
    {
     "data": {
      "text/html": [
       "<style>\n",
       "@font-face {\n",
       "    font-family: JuliaMono;\n",
       "    src: local('JuliaMono'),\n",
       "    url(\"https://cdn.jsdelivr.net/gh/cormullion/juliamono/webfonts/JuliaMono-Regular.woff2\");\n",
       "}\n",
       ".configurations-option-type {\n",
       "    font-family: \"JuliaMono\";\n",
       "    font-size: 1em;\n",
       "}\n",
       ".configurations-option-type ul{\n",
       "    list-style-type: none;\n",
       "}\n",
       "\n",
       ".configurations-list ul {\n",
       "    list-style: none;\n",
       "}\n",
       "\n",
       ".configurations-bullet {\n",
       "    color: hsl(0, 0%, 25%, 0.7);\n",
       "    padding: 20px;\n",
       "}\n",
       "\n",
       ".configurations-option-head {\n",
       "    color: #5e7ad3;\n",
       "    cursor: pointer;\n",
       "    user-select: none;\n",
       "}\n",
       ".configurations-option-head::before {\n",
       "    content: \"\\25B6\";\n",
       "    color: black;\n",
       "    display: inline-block;\n",
       "    margin-right: 6px;\n",
       "}\n",
       ".configurations-option-head-down::before {\n",
       "    transform: rotate(90deg);\n",
       "}\n",
       ".configurations-option-fields {\n",
       "    display: none;\n",
       "}\n",
       ".configurations-option-active {\n",
       "    display: block;\n",
       "}\n",
       "</style>\n",
       "<script>\n",
       "var toggler = document.getElementsByClassName(\"configurations-option-head\");\n",
       "var i;\n",
       "\n",
       "for (i = 0; i < toggler.length; i++) {\n",
       "toggler[i].addEventListener(\"click\", function() {\n",
       "    this.parentElement.querySelector(\".configurations-option-fields\").classList.toggle(\"configurations-option-active\");\n",
       "    this.classList.toggle(\"configurations-option-head-down\");\n",
       "});\n",
       "}\n",
       "</script>\n",
       "<dev class=\"configurations-option-type\">\n",
       "    <ul>\n",
       "    <li><span class=\"configurations-option-head\">AnalogCircuit</span>\n",
       "<ul class=\"configurations-option-fields\"><li><span>sequence=</span><span>[</span><ul class=\"configurations-list\"><li><span class=\"configurations-bullet\">1.</span>    <ul>\n",
       "    <li><span class=\"configurations-option-head\">AnalogGate</span>\n",
       "<ul class=\"configurations-option-fields\"><li><span>duration=</span>1.0</li><li><span>unitary=</span><span>[</span><ul class=\"configurations-list\"><li><span class=\"configurations-bullet\">1.</span>    <ul>\n",
       "    <li><span class=\"configurations-option-head\">Operator</span>\n",
       "<ul class=\"configurations-option-fields\"><li><span>qreg=</span>[\"x\"]</li></ul>        </li>\n",
       "    </ul>\n",
       "</li><span>]</span></ul></li></ul>        </li>\n",
       "    </ul>\n",
       "</li><span>]</span></ul></li><li><span>n_qreg=</span>1</li><li><span>n_qmode=</span>0</li></ul>        </li>\n",
       "    </ul>\n",
       "</dev>"
      ],
      "text/plain": [
       "\u001B[32mAnalogCircuit\u001B[39m(;\n",
       "    \u001B[94msequence\u001B[39m = [\n",
       "        \u001B[32mAnalogGate\u001B[39m(;\n",
       "            \u001B[94mduration\u001B[39m = 1.0,\n",
       "            \u001B[94munitary\u001B[39m = [\n",
       "                \u001B[32mOperator\u001B[39m(;\n",
       "                    \u001B[94mqreg\u001B[39m = [\"x\"],\n",
       "                )            ],\n",
       "        )    ],\n",
       "    \u001B[94mn_qreg\u001B[39m = 1,\n",
       "    \u001B[94mn_qmode\u001B[39m = 0,\n",
       ")"
      ]
     },
     "execution_count": 9,
     "metadata": {},
     "output_type": "execute_result"
    }
   ],
   "source": [
    "circ = AnalogCircuit(\n",
    "    sequence=[\n",
    "        AnalogGate(\n",
    "            duration=1.0,\n",
    "            unitary=[Operator(coefficient=1.0, qreg=[\"x\"], qmode=[])]\n",
    "        )\n",
    "    ],\n",
    "    n_qreg = 1,\n",
    "    n_qmode = 0\n",
    ")"
   ]
  },
  {
   "cell_type": "code",
   "execution_count": 13,
   "metadata": {},
   "outputs": [
    {
     "name": "stdout",
     "output_type": "stream",
     "text": [
      "AnalogCircuit(Int64[], Int64[], AnalogGate[AnalogGate(1.0, Operator[Operator(1.0, [\"x\"], Vector{Int64}[])], Dissipation[])], 1, 0)\n",
      "Intial state:   Ket(dim=2)\n",
      "  basis: Spin(1/2)\n",
      " 1.0 + 0.0im\n",
      " 0.0 + 0.0im\n",
      "TaskResultAnalog(Dict{Int64, Int64}(), Dict{String, Vector{Union{Float64, Int64}}}(), [0.0, 0.1, 0.2, 0.3, 0.4, 0.5, 0.6, 0.7, 0.8, 0.9, 1.0])\n",
      "TaskResultAnalog(Dict{Int64, Int64}(), Dict{String, Vector{Union{Float64, Int64}}}(), [0.0, 0.1, 0.2, 0.3, 0.4, 0.5, 0.6, 0.7, 0.8, 0.9, 1.0])\n"
     ]
    }
   ],
   "source": [
    "args = TaskArgsAnalog(n_shots=10, fock_cutoff=2, dt=0.1)\n",
    "task = Task(program=circ, args=args)\n",
    "\n",
    "println(circ)\n",
    "result = evolve(task);\n",
    "println(result)"
   ]
  },
  {
   "cell_type": "code",
   "execution_count": null,
   "metadata": {},
   "outputs": [],
   "source": []
  }
 ],
 "metadata": {
  "kernelspec": {
   "display_name": "Julia 1.8.5",
   "language": "julia",
   "name": "julia-1.8"
  },
  "language_info": {
   "file_extension": ".jl",
   "mimetype": "application/julia",
   "name": "julia",
   "version": "1.8.5"
  },
  "orig_nbformat": 4
 },
 "nbformat": 4,
 "nbformat_minor": 2
}
